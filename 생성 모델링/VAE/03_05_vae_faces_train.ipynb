{
 "cells": [
  {
   "cell_type": "markdown",
   "metadata": {},
   "source": [
    "# 변이형 오토인코더 훈련 - 얼굴 데이터셋"
   ]
  },
  {
   "cell_type": "markdown",
   "metadata": {},
   "source": [
    "## 라이브러리 임포트"
   ]
  },
  {
   "cell_type": "code",
   "execution_count": 1,
   "metadata": {},
   "outputs": [],
   "source": [
    "import os\n",
    "from glob import glob\n",
    "import numpy as np\n",
    "\n",
    "from models.VAE import VariationalAutoencoder\n",
    "from keras.preprocessing.image import ImageDataGenerator"
   ]
  },
  {
   "cell_type": "code",
   "execution_count": 2,
   "metadata": {},
   "outputs": [],
   "source": [
    "# run params\n",
    "section = 'vae'\n",
    "run_id = '0001'\n",
    "data_name = 'faces'\n",
    "RUN_FOLDER = 'run/{}/'.format(section)\n",
    "RUN_FOLDER += '_'.join([run_id, data_name])\n",
    "\n",
    "if not os.path.exists(RUN_FOLDER):\n",
    "    os.mkdir(RUN_FOLDER)\n",
    "    os.mkdir(os.path.join(RUN_FOLDER, 'viz'))\n",
    "    os.mkdir(os.path.join(RUN_FOLDER, 'images'))\n",
    "    os.mkdir(os.path.join(RUN_FOLDER, 'weights'))\n",
    "\n",
    "mode =  'build' #'load' #\n",
    "\n",
    "\n",
    "DATA_FOLDER = './data/celeb/'"
   ]
  },
  {
   "cell_type": "markdown",
   "metadata": {},
   "source": [
    "## 데이터 적재"
   ]
  },
  {
   "cell_type": "markdown",
   "metadata": {},
   "source": [
    "*CelebA 사이트에서 `img_align_celeba.zip` 파일을 다운로드 받은 후 `data/celeb/` 폴더 안에서 압축을 해제하세요. `data/celeb/img_align_celeba` 폴더에 이미지가 저장되어야 합니다.*\n",
    "\n",
    "*`list_attr_celeba.csv` 파일은 깃허브에 포함되어 있으므로 다운로드 받을 필요가 없습니다.*"
   ]
  },
  {
   "cell_type": "code",
   "execution_count": 3,
   "metadata": {},
   "outputs": [],
   "source": [
    "INPUT_DIM = (128,128,3)\n",
    "BATCH_SIZE = 32\n",
    "\n",
    "filenames = np.array(glob(os.path.join(DATA_FOLDER, '*/*.jpg')))\n",
    "\n",
    "NUM_IMAGES = len(filenames)"
   ]
  },
  {
   "cell_type": "code",
   "execution_count": 4,
   "metadata": {},
   "outputs": [
    {
     "name": "stdout",
     "output_type": "stream",
     "text": [
      "Found 0 images belonging to 0 classes.\n"
     ]
    }
   ],
   "source": [
    "data_gen = ImageDataGenerator(rescale=1./255)\n",
    "\n",
    "data_flow = data_gen.flow_from_directory(DATA_FOLDER\n",
    "                                         , target_size = INPUT_DIM[:2]\n",
    "                                         , batch_size = BATCH_SIZE\n",
    "                                         , shuffle = True\n",
    "                                         , class_mode = 'input'\n",
    "                                         , subset = \"training\"\n",
    "                                            )"
   ]
  },
  {
   "cell_type": "markdown",
   "metadata": {},
   "source": [
    "## 모델 만들기"
   ]
  },
  {
   "cell_type": "code",
   "execution_count": 5,
   "metadata": {},
   "outputs": [
    {
     "name": "stdout",
     "output_type": "stream",
     "text": [
      "WARNING:tensorflow:From /home/jupyter/GDL_code/env/lib/python3.5/site-packages/tensorflow/python/framework/op_def_library.py:263: colocate_with (from tensorflow.python.framework.ops) is deprecated and will be removed in a future version.\n",
      "Instructions for updating:\n",
      "Colocations handled automatically by placer.\n",
      "WARNING:tensorflow:From /home/jupyter/GDL_code/env/lib/python3.5/site-packages/keras/backend/tensorflow_backend.py:3445: calling dropout (from tensorflow.python.ops.nn_ops) with keep_prob is deprecated and will be removed in a future version.\n",
      "Instructions for updating:\n",
      "Please use `rate` instead of `keep_prob`. Rate should be set to `rate = 1 - keep_prob`.\n"
     ]
    }
   ],
   "source": [
    "vae = VariationalAutoencoder(\n",
    "                input_dim = INPUT_DIM\n",
    "                , encoder_conv_filters=[32,64,64, 64]\n",
    "                , encoder_conv_kernel_size=[3,3,3,3]\n",
    "                , encoder_conv_strides=[2,2,2,2]\n",
    "                , decoder_conv_t_filters=[64,64,32,3]\n",
    "                , decoder_conv_t_kernel_size=[3,3,3,3]\n",
    "                , decoder_conv_t_strides=[2,2,2,2]\n",
    "                , z_dim=200\n",
    "                , use_batch_norm=True\n",
    "                , use_dropout=True)\n",
    "\n",
    "if mode == 'build':\n",
    "    vae.save(RUN_FOLDER)\n",
    "else:\n",
    "    vae.load_weights(os.path.join(RUN_FOLDER, 'weights/weights.h5'))"
   ]
  },
  {
   "cell_type": "code",
   "execution_count": 6,
   "metadata": {},
   "outputs": [
    {
     "name": "stdout",
     "output_type": "stream",
     "text": [
      "__________________________________________________________________________________________________\n",
      "Layer (type)                    Output Shape         Param #     Connected to                     \n",
      "==================================================================================================\n",
      "encoder_input (InputLayer)      (None, 128, 128, 3)  0                                            \n",
      "__________________________________________________________________________________________________\n",
      "encoder_conv_0 (Conv2D)         (None, 64, 64, 32)   896         encoder_input[0][0]              \n",
      "__________________________________________________________________________________________________\n",
      "batch_normalization_1 (BatchNor (None, 64, 64, 32)   128         encoder_conv_0[0][0]             \n",
      "__________________________________________________________________________________________________\n",
      "leaky_re_lu_1 (LeakyReLU)       (None, 64, 64, 32)   0           batch_normalization_1[0][0]      \n",
      "__________________________________________________________________________________________________\n",
      "dropout_1 (Dropout)             (None, 64, 64, 32)   0           leaky_re_lu_1[0][0]              \n",
      "__________________________________________________________________________________________________\n",
      "encoder_conv_1 (Conv2D)         (None, 32, 32, 64)   18496       dropout_1[0][0]                  \n",
      "__________________________________________________________________________________________________\n",
      "batch_normalization_2 (BatchNor (None, 32, 32, 64)   256         encoder_conv_1[0][0]             \n",
      "__________________________________________________________________________________________________\n",
      "leaky_re_lu_2 (LeakyReLU)       (None, 32, 32, 64)   0           batch_normalization_2[0][0]      \n",
      "__________________________________________________________________________________________________\n",
      "dropout_2 (Dropout)             (None, 32, 32, 64)   0           leaky_re_lu_2[0][0]              \n",
      "__________________________________________________________________________________________________\n",
      "encoder_conv_2 (Conv2D)         (None, 16, 16, 64)   36928       dropout_2[0][0]                  \n",
      "__________________________________________________________________________________________________\n",
      "batch_normalization_3 (BatchNor (None, 16, 16, 64)   256         encoder_conv_2[0][0]             \n",
      "__________________________________________________________________________________________________\n",
      "leaky_re_lu_3 (LeakyReLU)       (None, 16, 16, 64)   0           batch_normalization_3[0][0]      \n",
      "__________________________________________________________________________________________________\n",
      "dropout_3 (Dropout)             (None, 16, 16, 64)   0           leaky_re_lu_3[0][0]              \n",
      "__________________________________________________________________________________________________\n",
      "encoder_conv_3 (Conv2D)         (None, 8, 8, 64)     36928       dropout_3[0][0]                  \n",
      "__________________________________________________________________________________________________\n",
      "batch_normalization_4 (BatchNor (None, 8, 8, 64)     256         encoder_conv_3[0][0]             \n",
      "__________________________________________________________________________________________________\n",
      "leaky_re_lu_4 (LeakyReLU)       (None, 8, 8, 64)     0           batch_normalization_4[0][0]      \n",
      "__________________________________________________________________________________________________\n",
      "dropout_4 (Dropout)             (None, 8, 8, 64)     0           leaky_re_lu_4[0][0]              \n",
      "__________________________________________________________________________________________________\n",
      "flatten_1 (Flatten)             (None, 4096)         0           dropout_4[0][0]                  \n",
      "__________________________________________________________________________________________________\n",
      "mu (Dense)                      (None, 200)          819400      flatten_1[0][0]                  \n",
      "__________________________________________________________________________________________________\n",
      "log_var (Dense)                 (None, 200)          819400      flatten_1[0][0]                  \n",
      "__________________________________________________________________________________________________\n",
      "encoder_output (Lambda)         (None, 200)          0           mu[0][0]                         \n",
      "                                                                 log_var[0][0]                    \n",
      "==================================================================================================\n",
      "Total params: 1,732,944\n",
      "Trainable params: 1,732,496\n",
      "Non-trainable params: 448\n",
      "__________________________________________________________________________________________________\n"
     ]
    }
   ],
   "source": [
    "vae.encoder.summary()"
   ]
  },
  {
   "cell_type": "code",
   "execution_count": 7,
   "metadata": {},
   "outputs": [
    {
     "name": "stdout",
     "output_type": "stream",
     "text": [
      "_________________________________________________________________\n",
      "Layer (type)                 Output Shape              Param #   \n",
      "=================================================================\n",
      "decoder_input (InputLayer)   (None, 200)               0         \n",
      "_________________________________________________________________\n",
      "dense_1 (Dense)              (None, 4096)              823296    \n",
      "_________________________________________________________________\n",
      "reshape_1 (Reshape)          (None, 8, 8, 64)          0         \n",
      "_________________________________________________________________\n",
      "decoder_conv_t_0 (Conv2DTran (None, 16, 16, 64)        36928     \n",
      "_________________________________________________________________\n",
      "batch_normalization_5 (Batch (None, 16, 16, 64)        256       \n",
      "_________________________________________________________________\n",
      "leaky_re_lu_5 (LeakyReLU)    (None, 16, 16, 64)        0         \n",
      "_________________________________________________________________\n",
      "dropout_5 (Dropout)          (None, 16, 16, 64)        0         \n",
      "_________________________________________________________________\n",
      "decoder_conv_t_1 (Conv2DTran (None, 32, 32, 64)        36928     \n",
      "_________________________________________________________________\n",
      "batch_normalization_6 (Batch (None, 32, 32, 64)        256       \n",
      "_________________________________________________________________\n",
      "leaky_re_lu_6 (LeakyReLU)    (None, 32, 32, 64)        0         \n",
      "_________________________________________________________________\n",
      "dropout_6 (Dropout)          (None, 32, 32, 64)        0         \n",
      "_________________________________________________________________\n",
      "decoder_conv_t_2 (Conv2DTran (None, 64, 64, 32)        18464     \n",
      "_________________________________________________________________\n",
      "batch_normalization_7 (Batch (None, 64, 64, 32)        128       \n",
      "_________________________________________________________________\n",
      "leaky_re_lu_7 (LeakyReLU)    (None, 64, 64, 32)        0         \n",
      "_________________________________________________________________\n",
      "dropout_7 (Dropout)          (None, 64, 64, 32)        0         \n",
      "_________________________________________________________________\n",
      "decoder_conv_t_3 (Conv2DTran (None, 128, 128, 3)       867       \n",
      "_________________________________________________________________\n",
      "activation_1 (Activation)    (None, 128, 128, 3)       0         \n",
      "=================================================================\n",
      "Total params: 917,123\n",
      "Trainable params: 916,803\n",
      "Non-trainable params: 320\n",
      "_________________________________________________________________\n"
     ]
    }
   ],
   "source": [
    "vae.decoder.summary()"
   ]
  },
  {
   "cell_type": "markdown",
   "metadata": {},
   "source": [
    "## 모델 훈련"
   ]
  },
  {
   "cell_type": "markdown",
   "metadata": {},
   "source": [
    "*주의: 이 훈련은 시간이 오래 걸립니다. 깃허브에 훈련된 모델이 포함되어 있으므로 아래 셀에서 VAE를 직접 훈련하지 않아도`03_06_vae_faces_analysis.ipynb` 노트북을 실행할 수 있습니다.*"
   ]
  },
  {
   "cell_type": "code",
   "execution_count": 8,
   "metadata": {},
   "outputs": [],
   "source": [
    "LEARNING_RATE = 0.0005\n",
    "R_LOSS_FACTOR = 10000\n",
    "EPOCHS = 200\n",
    "PRINT_EVERY_N_BATCHES = 100\n",
    "INITIAL_EPOCH = 0"
   ]
  },
  {
   "cell_type": "code",
   "execution_count": 9,
   "metadata": {},
   "outputs": [],
   "source": [
    "vae.compile(LEARNING_RATE, R_LOSS_FACTOR)"
   ]
  },
  {
   "cell_type": "code",
   "execution_count": 10,
   "metadata": {},
   "outputs": [
    {
     "name": "stdout",
     "output_type": "stream",
     "text": [
      "WARNING:tensorflow:From /home/jupyter/GDL_code/env/lib/python3.5/site-packages/tensorflow/python/ops/math_ops.py:3066: to_int32 (from tensorflow.python.ops.math_ops) is deprecated and will be removed in a future version.\n",
      "Instructions for updating:\n",
      "Use tf.cast instead.\n",
      "Epoch 1/200\n",
      "   8/6331 [..............................] - ETA: 2:09:27 - loss: 1259.6693 - vae_r_loss: 1069.6871 - vae_kl_loss: 189.9822"
     ]
    },
    {
     "name": "stderr",
     "output_type": "stream",
     "text": [
      "/home/jupyter/GDL_code/env/lib/python3.5/site-packages/keras/callbacks.py:122: UserWarning: Method on_batch_end() is slow compared to the batch update (0.141168). Check your callbacks.\n",
      "  % delta_t_median)\n"
     ]
    },
    {
     "name": "stdout",
     "output_type": "stream",
     "text": [
      "6332/6331 [==============================] - 5076s 802ms/step - loss: 275.9733 - vae_r_loss: 213.6287 - vae_kl_loss: 62.3446\n",
      "\n",
      "Epoch 00001: saving model to run/vae/0001_faces/weights/weights-001-275.97.h5\n",
      "\n",
      "Epoch 00001: saving model to run/vae/0001_faces/weights/weights.h5\n",
      "Epoch 2/200\n",
      "   2/6331 [..............................] - ETA: 19:24 - loss: 245.8827 - vae_r_loss: 187.6025 - vae_kl_loss: 58.2802"
     ]
    },
    {
     "name": "stderr",
     "output_type": "stream",
     "text": [
      "/home/jupyter/GDL_code/env/lib/python3.5/site-packages/keras/callbacks.py:122: UserWarning: Method on_batch_end() is slow compared to the batch update (0.153775). Check your callbacks.\n",
      "  % delta_t_median)\n"
     ]
    },
    {
     "name": "stdout",
     "output_type": "stream",
     "text": [
      "6332/6331 [==============================] - 1713s 271ms/step - loss: 233.9473 - vae_r_loss: 174.7609 - vae_kl_loss: 59.1864\n",
      "\n",
      "Epoch 00002: saving model to run/vae/0001_faces/weights/weights-002-233.95.h5\n",
      "\n",
      "Epoch 00002: saving model to run/vae/0001_faces/weights/weights.h5\n",
      "Epoch 3/200\n",
      "   2/6331 [..............................] - ETA: 20:23 - loss: 238.1785 - vae_r_loss: 176.7546 - vae_kl_loss: 61.4238"
     ]
    },
    {
     "name": "stderr",
     "output_type": "stream",
     "text": [
      "/home/jupyter/GDL_code/env/lib/python3.5/site-packages/keras/callbacks.py:122: UserWarning: Method on_batch_end() is slow compared to the batch update (0.152158). Check your callbacks.\n",
      "  % delta_t_median)\n"
     ]
    },
    {
     "name": "stdout",
     "output_type": "stream",
     "text": [
      "6332/6331 [==============================] - 1712s 270ms/step - loss: 228.8867 - vae_r_loss: 169.4258 - vae_kl_loss: 59.4609\n",
      "\n",
      "Epoch 00003: saving model to run/vae/0001_faces/weights/weights-003-228.88.h5\n",
      "\n",
      "Epoch 00003: saving model to run/vae/0001_faces/weights/weights.h5\n",
      "Epoch 4/200\n",
      "   2/6331 [..............................] - ETA: 20:23 - loss: 227.4442 - vae_r_loss: 167.9857 - vae_kl_loss: 59.4585"
     ]
    },
    {
     "name": "stderr",
     "output_type": "stream",
     "text": [
      "/home/jupyter/GDL_code/env/lib/python3.5/site-packages/keras/callbacks.py:122: UserWarning: Method on_batch_end() is slow compared to the batch update (0.118648). Check your callbacks.\n",
      "  % delta_t_median)\n"
     ]
    },
    {
     "name": "stdout",
     "output_type": "stream",
     "text": [
      "6332/6331 [==============================] - 1660s 262ms/step - loss: 226.3250 - vae_r_loss: 166.9576 - vae_kl_loss: 59.3674\n",
      "\n",
      "Epoch 00004: saving model to run/vae/0001_faces/weights/weights-004-226.32.h5\n",
      "\n",
      "Epoch 00004: saving model to run/vae/0001_faces/weights/weights.h5\n",
      "Epoch 5/200\n",
      "   2/6331 [..............................] - ETA: 17:48 - loss: 209.4218 - vae_r_loss: 150.8463 - vae_kl_loss: 58.5754"
     ]
    },
    {
     "name": "stderr",
     "output_type": "stream",
     "text": [
      "/home/jupyter/GDL_code/env/lib/python3.5/site-packages/keras/callbacks.py:122: UserWarning: Method on_batch_end() is slow compared to the batch update (0.164460). Check your callbacks.\n",
      "  % delta_t_median)\n"
     ]
    },
    {
     "name": "stdout",
     "output_type": "stream",
     "text": [
      "6332/6331 [==============================] - 1592s 251ms/step - loss: 224.8458 - vae_r_loss: 165.5271 - vae_kl_loss: 59.3187\n",
      "\n",
      "Epoch 00005: saving model to run/vae/0001_faces/weights/weights-005-224.84.h5\n",
      "\n",
      "Epoch 00005: saving model to run/vae/0001_faces/weights/weights.h5\n",
      "Epoch 6/200\n",
      "   2/6331 [..............................] - ETA: 18:33 - loss: 221.5050 - vae_r_loss: 163.0789 - vae_kl_loss: 58.4261"
     ]
    },
    {
     "name": "stderr",
     "output_type": "stream",
     "text": [
      "/home/jupyter/GDL_code/env/lib/python3.5/site-packages/keras/callbacks.py:122: UserWarning: Method on_batch_end() is slow compared to the batch update (0.147167). Check your callbacks.\n",
      "  % delta_t_median)\n"
     ]
    },
    {
     "name": "stdout",
     "output_type": "stream",
     "text": [
      "6332/6331 [==============================] - 1587s 251ms/step - loss: 223.7606 - vae_r_loss: 164.5346 - vae_kl_loss: 59.2261\n",
      "\n",
      "Epoch 00006: saving model to run/vae/0001_faces/weights/weights-006-223.76.h5\n",
      "\n",
      "Epoch 00006: saving model to run/vae/0001_faces/weights/weights.h5\n",
      "Epoch 7/200\n",
      "   2/6331 [..............................] - ETA: 18:30 - loss: 236.2258 - vae_r_loss: 174.7248 - vae_kl_loss: 61.5010"
     ]
    },
    {
     "name": "stderr",
     "output_type": "stream",
     "text": [
      "/home/jupyter/GDL_code/env/lib/python3.5/site-packages/keras/callbacks.py:122: UserWarning: Method on_batch_end() is slow compared to the batch update (0.134442). Check your callbacks.\n",
      "  % delta_t_median)\n"
     ]
    },
    {
     "name": "stdout",
     "output_type": "stream",
     "text": [
      "6332/6331 [==============================] - 1576s 249ms/step - loss: 223.1313 - vae_r_loss: 163.9324 - vae_kl_loss: 59.1988\n",
      "\n",
      "Epoch 00007: saving model to run/vae/0001_faces/weights/weights-007-223.13.h5\n",
      "\n",
      "Epoch 00007: saving model to run/vae/0001_faces/weights/weights.h5\n",
      "Epoch 8/200\n",
      "   2/6331 [..............................] - ETA: 18:21 - loss: 220.1146 - vae_r_loss: 161.9431 - vae_kl_loss: 58.1715"
     ]
    },
    {
     "name": "stderr",
     "output_type": "stream",
     "text": [
      "/home/jupyter/GDL_code/env/lib/python3.5/site-packages/keras/callbacks.py:122: UserWarning: Method on_batch_end() is slow compared to the batch update (0.163673). Check your callbacks.\n",
      "  % delta_t_median)\n",
      "/home/jupyter/GDL_code/env/lib/python3.5/site-packages/keras/callbacks.py:122: UserWarning: Method on_batch_end() is slow compared to the batch update (0.103213). Check your callbacks.\n",
      "  % delta_t_median)\n"
     ]
    },
    {
     "name": "stdout",
     "output_type": "stream",
     "text": [
      "6332/6331 [==============================] - 1581s 250ms/step - loss: 222.4374 - vae_r_loss: 163.3051 - vae_kl_loss: 59.1323\n",
      "\n",
      "Epoch 00008: saving model to run/vae/0001_faces/weights/weights-008-222.44.h5\n",
      "\n",
      "Epoch 00008: saving model to run/vae/0001_faces/weights/weights.h5\n",
      "Epoch 9/200\n",
      "   2/6331 [..............................] - ETA: 18:23 - loss: 227.6208 - vae_r_loss: 167.1904 - vae_kl_loss: 60.4304"
     ]
    },
    {
     "name": "stderr",
     "output_type": "stream",
     "text": [
      "/home/jupyter/GDL_code/env/lib/python3.5/site-packages/keras/callbacks.py:122: UserWarning: Method on_batch_end() is slow compared to the batch update (0.154832). Check your callbacks.\n",
      "  % delta_t_median)\n"
     ]
    },
    {
     "name": "stdout",
     "output_type": "stream",
     "text": [
      "6332/6331 [==============================] - 1575s 249ms/step - loss: 221.9374 - vae_r_loss: 162.8706 - vae_kl_loss: 59.0667\n",
      "\n",
      "Epoch 00009: saving model to run/vae/0001_faces/weights/weights-009-221.93.h5\n",
      "\n",
      "Epoch 00009: saving model to run/vae/0001_faces/weights/weights.h5\n",
      "Epoch 10/200\n",
      "   2/6331 [..............................] - ETA: 18:03 - loss: 220.9829 - vae_r_loss: 162.9873 - vae_kl_loss: 57.9955"
     ]
    },
    {
     "name": "stderr",
     "output_type": "stream",
     "text": [
      "/home/jupyter/GDL_code/env/lib/python3.5/site-packages/keras/callbacks.py:122: UserWarning: Method on_batch_end() is slow compared to the batch update (0.132970). Check your callbacks.\n",
      "  % delta_t_median)\n"
     ]
    },
    {
     "name": "stdout",
     "output_type": "stream",
     "text": [
      "6332/6331 [==============================] - 1645s 260ms/step - loss: 221.5311 - vae_r_loss: 162.4888 - vae_kl_loss: 59.0422\n",
      "\n",
      "Epoch 00010: saving model to run/vae/0001_faces/weights/weights-010-221.53.h5\n",
      "\n",
      "Epoch 00010: saving model to run/vae/0001_faces/weights/weights.h5\n",
      "Epoch 11/200\n",
      "   2/6331 [..............................] - ETA: 19:17 - loss: 215.0268 - vae_r_loss: 155.5831 - vae_kl_loss: 59.4436"
     ]
    },
    {
     "name": "stderr",
     "output_type": "stream",
     "text": [
      "/home/jupyter/GDL_code/env/lib/python3.5/site-packages/keras/callbacks.py:122: UserWarning: Method on_batch_end() is slow compared to the batch update (0.153559). Check your callbacks.\n",
      "  % delta_t_median)\n"
     ]
    },
    {
     "name": "stdout",
     "output_type": "stream",
     "text": [
      "6332/6331 [==============================] - 1671s 264ms/step - loss: 221.2728 - vae_r_loss: 162.2618 - vae_kl_loss: 59.0110\n",
      "\n",
      "Epoch 00011: saving model to run/vae/0001_faces/weights/weights-011-221.27.h5\n",
      "\n",
      "Epoch 00011: saving model to run/vae/0001_faces/weights/weights.h5\n",
      "Epoch 12/200\n",
      "   2/6331 [..............................] - ETA: 18:53 - loss: 223.3970 - vae_r_loss: 164.2202 - vae_kl_loss: 59.1768"
     ]
    },
    {
     "name": "stderr",
     "output_type": "stream",
     "text": [
      "/home/jupyter/GDL_code/env/lib/python3.5/site-packages/keras/callbacks.py:122: UserWarning: Method on_batch_end() is slow compared to the batch update (0.136573). Check your callbacks.\n",
      "  % delta_t_median)\n"
     ]
    },
    {
     "name": "stdout",
     "output_type": "stream",
     "text": [
      "6332/6331 [==============================] - 1713s 270ms/step - loss: 221.0243 - vae_r_loss: 162.0217 - vae_kl_loss: 59.0025\n",
      "\n",
      "Epoch 00012: saving model to run/vae/0001_faces/weights/weights-012-221.01.h5\n",
      "\n",
      "Epoch 00012: saving model to run/vae/0001_faces/weights/weights.h5\n",
      "Epoch 13/200\n",
      "   2/6331 [..............................] - ETA: 19:32 - loss: 222.2027 - vae_r_loss: 162.1911 - vae_kl_loss: 60.0115"
     ]
    },
    {
     "name": "stderr",
     "output_type": "stream",
     "text": [
      "/home/jupyter/GDL_code/env/lib/python3.5/site-packages/keras/callbacks.py:122: UserWarning: Method on_batch_end() is slow compared to the batch update (0.167814). Check your callbacks.\n",
      "  % delta_t_median)\n",
      "/home/jupyter/GDL_code/env/lib/python3.5/site-packages/keras/callbacks.py:122: UserWarning: Method on_batch_end() is slow compared to the batch update (0.102751). Check your callbacks.\n",
      "  % delta_t_median)\n"
     ]
    },
    {
     "name": "stdout",
     "output_type": "stream",
     "text": [
      "6332/6331 [==============================] - 1720s 272ms/step - loss: 220.7829 - vae_r_loss: 161.7645 - vae_kl_loss: 59.0184\n",
      "\n",
      "Epoch 00013: saving model to run/vae/0001_faces/weights/weights-013-220.78.h5\n",
      "\n",
      "Epoch 00013: saving model to run/vae/0001_faces/weights/weights.h5\n",
      "Epoch 14/200\n",
      "   2/6331 [..............................] - ETA: 18:56 - loss: 215.4575 - vae_r_loss: 158.8845 - vae_kl_loss: 56.5731"
     ]
    },
    {
     "name": "stderr",
     "output_type": "stream",
     "text": [
      "/home/jupyter/GDL_code/env/lib/python3.5/site-packages/keras/callbacks.py:122: UserWarning: Method on_batch_end() is slow compared to the batch update (0.137779). Check your callbacks.\n",
      "  % delta_t_median)\n"
     ]
    },
    {
     "name": "stdout",
     "output_type": "stream",
     "text": [
      "6332/6331 [==============================] - 1702s 269ms/step - loss: 220.6155 - vae_r_loss: 161.6179 - vae_kl_loss: 58.9976\n",
      "\n",
      "Epoch 00014: saving model to run/vae/0001_faces/weights/weights-014-220.61.h5\n",
      "\n",
      "Epoch 00014: saving model to run/vae/0001_faces/weights/weights.h5\n",
      "Epoch 15/200\n",
      "   2/6331 [..............................] - ETA: 18:39 - loss: 211.1498 - vae_r_loss: 152.2375 - vae_kl_loss: 58.9122"
     ]
    },
    {
     "name": "stderr",
     "output_type": "stream",
     "text": [
      "/home/jupyter/GDL_code/env/lib/python3.5/site-packages/keras/callbacks.py:122: UserWarning: Method on_batch_end() is slow compared to the batch update (0.123582). Check your callbacks.\n",
      "  % delta_t_median)\n"
     ]
    },
    {
     "name": "stdout",
     "output_type": "stream",
     "text": [
      "6332/6331 [==============================] - 1700s 268ms/step - loss: 220.3965 - vae_r_loss: 161.4088 - vae_kl_loss: 58.9877\n",
      "\n",
      "Epoch 00015: saving model to run/vae/0001_faces/weights/weights-015-220.39.h5\n",
      "\n",
      "Epoch 00015: saving model to run/vae/0001_faces/weights/weights.h5\n",
      "Epoch 16/200\n",
      "   2/6331 [..............................] - ETA: 19:45 - loss: 234.6492 - vae_r_loss: 177.2194 - vae_kl_loss: 57.4298"
     ]
    },
    {
     "name": "stderr",
     "output_type": "stream",
     "text": [
      "/home/jupyter/GDL_code/env/lib/python3.5/site-packages/keras/callbacks.py:122: UserWarning: Method on_batch_end() is slow compared to the batch update (0.122602). Check your callbacks.\n",
      "  % delta_t_median)\n"
     ]
    },
    {
     "name": "stdout",
     "output_type": "stream",
     "text": [
      "6332/6331 [==============================] - 1700s 269ms/step - loss: 220.2184 - vae_r_loss: 161.2472 - vae_kl_loss: 58.9712\n",
      "\n",
      "Epoch 00016: saving model to run/vae/0001_faces/weights/weights-016-220.21.h5\n",
      "\n",
      "Epoch 00016: saving model to run/vae/0001_faces/weights/weights.h5\n",
      "Epoch 17/200\n",
      "   2/6331 [..............................] - ETA: 19:44 - loss: 229.3734 - vae_r_loss: 171.9940 - vae_kl_loss: 57.3793"
     ]
    },
    {
     "name": "stderr",
     "output_type": "stream",
     "text": [
      "/home/jupyter/GDL_code/env/lib/python3.5/site-packages/keras/callbacks.py:122: UserWarning: Method on_batch_end() is slow compared to the batch update (0.155634). Check your callbacks.\n",
      "  % delta_t_median)\n",
      "/home/jupyter/GDL_code/env/lib/python3.5/site-packages/keras/callbacks.py:122: UserWarning: Method on_batch_end() is slow compared to the batch update (0.102463). Check your callbacks.\n",
      "  % delta_t_median)\n"
     ]
    },
    {
     "name": "stdout",
     "output_type": "stream",
     "text": [
      "6332/6331 [==============================] - 1655s 261ms/step - loss: 220.0667 - vae_r_loss: 161.1202 - vae_kl_loss: 58.9464\n",
      "\n",
      "Epoch 00017: saving model to run/vae/0001_faces/weights/weights-017-220.06.h5\n",
      "\n",
      "Epoch 00017: saving model to run/vae/0001_faces/weights/weights.h5\n",
      "Epoch 18/200\n",
      "   2/6331 [..............................] - ETA: 16:57 - loss: 219.2971 - vae_r_loss: 163.2459 - vae_kl_loss: 56.0512"
     ]
    },
    {
     "name": "stderr",
     "output_type": "stream",
     "text": [
      "/home/jupyter/GDL_code/env/lib/python3.5/site-packages/keras/callbacks.py:122: UserWarning: Method on_batch_end() is slow compared to the batch update (0.148088). Check your callbacks.\n",
      "  % delta_t_median)\n"
     ]
    },
    {
     "name": "stdout",
     "output_type": "stream",
     "text": [
      "6332/6331 [==============================] - 1593s 252ms/step - loss: 219.9622 - vae_r_loss: 161.0172 - vae_kl_loss: 58.9450\n",
      "\n",
      "Epoch 00018: saving model to run/vae/0001_faces/weights/weights-018-219.96.h5\n",
      "\n",
      "Epoch 00018: saving model to run/vae/0001_faces/weights/weights.h5\n",
      "Epoch 19/200\n",
      "   2/6331 [..............................] - ETA: 18:46 - loss: 207.4531 - vae_r_loss: 147.1878 - vae_kl_loss: 60.2653"
     ]
    },
    {
     "name": "stderr",
     "output_type": "stream",
     "text": [
      "/home/jupyter/GDL_code/env/lib/python3.5/site-packages/keras/callbacks.py:122: UserWarning: Method on_batch_end() is slow compared to the batch update (0.150241). Check your callbacks.\n",
      "  % delta_t_median)\n"
     ]
    },
    {
     "name": "stdout",
     "output_type": "stream",
     "text": [
      "6332/6331 [==============================] - 1649s 260ms/step - loss: 219.8475 - vae_r_loss: 160.8989 - vae_kl_loss: 58.9486\n",
      "\n",
      "Epoch 00019: saving model to run/vae/0001_faces/weights/weights-019-219.85.h5\n",
      "\n",
      "Epoch 00019: saving model to run/vae/0001_faces/weights/weights.h5\n",
      "Epoch 20/200\n",
      "6332/6331 [==============================] - 1689s 267ms/step - loss: 219.6596 - vae_r_loss: 160.7172 - vae_kl_loss: 58.9424\n",
      "\n",
      "Epoch 00020: saving model to run/vae/0001_faces/weights/weights-020-219.65.h5\n",
      "\n",
      "Epoch 00020: saving model to run/vae/0001_faces/weights/weights.h5\n",
      "Epoch 21/200\n",
      "   2/6331 [..............................] - ETA: 18:44 - loss: 227.9925 - vae_r_loss: 170.6832 - vae_kl_loss: 57.3093"
     ]
    },
    {
     "name": "stderr",
     "output_type": "stream",
     "text": [
      "/home/jupyter/GDL_code/env/lib/python3.5/site-packages/keras/callbacks.py:122: UserWarning: Method on_batch_end() is slow compared to the batch update (0.159313). Check your callbacks.\n",
      "  % delta_t_median)\n"
     ]
    },
    {
     "name": "stdout",
     "output_type": "stream",
     "text": [
      "6332/6331 [==============================] - 1674s 264ms/step - loss: 219.5719 - vae_r_loss: 160.6570 - vae_kl_loss: 58.9148\n",
      "\n",
      "Epoch 00021: saving model to run/vae/0001_faces/weights/weights-021-219.57.h5\n",
      "\n",
      "Epoch 00021: saving model to run/vae/0001_faces/weights/weights.h5\n",
      "Epoch 22/200\n",
      "   2/6331 [..............................] - ETA: 19:25 - loss: 207.0567 - vae_r_loss: 148.6291 - vae_kl_loss: 58.4276"
     ]
    },
    {
     "name": "stderr",
     "output_type": "stream",
     "text": [
      "/home/jupyter/GDL_code/env/lib/python3.5/site-packages/keras/callbacks.py:122: UserWarning: Method on_batch_end() is slow compared to the batch update (0.138220). Check your callbacks.\n",
      "  % delta_t_median)\n"
     ]
    },
    {
     "name": "stdout",
     "output_type": "stream",
     "text": [
      "6332/6331 [==============================] - 1653s 261ms/step - loss: 219.3994 - vae_r_loss: 160.4972 - vae_kl_loss: 58.9021\n",
      "\n",
      "Epoch 00022: saving model to run/vae/0001_faces/weights/weights-022-219.40.h5\n",
      "\n",
      "Epoch 00022: saving model to run/vae/0001_faces/weights/weights.h5\n",
      "Epoch 23/200\n",
      "   2/6331 [..............................] - ETA: 17:34 - loss: 212.2396 - vae_r_loss: 154.9399 - vae_kl_loss: 57.2996"
     ]
    },
    {
     "name": "stderr",
     "output_type": "stream",
     "text": [
      "/home/jupyter/GDL_code/env/lib/python3.5/site-packages/keras/callbacks.py:122: UserWarning: Method on_batch_end() is slow compared to the batch update (0.164095). Check your callbacks.\n",
      "  % delta_t_median)\n",
      "/home/jupyter/GDL_code/env/lib/python3.5/site-packages/keras/callbacks.py:122: UserWarning: Method on_batch_end() is slow compared to the batch update (0.103768). Check your callbacks.\n",
      "  % delta_t_median)\n"
     ]
    },
    {
     "name": "stdout",
     "output_type": "stream",
     "text": [
      "6332/6331 [==============================] - 1616s 255ms/step - loss: 219.4473 - vae_r_loss: 160.5351 - vae_kl_loss: 58.9123\n",
      "\n",
      "Epoch 00023: saving model to run/vae/0001_faces/weights/weights-023-219.44.h5\n",
      "\n",
      "Epoch 00023: saving model to run/vae/0001_faces/weights/weights.h5\n",
      "Epoch 24/200\n",
      "6332/6331 [==============================] - 1624s 256ms/step - loss: 219.3276 - vae_r_loss: 160.4299 - vae_kl_loss: 58.8978\n",
      "\n",
      "Epoch 00024: saving model to run/vae/0001_faces/weights/weights-024-219.32.h5\n",
      "\n",
      "Epoch 00024: saving model to run/vae/0001_faces/weights/weights.h5\n",
      "Epoch 25/200\n",
      "   2/6331 [..............................] - ETA: 18:59 - loss: 213.8795 - vae_r_loss: 156.5970 - vae_kl_loss: 57.2825"
     ]
    },
    {
     "name": "stderr",
     "output_type": "stream",
     "text": [
      "/home/jupyter/GDL_code/env/lib/python3.5/site-packages/keras/callbacks.py:122: UserWarning: Method on_batch_end() is slow compared to the batch update (0.131441). Check your callbacks.\n",
      "  % delta_t_median)\n"
     ]
    },
    {
     "name": "stdout",
     "output_type": "stream",
     "text": [
      "6332/6331 [==============================] - 1616s 255ms/step - loss: 219.1847 - vae_r_loss: 160.2642 - vae_kl_loss: 58.9205\n",
      "\n",
      "Epoch 00025: saving model to run/vae/0001_faces/weights/weights-025-219.19.h5\n",
      "\n",
      "Epoch 00025: saving model to run/vae/0001_faces/weights/weights.h5\n",
      "Epoch 26/200\n",
      "   2/6331 [..............................] - ETA: 18:53 - loss: 219.7534 - vae_r_loss: 160.4298 - vae_kl_loss: 59.3236"
     ]
    },
    {
     "name": "stderr",
     "output_type": "stream",
     "text": [
      "/home/jupyter/GDL_code/env/lib/python3.5/site-packages/keras/callbacks.py:122: UserWarning: Method on_batch_end() is slow compared to the batch update (0.134321). Check your callbacks.\n",
      "  % delta_t_median)\n"
     ]
    },
    {
     "name": "stdout",
     "output_type": "stream",
     "text": [
      "\b\b\b\b\b\b\b\b\b\b\b\b\b\b\b\b\b\b\b\b\b\b\b\b\b\b\b\b\b\b\b\b\b\b\b\b\b\b\b\b\b\b\b\b\b\b\b\b\b\b\b\b\b\b\b\b\b\b\b\b\b\b\b\b\b\b\b\b\b\b\b\b\b\b\b\b\b\b\b\b\b\b\b\b\b\b\b\b\b\b\b\b\b\b\b\b\b\b\b\b\b\b\b\b\b\b\b\b\b\b\b\b\b\b\b\b\b\b\r",
      "   3/6331 [..............................] - ETA: 22:22 - loss: 218.5019 - vae_r_loss: 159.3445 - vae_kl_loss: 59.1575"
     ]
    },
    {
     "name": "stderr",
     "output_type": "stream",
     "text": [
      "/home/jupyter/GDL_code/env/lib/python3.5/site-packages/keras/callbacks.py:122: UserWarning: Method on_batch_end() is slow compared to the batch update (0.114840). Check your callbacks.\n",
      "  % delta_t_median)\n"
     ]
    },
    {
     "name": "stdout",
     "output_type": "stream",
     "text": [
      "6332/6331 [==============================] - ETA: 0s - loss: 219.1806 - vae_r_loss: 160.2726 - vae_kl_loss: 58.908 - 1623s 256ms/step - loss: 219.1833 - vae_r_loss: 160.2750 - vae_kl_loss: 58.9083\n",
      "\n",
      "Epoch 00026: saving model to run/vae/0001_faces/weights/weights-026-219.18.h5\n",
      "\n",
      "Epoch 00026: saving model to run/vae/0001_faces/weights/weights.h5\n",
      "Epoch 27/200\n",
      "   2/6331 [..............................] - ETA: 17:56 - loss: 226.2758 - vae_r_loss: 167.4280 - vae_kl_loss: 58.8479"
     ]
    },
    {
     "name": "stderr",
     "output_type": "stream",
     "text": [
      "/home/jupyter/GDL_code/env/lib/python3.5/site-packages/keras/callbacks.py:122: UserWarning: Method on_batch_end() is slow compared to the batch update (0.157236). Check your callbacks.\n",
      "  % delta_t_median)\n"
     ]
    },
    {
     "name": "stdout",
     "output_type": "stream",
     "text": [
      "6332/6331 [==============================] - 1572s 248ms/step - loss: 219.0284 - vae_r_loss: 160.1227 - vae_kl_loss: 58.9057\n",
      "\n",
      "Epoch 00027: saving model to run/vae/0001_faces/weights/weights-027-219.03.h5\n",
      "\n",
      "Epoch 00027: saving model to run/vae/0001_faces/weights/weights.h5\n",
      "Epoch 28/200\n",
      "   2/6331 [..............................] - ETA: 18:32 - loss: 227.2097 - vae_r_loss: 166.0064 - vae_kl_loss: 61.2034"
     ]
    },
    {
     "name": "stderr",
     "output_type": "stream",
     "text": [
      "/home/jupyter/GDL_code/env/lib/python3.5/site-packages/keras/callbacks.py:122: UserWarning: Method on_batch_end() is slow compared to the batch update (0.116992). Check your callbacks.\n",
      "  % delta_t_median)\n"
     ]
    },
    {
     "name": "stdout",
     "output_type": "stream",
     "text": [
      "6332/6331 [==============================] - 1788s 282ms/step - loss: 218.9764 - vae_r_loss: 160.0468 - vae_kl_loss: 58.9296\n",
      "\n",
      "Epoch 00028: saving model to run/vae/0001_faces/weights/weights-028-218.97.h5\n",
      "\n",
      "Epoch 00028: saving model to run/vae/0001_faces/weights/weights.h5\n",
      "Epoch 29/200\n",
      "   2/6331 [..............................] - ETA: 20:22 - loss: 233.2200 - vae_r_loss: 172.2507 - vae_kl_loss: 60.9692"
     ]
    },
    {
     "name": "stderr",
     "output_type": "stream",
     "text": [
      "/home/jupyter/GDL_code/env/lib/python3.5/site-packages/keras/callbacks.py:122: UserWarning: Method on_batch_end() is slow compared to the batch update (0.156919). Check your callbacks.\n",
      "  % delta_t_median)\n"
     ]
    },
    {
     "name": "stdout",
     "output_type": "stream",
     "text": [
      "6332/6331 [==============================] - 1818s 287ms/step - loss: 218.9393 - vae_r_loss: 160.0269 - vae_kl_loss: 58.9124\n",
      "\n",
      "Epoch 00029: saving model to run/vae/0001_faces/weights/weights-029-218.93.h5\n",
      "\n",
      "Epoch 00029: saving model to run/vae/0001_faces/weights/weights.h5\n",
      "Epoch 30/200\n",
      "6332/6331 [==============================] - 1815s 287ms/step - loss: 218.8855 - vae_r_loss: 159.9523 - vae_kl_loss: 58.9332\n",
      "\n",
      "Epoch 00030: saving model to run/vae/0001_faces/weights/weights-030-218.88.h5\n",
      "\n",
      "Epoch 00030: saving model to run/vae/0001_faces/weights/weights.h5\n",
      "Epoch 31/200\n",
      "   2/6331 [..............................] - ETA: 18:57 - loss: 229.2032 - vae_r_loss: 171.6654 - vae_kl_loss: 57.5378"
     ]
    },
    {
     "name": "stderr",
     "output_type": "stream",
     "text": [
      "/home/jupyter/GDL_code/env/lib/python3.5/site-packages/keras/callbacks.py:122: UserWarning: Method on_batch_end() is slow compared to the batch update (0.175018). Check your callbacks.\n",
      "  % delta_t_median)\n"
     ]
    },
    {
     "name": "stdout",
     "output_type": "stream",
     "text": [
      "6332/6331 [==============================] - 1808s 286ms/step - loss: 218.9286 - vae_r_loss: 159.9485 - vae_kl_loss: 58.9800\n",
      "\n",
      "Epoch 00031: saving model to run/vae/0001_faces/weights/weights-031-218.93.h5\n",
      "\n",
      "Epoch 00031: saving model to run/vae/0001_faces/weights/weights.h5\n",
      "Epoch 32/200\n",
      "   2/6331 [..............................] - ETA: 20:16 - loss: 223.5003 - vae_r_loss: 163.8182 - vae_kl_loss: 59.6821"
     ]
    },
    {
     "name": "stderr",
     "output_type": "stream",
     "text": [
      "/home/jupyter/GDL_code/env/lib/python3.5/site-packages/keras/callbacks.py:122: UserWarning: Method on_batch_end() is slow compared to the batch update (0.141050). Check your callbacks.\n",
      "  % delta_t_median)\n"
     ]
    },
    {
     "name": "stdout",
     "output_type": "stream",
     "text": [
      "6332/6331 [==============================] - 1815s 287ms/step - loss: 218.7396 - vae_r_loss: 159.8169 - vae_kl_loss: 58.9227\n",
      "\n",
      "Epoch 00032: saving model to run/vae/0001_faces/weights/weights-032-218.74.h5\n",
      "\n",
      "Epoch 00032: saving model to run/vae/0001_faces/weights/weights.h5\n",
      "Epoch 33/200\n",
      "   2/6331 [..............................] - ETA: 22:13 - loss: 223.8410 - vae_r_loss: 162.7077 - vae_kl_loss: 61.1333"
     ]
    },
    {
     "name": "stderr",
     "output_type": "stream",
     "text": [
      "/home/jupyter/GDL_code/env/lib/python3.5/site-packages/keras/callbacks.py:122: UserWarning: Method on_batch_end() is slow compared to the batch update (0.157166). Check your callbacks.\n",
      "  % delta_t_median)\n"
     ]
    },
    {
     "name": "stdout",
     "output_type": "stream",
     "text": [
      "6332/6331 [==============================] - 1807s 285ms/step - loss: 218.7312 - vae_r_loss: 159.8066 - vae_kl_loss: 58.9246\n",
      "\n",
      "Epoch 00033: saving model to run/vae/0001_faces/weights/weights-033-218.73.h5\n",
      "\n",
      "Epoch 00033: saving model to run/vae/0001_faces/weights/weights.h5\n",
      "Epoch 34/200\n",
      "   2/6331 [..............................] - ETA: 20:46 - loss: 226.3741 - vae_r_loss: 168.4931 - vae_kl_loss: 57.8810"
     ]
    },
    {
     "name": "stderr",
     "output_type": "stream",
     "text": [
      "/home/jupyter/GDL_code/env/lib/python3.5/site-packages/keras/callbacks.py:122: UserWarning: Method on_batch_end() is slow compared to the batch update (0.196352). Check your callbacks.\n",
      "  % delta_t_median)\n",
      "/home/jupyter/GDL_code/env/lib/python3.5/site-packages/keras/callbacks.py:122: UserWarning: Method on_batch_end() is slow compared to the batch update (0.112330). Check your callbacks.\n",
      "  % delta_t_median)\n"
     ]
    },
    {
     "name": "stdout",
     "output_type": "stream",
     "text": [
      "6332/6331 [==============================] - 1734s 274ms/step - loss: 218.7030 - vae_r_loss: 159.7720 - vae_kl_loss: 58.9310\n",
      "\n",
      "Epoch 00034: saving model to run/vae/0001_faces/weights/weights-034-218.70.h5\n",
      "\n",
      "Epoch 00034: saving model to run/vae/0001_faces/weights/weights.h5\n",
      "Epoch 35/200\n",
      "   2/6331 [..............................] - ETA: 20:33 - loss: 214.2728 - vae_r_loss: 153.9367 - vae_kl_loss: 60.3361"
     ]
    },
    {
     "name": "stderr",
     "output_type": "stream",
     "text": [
      "/home/jupyter/GDL_code/env/lib/python3.5/site-packages/keras/callbacks.py:122: UserWarning: Method on_batch_end() is slow compared to the batch update (0.189575). Check your callbacks.\n",
      "  % delta_t_median)\n",
      "/home/jupyter/GDL_code/env/lib/python3.5/site-packages/keras/callbacks.py:122: UserWarning: Method on_batch_end() is slow compared to the batch update (0.105900). Check your callbacks.\n",
      "  % delta_t_median)\n"
     ]
    },
    {
     "name": "stdout",
     "output_type": "stream",
     "text": [
      "6332/6331 [==============================] - 1660s 262ms/step - loss: 218.5554 - vae_r_loss: 159.6225 - vae_kl_loss: 58.9328\n",
      "\n",
      "Epoch 00035: saving model to run/vae/0001_faces/weights/weights-035-218.56.h5\n",
      "\n",
      "Epoch 00035: saving model to run/vae/0001_faces/weights/weights.h5\n",
      "Epoch 36/200\n",
      "   2/6331 [..............................] - ETA: 18:28 - loss: 217.7394 - vae_r_loss: 158.2679 - vae_kl_loss: 59.4715"
     ]
    },
    {
     "name": "stderr",
     "output_type": "stream",
     "text": [
      "/home/jupyter/GDL_code/env/lib/python3.5/site-packages/keras/callbacks.py:122: UserWarning: Method on_batch_end() is slow compared to the batch update (0.127701). Check your callbacks.\n",
      "  % delta_t_median)\n"
     ]
    },
    {
     "name": "stdout",
     "output_type": "stream",
     "text": [
      "6332/6331 [==============================] - 1627s 257ms/step - loss: 218.6088 - vae_r_loss: 159.6531 - vae_kl_loss: 58.9557\n",
      "\n",
      "Epoch 00036: saving model to run/vae/0001_faces/weights/weights-036-218.61.h5\n",
      "\n",
      "Epoch 00036: saving model to run/vae/0001_faces/weights/weights.h5\n",
      "Epoch 37/200\n",
      "   2/6331 [..............................] - ETA: 18:45 - loss: 220.3210 - vae_r_loss: 160.4642 - vae_kl_loss: 59.8568"
     ]
    },
    {
     "name": "stderr",
     "output_type": "stream",
     "text": [
      "/home/jupyter/GDL_code/env/lib/python3.5/site-packages/keras/callbacks.py:122: UserWarning: Method on_batch_end() is slow compared to the batch update (0.175338). Check your callbacks.\n",
      "  % delta_t_median)\n"
     ]
    },
    {
     "name": "stdout",
     "output_type": "stream",
     "text": [
      "6332/6331 [==============================] - 1610s 254ms/step - loss: 218.5530 - vae_r_loss: 159.6077 - vae_kl_loss: 58.9453\n",
      "\n",
      "Epoch 00037: saving model to run/vae/0001_faces/weights/weights-037-218.56.h5\n",
      "\n",
      "Epoch 00037: saving model to run/vae/0001_faces/weights/weights.h5\n",
      "Epoch 38/200\n",
      "   2/6331 [..............................] - ETA: 17:50 - loss: 217.0691 - vae_r_loss: 157.3692 - vae_kl_loss: 59.6998"
     ]
    },
    {
     "name": "stderr",
     "output_type": "stream",
     "text": [
      "/home/jupyter/GDL_code/env/lib/python3.5/site-packages/keras/callbacks.py:122: UserWarning: Method on_batch_end() is slow compared to the batch update (0.142607). Check your callbacks.\n",
      "  % delta_t_median)\n"
     ]
    },
    {
     "name": "stdout",
     "output_type": "stream",
     "text": [
      "6332/6331 [==============================] - 1577s 249ms/step - loss: 218.4995 - vae_r_loss: 159.5748 - vae_kl_loss: 58.9247\n",
      "\n",
      "Epoch 00038: saving model to run/vae/0001_faces/weights/weights-038-218.50.h5\n",
      "\n",
      "Epoch 00038: saving model to run/vae/0001_faces/weights/weights.h5\n",
      "Epoch 39/200\n",
      "   2/6331 [..............................] - ETA: 17:38 - loss: 207.2660 - vae_r_loss: 149.7275 - vae_kl_loss: 57.5385"
     ]
    },
    {
     "name": "stderr",
     "output_type": "stream",
     "text": [
      "/home/jupyter/GDL_code/env/lib/python3.5/site-packages/keras/callbacks.py:122: UserWarning: Method on_batch_end() is slow compared to the batch update (0.158925). Check your callbacks.\n",
      "  % delta_t_median)\n"
     ]
    },
    {
     "name": "stdout",
     "output_type": "stream",
     "text": [
      "6332/6331 [==============================] - 1574s 249ms/step - loss: 218.5335 - vae_r_loss: 159.5662 - vae_kl_loss: 58.9673\n",
      "\n",
      "Epoch 00039: saving model to run/vae/0001_faces/weights/weights-039-218.53.h5\n",
      "\n",
      "Epoch 00039: saving model to run/vae/0001_faces/weights/weights.h5\n",
      "Epoch 40/200\n",
      "   2/6331 [..............................] - ETA: 18:32 - loss: 221.1604 - vae_r_loss: 162.2393 - vae_kl_loss: 58.9211"
     ]
    },
    {
     "name": "stderr",
     "output_type": "stream",
     "text": [
      "/home/jupyter/GDL_code/env/lib/python3.5/site-packages/keras/callbacks.py:122: UserWarning: Method on_batch_end() is slow compared to the batch update (0.153049). Check your callbacks.\n",
      "  % delta_t_median)\n"
     ]
    },
    {
     "name": "stdout",
     "output_type": "stream",
     "text": [
      "6332/6331 [==============================] - 1597s 252ms/step - loss: 218.3427 - vae_r_loss: 159.4115 - vae_kl_loss: 58.9312\n",
      "\n",
      "Epoch 00040: saving model to run/vae/0001_faces/weights/weights-040-218.33.h5\n",
      "\n",
      "Epoch 00040: saving model to run/vae/0001_faces/weights/weights.h5\n",
      "Epoch 41/200\n",
      "   2/6331 [..............................] - ETA: 17:34 - loss: 232.9087 - vae_r_loss: 172.7461 - vae_kl_loss: 60.1626"
     ]
    },
    {
     "name": "stderr",
     "output_type": "stream",
     "text": [
      "/home/jupyter/GDL_code/env/lib/python3.5/site-packages/keras/callbacks.py:122: UserWarning: Method on_batch_end() is slow compared to the batch update (0.139218). Check your callbacks.\n",
      "  % delta_t_median)\n"
     ]
    },
    {
     "name": "stdout",
     "output_type": "stream",
     "text": [
      "6332/6331 [==============================] - 1597s 252ms/step - loss: 218.3850 - vae_r_loss: 159.4153 - vae_kl_loss: 58.9697\n",
      "\n",
      "Epoch 00041: saving model to run/vae/0001_faces/weights/weights-041-218.39.h5\n",
      "\n",
      "Epoch 00041: saving model to run/vae/0001_faces/weights/weights.h5\n",
      "Epoch 42/200\n",
      "   2/6331 [..............................] - ETA: 17:56 - loss: 213.5478 - vae_r_loss: 153.9160 - vae_kl_loss: 59.6318"
     ]
    },
    {
     "name": "stderr",
     "output_type": "stream",
     "text": [
      "/home/jupyter/GDL_code/env/lib/python3.5/site-packages/keras/callbacks.py:122: UserWarning: Method on_batch_end() is slow compared to the batch update (0.127344). Check your callbacks.\n",
      "  % delta_t_median)\n"
     ]
    },
    {
     "name": "stdout",
     "output_type": "stream",
     "text": [
      "6332/6331 [==============================] - 1656s 261ms/step - loss: 218.2823 - vae_r_loss: 159.3349 - vae_kl_loss: 58.9474\n",
      "\n",
      "Epoch 00042: saving model to run/vae/0001_faces/weights/weights-042-218.28.h5\n",
      "\n",
      "Epoch 00042: saving model to run/vae/0001_faces/weights/weights.h5\n",
      "Epoch 43/200\n",
      "   2/6331 [..............................] - ETA: 19:53 - loss: 213.0800 - vae_r_loss: 153.7925 - vae_kl_loss: 59.2875"
     ]
    },
    {
     "name": "stderr",
     "output_type": "stream",
     "text": [
      "/home/jupyter/GDL_code/env/lib/python3.5/site-packages/keras/callbacks.py:122: UserWarning: Method on_batch_end() is slow compared to the batch update (0.172437). Check your callbacks.\n",
      "  % delta_t_median)\n",
      "/home/jupyter/GDL_code/env/lib/python3.5/site-packages/keras/callbacks.py:122: UserWarning: Method on_batch_end() is slow compared to the batch update (0.100029). Check your callbacks.\n",
      "  % delta_t_median)\n"
     ]
    },
    {
     "name": "stdout",
     "output_type": "stream",
     "text": [
      "6332/6331 [==============================] - 1579s 249ms/step - loss: 218.2887 - vae_r_loss: 159.3244 - vae_kl_loss: 58.9643\n",
      "\n",
      "Epoch 00043: saving model to run/vae/0001_faces/weights/weights-043-218.29.h5\n",
      "\n",
      "Epoch 00043: saving model to run/vae/0001_faces/weights/weights.h5\n",
      "Epoch 44/200\n",
      "   2/6331 [..............................] - ETA: 18:15 - loss: 234.5926 - vae_r_loss: 173.9061 - vae_kl_loss: 60.6865"
     ]
    },
    {
     "name": "stderr",
     "output_type": "stream",
     "text": [
      "/home/jupyter/GDL_code/env/lib/python3.5/site-packages/keras/callbacks.py:122: UserWarning: Method on_batch_end() is slow compared to the batch update (0.163920). Check your callbacks.\n",
      "  % delta_t_median)\n",
      "/home/jupyter/GDL_code/env/lib/python3.5/site-packages/keras/callbacks.py:122: UserWarning: Method on_batch_end() is slow compared to the batch update (0.103223). Check your callbacks.\n",
      "  % delta_t_median)\n"
     ]
    },
    {
     "name": "stdout",
     "output_type": "stream",
     "text": [
      "6332/6331 [==============================] - 1655s 261ms/step - loss: 218.1904 - vae_r_loss: 159.2457 - vae_kl_loss: 58.9447\n",
      "\n",
      "Epoch 00044: saving model to run/vae/0001_faces/weights/weights-044-218.19.h5\n",
      "\n",
      "Epoch 00044: saving model to run/vae/0001_faces/weights/weights.h5\n",
      "Epoch 45/200\n",
      "   2/6331 [..............................] - ETA: 18:10 - loss: 205.5156 - vae_r_loss: 148.7450 - vae_kl_loss: 56.7706"
     ]
    },
    {
     "name": "stderr",
     "output_type": "stream",
     "text": [
      "/home/jupyter/GDL_code/env/lib/python3.5/site-packages/keras/callbacks.py:122: UserWarning: Method on_batch_end() is slow compared to the batch update (0.123314). Check your callbacks.\n",
      "  % delta_t_median)\n"
     ]
    },
    {
     "name": "stdout",
     "output_type": "stream",
     "text": [
      "6332/6331 [==============================] - 1657s 262ms/step - loss: 218.1873 - vae_r_loss: 159.2298 - vae_kl_loss: 58.9575\n",
      "\n",
      "Epoch 00045: saving model to run/vae/0001_faces/weights/weights-045-218.18.h5\n",
      "\n",
      "Epoch 00045: saving model to run/vae/0001_faces/weights/weights.h5\n",
      "Epoch 46/200\n",
      "   2/6331 [..............................] - ETA: 18:25 - loss: 206.7500 - vae_r_loss: 151.4544 - vae_kl_loss: 55.2956"
     ]
    },
    {
     "name": "stderr",
     "output_type": "stream",
     "text": [
      "/home/jupyter/GDL_code/env/lib/python3.5/site-packages/keras/callbacks.py:122: UserWarning: Method on_batch_end() is slow compared to the batch update (0.144510). Check your callbacks.\n",
      "  % delta_t_median)\n"
     ]
    },
    {
     "name": "stdout",
     "output_type": "stream",
     "text": [
      "6332/6331 [==============================] - 1575s 249ms/step - loss: 218.2063 - vae_r_loss: 159.2293 - vae_kl_loss: 58.9769\n",
      "\n",
      "Epoch 00046: saving model to run/vae/0001_faces/weights/weights-046-218.20.h5\n",
      "\n",
      "Epoch 00046: saving model to run/vae/0001_faces/weights/weights.h5\n",
      "Epoch 47/200\n",
      "   2/6331 [..............................] - ETA: 17:27 - loss: 225.0000 - vae_r_loss: 166.1452 - vae_kl_loss: 58.8548"
     ]
    },
    {
     "name": "stderr",
     "output_type": "stream",
     "text": [
      "/home/jupyter/GDL_code/env/lib/python3.5/site-packages/keras/callbacks.py:122: UserWarning: Method on_batch_end() is slow compared to the batch update (0.147684). Check your callbacks.\n",
      "  % delta_t_median)\n"
     ]
    },
    {
     "name": "stdout",
     "output_type": "stream",
     "text": [
      "6332/6331 [==============================] - 1570s 248ms/step - loss: 218.1386 - vae_r_loss: 159.1640 - vae_kl_loss: 58.9746\n",
      "\n",
      "Epoch 00047: saving model to run/vae/0001_faces/weights/weights-047-218.14.h5\n",
      "\n",
      "Epoch 00047: saving model to run/vae/0001_faces/weights/weights.h5\n",
      "Epoch 48/200\n",
      "   2/6331 [..............................] - ETA: 17:24 - loss: 217.1309 - vae_r_loss: 158.5272 - vae_kl_loss: 58.6038"
     ]
    },
    {
     "name": "stderr",
     "output_type": "stream",
     "text": [
      "/home/jupyter/GDL_code/env/lib/python3.5/site-packages/keras/callbacks.py:122: UserWarning: Method on_batch_end() is slow compared to the batch update (0.157207). Check your callbacks.\n",
      "  % delta_t_median)\n",
      "/home/jupyter/GDL_code/env/lib/python3.5/site-packages/keras/callbacks.py:122: UserWarning: Method on_batch_end() is slow compared to the batch update (0.100103). Check your callbacks.\n",
      "  % delta_t_median)\n"
     ]
    },
    {
     "name": "stdout",
     "output_type": "stream",
     "text": [
      "6332/6331 [==============================] - 1572s 248ms/step - loss: 218.0667 - vae_r_loss: 159.0854 - vae_kl_loss: 58.9813\n",
      "\n",
      "Epoch 00048: saving model to run/vae/0001_faces/weights/weights-048-218.06.h5\n",
      "\n",
      "Epoch 00048: saving model to run/vae/0001_faces/weights/weights.h5\n",
      "Epoch 49/200\n",
      "   2/6331 [..............................] - ETA: 18:58 - loss: 234.2983 - vae_r_loss: 173.0354 - vae_kl_loss: 61.2629"
     ]
    },
    {
     "name": "stderr",
     "output_type": "stream",
     "text": [
      "/home/jupyter/GDL_code/env/lib/python3.5/site-packages/keras/callbacks.py:122: UserWarning: Method on_batch_end() is slow compared to the batch update (0.107055). Check your callbacks.\n",
      "  % delta_t_median)\n"
     ]
    },
    {
     "name": "stdout",
     "output_type": "stream",
     "text": [
      "6332/6331 [==============================] - 1566s 247ms/step - loss: 218.0403 - vae_r_loss: 159.0586 - vae_kl_loss: 58.9818\n",
      "\n",
      "Epoch 00049: saving model to run/vae/0001_faces/weights/weights-049-218.04.h5\n",
      "\n",
      "Epoch 00049: saving model to run/vae/0001_faces/weights/weights.h5\n",
      "Epoch 50/200\n",
      "   2/6331 [..............................] - ETA: 16:48 - loss: 217.2948 - vae_r_loss: 157.3296 - vae_kl_loss: 59.9653"
     ]
    },
    {
     "name": "stderr",
     "output_type": "stream",
     "text": [
      "/home/jupyter/GDL_code/env/lib/python3.5/site-packages/keras/callbacks.py:122: UserWarning: Method on_batch_end() is slow compared to the batch update (0.123745). Check your callbacks.\n",
      "  % delta_t_median)\n"
     ]
    },
    {
     "name": "stdout",
     "output_type": "stream",
     "text": [
      "6332/6331 [==============================] - 1573s 248ms/step - loss: 218.1744 - vae_r_loss: 159.1536 - vae_kl_loss: 59.0208\n",
      "\n",
      "Epoch 00050: saving model to run/vae/0001_faces/weights/weights-050-218.17.h5\n",
      "\n",
      "Epoch 00050: saving model to run/vae/0001_faces/weights/weights.h5\n",
      "Epoch 51/200\n",
      "   2/6331 [..............................] - ETA: 18:04 - loss: 223.6957 - vae_r_loss: 164.1407 - vae_kl_loss: 59.5550"
     ]
    },
    {
     "name": "stderr",
     "output_type": "stream",
     "text": [
      "/home/jupyter/GDL_code/env/lib/python3.5/site-packages/keras/callbacks.py:122: UserWarning: Method on_batch_end() is slow compared to the batch update (0.168030). Check your callbacks.\n",
      "  % delta_t_median)\n"
     ]
    },
    {
     "name": "stdout",
     "output_type": "stream",
     "text": [
      "4024/6331 [==================>...........] - ETA: 9:33 - loss: 217.9678 - vae_r_loss: 158.9819 - vae_kl_loss: 58.9859"
     ]
    },
    {
     "name": "stderr",
     "output_type": "stream",
     "text": [
      "IOPub message rate exceeded.\n",
      "The notebook server will temporarily stop sending output\n",
      "to the client in order to avoid crashing it.\n",
      "To change this limit, set the config variable\n",
      "`--NotebookApp.iopub_msg_rate_limit`.\n",
      "\n",
      "Current values:\n",
      "NotebookApp.iopub_msg_rate_limit=1000.0 (msgs/sec)\n",
      "NotebookApp.rate_limit_window=3.0 (secs)\n",
      "\n"
     ]
    },
    {
     "name": "stdout",
     "output_type": "stream",
     "text": [
      "3272/6331 [==============>...............] - ETA: 12:36 - loss: 217.8213 - vae_r_loss: 158.8224 - vae_kl_loss: 58.9989"
     ]
    },
    {
     "name": "stderr",
     "output_type": "stream",
     "text": [
      "IOPub message rate exceeded.\n",
      "The notebook server will temporarily stop sending output\n",
      "to the client in order to avoid crashing it.\n",
      "To change this limit, set the config variable\n",
      "`--NotebookApp.iopub_msg_rate_limit`.\n",
      "\n",
      "Current values:\n",
      "NotebookApp.iopub_msg_rate_limit=1000.0 (msgs/sec)\n",
      "NotebookApp.rate_limit_window=3.0 (secs)\n",
      "\n"
     ]
    },
    {
     "name": "stdout",
     "output_type": "stream",
     "text": [
      "6332/6331 [==============================] - 1608s 254ms/step - loss: 217.9673 - vae_r_loss: 158.9676 - vae_kl_loss: 58.9998\n",
      "\n",
      "Epoch 00052: saving model to run/vae/0001_faces/weights/weights-052-217.96.h5\n",
      "\n",
      "Epoch 00052: saving model to run/vae/0001_faces/weights/weights.h5\n",
      "Epoch 53/200\n",
      "   2/6331 [..............................] - ETA: 18:42 - loss: 216.9410 - vae_r_loss: 156.5826 - vae_kl_loss: 60.3584"
     ]
    },
    {
     "name": "stderr",
     "output_type": "stream",
     "text": [
      "/home/jupyter/GDL_code/env/lib/python3.5/site-packages/keras/callbacks.py:122: UserWarning: Method on_batch_end() is slow compared to the batch update (0.176082). Check your callbacks.\n",
      "  % delta_t_median)\n"
     ]
    },
    {
     "name": "stdout",
     "output_type": "stream",
     "text": [
      "6332/6331 [==============================] - 1646s 260ms/step - loss: 218.0166 - vae_r_loss: 159.0070 - vae_kl_loss: 59.0096\n",
      "\n",
      "Epoch 00053: saving model to run/vae/0001_faces/weights/weights-053-218.01.h5\n",
      "\n",
      "Epoch 00053: saving model to run/vae/0001_faces/weights/weights.h5\n",
      "Epoch 54/200\n",
      "   2/6331 [..............................] - ETA: 18:23 - loss: 214.4837 - vae_r_loss: 155.7682 - vae_kl_loss: 58.7155"
     ]
    },
    {
     "name": "stderr",
     "output_type": "stream",
     "text": [
      "/home/jupyter/GDL_code/env/lib/python3.5/site-packages/keras/callbacks.py:122: UserWarning: Method on_batch_end() is slow compared to the batch update (0.123304). Check your callbacks.\n",
      "  % delta_t_median)\n"
     ]
    },
    {
     "name": "stdout",
     "output_type": "stream",
     "text": [
      "\b\b\b\b\b\b\b\b\b\b\b\b\b\b\b\b\b\b\b\b\b\b\b\b\b\b\b\b\b\b\b\b\b\b\b\b\b\b\b\b\b\b\b\b\b\b\b\b\b\b\b\b\b\b\b\b\b\b\b\b\b\b\b\b\b\b\b\b\b\b\b\b\b\b\b\b\b\b\b\b\b\b\b\b\b\b\b\b\b\b\b\b\b\b\b\b\b\b\b\b\b\b\b\b\b\b\b\b\b\b\b\b\b\b\b\b\b\b\r",
      "   3/6331 [..............................] - ETA: 21:07 - loss: 220.3062 - vae_r_loss: 161.7251 - vae_kl_loss: 58.5811"
     ]
    },
    {
     "name": "stderr",
     "output_type": "stream",
     "text": [
      "/home/jupyter/GDL_code/env/lib/python3.5/site-packages/keras/callbacks.py:122: UserWarning: Method on_batch_end() is slow compared to the batch update (0.106040). Check your callbacks.\n",
      "  % delta_t_median)\n"
     ]
    },
    {
     "name": "stdout",
     "output_type": "stream",
     "text": [
      "6332/6331 [==============================] - 1572s 248ms/step - loss: 218.0189 - vae_r_loss: 158.9800 - vae_kl_loss: 59.0389\n",
      "\n",
      "Epoch 00054: saving model to run/vae/0001_faces/weights/weights-054-218.02.h5\n",
      "\n",
      "Epoch 00054: saving model to run/vae/0001_faces/weights/weights.h5\n",
      "Epoch 55/200\n",
      "   2/6331 [..............................] - ETA: 18:02 - loss: 227.7580 - vae_r_loss: 168.1741 - vae_kl_loss: 59.5838"
     ]
    },
    {
     "name": "stderr",
     "output_type": "stream",
     "text": [
      "/home/jupyter/GDL_code/env/lib/python3.5/site-packages/keras/callbacks.py:122: UserWarning: Method on_batch_end() is slow compared to the batch update (0.158460). Check your callbacks.\n",
      "  % delta_t_median)\n"
     ]
    },
    {
     "name": "stdout",
     "output_type": "stream",
     "text": [
      "6332/6331 [==============================] - 1585s 250ms/step - loss: 217.9852 - vae_r_loss: 158.9683 - vae_kl_loss: 59.0169\n",
      "\n",
      "Epoch 00055: saving model to run/vae/0001_faces/weights/weights-055-217.98.h5\n",
      "\n",
      "Epoch 00055: saving model to run/vae/0001_faces/weights/weights.h5\n",
      "Epoch 56/200\n",
      "   2/6331 [..............................] - ETA: 18:00 - loss: 222.8934 - vae_r_loss: 163.5584 - vae_kl_loss: 59.3349"
     ]
    },
    {
     "name": "stderr",
     "output_type": "stream",
     "text": [
      "/home/jupyter/GDL_code/env/lib/python3.5/site-packages/keras/callbacks.py:122: UserWarning: Method on_batch_end() is slow compared to the batch update (0.155945). Check your callbacks.\n",
      "  % delta_t_median)\n"
     ]
    },
    {
     "name": "stdout",
     "output_type": "stream",
     "text": [
      "6332/6331 [==============================] - 1566s 247ms/step - loss: 218.0075 - vae_r_loss: 158.9670 - vae_kl_loss: 59.0405\n",
      "\n",
      "Epoch 00056: saving model to run/vae/0001_faces/weights/weights-056-218.00.h5\n",
      "\n",
      "Epoch 00056: saving model to run/vae/0001_faces/weights/weights.h5\n",
      "Epoch 57/200\n",
      "   2/6331 [..............................] - ETA: 18:10 - loss: 219.8185 - vae_r_loss: 162.0524 - vae_kl_loss: 57.7661"
     ]
    },
    {
     "name": "stderr",
     "output_type": "stream",
     "text": [
      "/home/jupyter/GDL_code/env/lib/python3.5/site-packages/keras/callbacks.py:122: UserWarning: Method on_batch_end() is slow compared to the batch update (0.138708). Check your callbacks.\n",
      "  % delta_t_median)\n"
     ]
    },
    {
     "name": "stdout",
     "output_type": "stream",
     "text": [
      "6332/6331 [==============================] - 1572s 248ms/step - loss: 217.9054 - vae_r_loss: 158.8929 - vae_kl_loss: 59.0126\n",
      "\n",
      "Epoch 00057: saving model to run/vae/0001_faces/weights/weights-057-217.90.h5\n",
      "\n",
      "Epoch 00057: saving model to run/vae/0001_faces/weights/weights.h5\n",
      "Epoch 58/200\n",
      "   2/6331 [..............................] - ETA: 17:23 - loss: 218.4701 - vae_r_loss: 160.0351 - vae_kl_loss: 58.4350"
     ]
    },
    {
     "name": "stderr",
     "output_type": "stream",
     "text": [
      "/home/jupyter/GDL_code/env/lib/python3.5/site-packages/keras/callbacks.py:122: UserWarning: Method on_batch_end() is slow compared to the batch update (0.136695). Check your callbacks.\n",
      "  % delta_t_median)\n"
     ]
    },
    {
     "name": "stdout",
     "output_type": "stream",
     "text": [
      "6332/6331 [==============================] - 1566s 247ms/step - loss: 217.9226 - vae_r_loss: 158.8493 - vae_kl_loss: 59.0733\n",
      "\n",
      "Epoch 00058: saving model to run/vae/0001_faces/weights/weights-058-217.91.h5\n",
      "\n",
      "Epoch 00058: saving model to run/vae/0001_faces/weights/weights.h5\n",
      "Epoch 59/200\n",
      "   2/6331 [..............................] - ETA: 17:18 - loss: 221.7485 - vae_r_loss: 161.8303 - vae_kl_loss: 59.9182"
     ]
    },
    {
     "name": "stderr",
     "output_type": "stream",
     "text": [
      "/home/jupyter/GDL_code/env/lib/python3.5/site-packages/keras/callbacks.py:122: UserWarning: Method on_batch_end() is slow compared to the batch update (0.121350). Check your callbacks.\n",
      "  % delta_t_median)\n"
     ]
    },
    {
     "name": "stdout",
     "output_type": "stream",
     "text": [
      "6332/6331 [==============================] - 1569s 248ms/step - loss: 217.8794 - vae_r_loss: 158.8417 - vae_kl_loss: 59.0377\n",
      "\n",
      "Epoch 00059: saving model to run/vae/0001_faces/weights/weights-059-217.87.h5\n",
      "\n",
      "Epoch 00059: saving model to run/vae/0001_faces/weights/weights.h5\n",
      "Epoch 60/200\n",
      "   2/6331 [..............................] - ETA: 18:22 - loss: 218.4905 - vae_r_loss: 158.5366 - vae_kl_loss: 59.9538"
     ]
    },
    {
     "name": "stderr",
     "output_type": "stream",
     "text": [
      "/home/jupyter/GDL_code/env/lib/python3.5/site-packages/keras/callbacks.py:122: UserWarning: Method on_batch_end() is slow compared to the batch update (0.121408). Check your callbacks.\n",
      "  % delta_t_median)\n"
     ]
    },
    {
     "name": "stdout",
     "output_type": "stream",
     "text": [
      "6332/6331 [==============================] - 1580s 249ms/step - loss: 217.8553 - vae_r_loss: 158.8241 - vae_kl_loss: 59.0311\n",
      "\n",
      "Epoch 00060: saving model to run/vae/0001_faces/weights/weights-060-217.86.h5\n",
      "\n",
      "Epoch 00060: saving model to run/vae/0001_faces/weights/weights.h5\n",
      "Epoch 61/200\n",
      "   2/6331 [..............................] - ETA: 17:25 - loss: 218.9821 - vae_r_loss: 161.3131 - vae_kl_loss: 57.6690"
     ]
    },
    {
     "name": "stderr",
     "output_type": "stream",
     "text": [
      "/home/jupyter/GDL_code/env/lib/python3.5/site-packages/keras/callbacks.py:122: UserWarning: Method on_batch_end() is slow compared to the batch update (0.158706). Check your callbacks.\n",
      "  % delta_t_median)\n",
      "/home/jupyter/GDL_code/env/lib/python3.5/site-packages/keras/callbacks.py:122: UserWarning: Method on_batch_end() is slow compared to the batch update (0.100955). Check your callbacks.\n",
      "  % delta_t_median)\n"
     ]
    },
    {
     "name": "stdout",
     "output_type": "stream",
     "text": [
      "6332/6331 [==============================] - 1580s 250ms/step - loss: 217.8686 - vae_r_loss: 158.8306 - vae_kl_loss: 59.0380\n",
      "\n",
      "Epoch 00061: saving model to run/vae/0001_faces/weights/weights-061-217.87.h5\n",
      "\n",
      "Epoch 00061: saving model to run/vae/0001_faces/weights/weights.h5\n",
      "Epoch 62/200\n",
      "   2/6331 [..............................] - ETA: 18:43 - loss: 224.7057 - vae_r_loss: 168.1789 - vae_kl_loss: 56.5267"
     ]
    },
    {
     "name": "stderr",
     "output_type": "stream",
     "text": [
      "/home/jupyter/GDL_code/env/lib/python3.5/site-packages/keras/callbacks.py:122: UserWarning: Method on_batch_end() is slow compared to the batch update (0.137261). Check your callbacks.\n",
      "  % delta_t_median)\n"
     ]
    },
    {
     "name": "stdout",
     "output_type": "stream",
     "text": [
      "6332/6331 [==============================] - 1578s 249ms/step - loss: 217.9002 - vae_r_loss: 158.8614 - vae_kl_loss: 59.0388\n",
      "\n",
      "Epoch 00062: saving model to run/vae/0001_faces/weights/weights-062-217.89.h5\n",
      "\n",
      "Epoch 00062: saving model to run/vae/0001_faces/weights/weights.h5\n",
      "Epoch 63/200\n",
      "   2/6331 [..............................] - ETA: 18:45 - loss: 231.9087 - vae_r_loss: 169.5011 - vae_kl_loss: 62.4076"
     ]
    },
    {
     "name": "stderr",
     "output_type": "stream",
     "text": [
      "/home/jupyter/GDL_code/env/lib/python3.5/site-packages/keras/callbacks.py:122: UserWarning: Method on_batch_end() is slow compared to the batch update (0.132638). Check your callbacks.\n",
      "  % delta_t_median)\n"
     ]
    },
    {
     "name": "stdout",
     "output_type": "stream",
     "text": [
      "6332/6331 [==============================] - 1582s 250ms/step - loss: 217.8791 - vae_r_loss: 158.8171 - vae_kl_loss: 59.0620\n",
      "\n",
      "Epoch 00063: saving model to run/vae/0001_faces/weights/weights-063-217.87.h5\n",
      "\n",
      "Epoch 00063: saving model to run/vae/0001_faces/weights/weights.h5\n",
      "Epoch 64/200\n",
      "   2/6331 [..............................] - ETA: 18:29 - loss: 225.0433 - vae_r_loss: 166.5587 - vae_kl_loss: 58.4846"
     ]
    },
    {
     "name": "stderr",
     "output_type": "stream",
     "text": [
      "/home/jupyter/GDL_code/env/lib/python3.5/site-packages/keras/callbacks.py:122: UserWarning: Method on_batch_end() is slow compared to the batch update (0.143540). Check your callbacks.\n",
      "  % delta_t_median)\n"
     ]
    },
    {
     "name": "stdout",
     "output_type": "stream",
     "text": [
      "6332/6331 [==============================] - 1579s 249ms/step - loss: 217.8614 - vae_r_loss: 158.8105 - vae_kl_loss: 59.0509\n",
      "\n",
      "Epoch 00064: saving model to run/vae/0001_faces/weights/weights-064-217.86.h5\n",
      "\n",
      "Epoch 00064: saving model to run/vae/0001_faces/weights/weights.h5\n",
      "Epoch 65/200\n",
      "   2/6331 [..............................] - ETA: 17:20 - loss: 227.7842 - vae_r_loss: 169.1157 - vae_kl_loss: 58.6685"
     ]
    },
    {
     "name": "stderr",
     "output_type": "stream",
     "text": [
      "/home/jupyter/GDL_code/env/lib/python3.5/site-packages/keras/callbacks.py:122: UserWarning: Method on_batch_end() is slow compared to the batch update (0.116333). Check your callbacks.\n",
      "  % delta_t_median)\n"
     ]
    },
    {
     "name": "stdout",
     "output_type": "stream",
     "text": [
      "6332/6331 [==============================] - 1579s 249ms/step - loss: 217.8391 - vae_r_loss: 158.7617 - vae_kl_loss: 59.0774\n",
      "\n",
      "Epoch 00065: saving model to run/vae/0001_faces/weights/weights-065-217.84.h5\n",
      "\n",
      "Epoch 00065: saving model to run/vae/0001_faces/weights/weights.h5\n",
      "Epoch 66/200\n",
      "   2/6331 [..............................] - ETA: 18:49 - loss: 208.2052 - vae_r_loss: 148.8842 - vae_kl_loss: 59.3210"
     ]
    },
    {
     "name": "stderr",
     "output_type": "stream",
     "text": [
      "/home/jupyter/GDL_code/env/lib/python3.5/site-packages/keras/callbacks.py:122: UserWarning: Method on_batch_end() is slow compared to the batch update (0.127576). Check your callbacks.\n",
      "  % delta_t_median)\n"
     ]
    },
    {
     "name": "stdout",
     "output_type": "stream",
     "text": [
      "6332/6331 [==============================] - 1612s 255ms/step - loss: 217.7617 - vae_r_loss: 158.7274 - vae_kl_loss: 59.0343\n",
      "\n",
      "Epoch 00066: saving model to run/vae/0001_faces/weights/weights-066-217.76.h5\n",
      "\n",
      "Epoch 00066: saving model to run/vae/0001_faces/weights/weights.h5\n",
      "Epoch 67/200\n",
      "   2/6331 [..............................] - ETA: 17:03 - loss: 206.0517 - vae_r_loss: 149.1937 - vae_kl_loss: 56.8579"
     ]
    },
    {
     "name": "stderr",
     "output_type": "stream",
     "text": [
      "/home/jupyter/GDL_code/env/lib/python3.5/site-packages/keras/callbacks.py:122: UserWarning: Method on_batch_end() is slow compared to the batch update (0.149297). Check your callbacks.\n",
      "  % delta_t_median)\n"
     ]
    },
    {
     "name": "stdout",
     "output_type": "stream",
     "text": [
      "6332/6331 [==============================] - 1602s 253ms/step - loss: 217.7562 - vae_r_loss: 158.7043 - vae_kl_loss: 59.0519\n",
      "\n",
      "Epoch 00067: saving model to run/vae/0001_faces/weights/weights-067-217.75.h5\n",
      "\n",
      "Epoch 00067: saving model to run/vae/0001_faces/weights/weights.h5\n",
      "Epoch 68/200\n",
      "   2/6331 [..............................] - ETA: 18:41 - loss: 219.1275 - vae_r_loss: 160.8895 - vae_kl_loss: 58.2380"
     ]
    },
    {
     "name": "stderr",
     "output_type": "stream",
     "text": [
      "/home/jupyter/GDL_code/env/lib/python3.5/site-packages/keras/callbacks.py:122: UserWarning: Method on_batch_end() is slow compared to the batch update (0.158651). Check your callbacks.\n",
      "  % delta_t_median)\n",
      "/home/jupyter/GDL_code/env/lib/python3.5/site-packages/keras/callbacks.py:122: UserWarning: Method on_batch_end() is slow compared to the batch update (0.113873). Check your callbacks.\n",
      "  % delta_t_median)\n"
     ]
    },
    {
     "name": "stdout",
     "output_type": "stream",
     "text": [
      "6332/6331 [==============================] - 1610s 254ms/step - loss: 217.7663 - vae_r_loss: 158.7230 - vae_kl_loss: 59.0433\n",
      "\n",
      "Epoch 00068: saving model to run/vae/0001_faces/weights/weights-068-217.76.h5\n",
      "\n",
      "Epoch 00068: saving model to run/vae/0001_faces/weights/weights.h5\n",
      "Epoch 69/200\n",
      "   2/6331 [..............................] - ETA: 18:24 - loss: 222.1839 - vae_r_loss: 163.7702 - vae_kl_loss: 58.4138"
     ]
    },
    {
     "name": "stderr",
     "output_type": "stream",
     "text": [
      "/home/jupyter/GDL_code/env/lib/python3.5/site-packages/keras/callbacks.py:122: UserWarning: Method on_batch_end() is slow compared to the batch update (0.153787). Check your callbacks.\n",
      "  % delta_t_median)\n"
     ]
    },
    {
     "name": "stdout",
     "output_type": "stream",
     "text": [
      "6332/6331 [==============================] - 1614s 255ms/step - loss: 217.7403 - vae_r_loss: 158.6782 - vae_kl_loss: 59.0621\n",
      "\n",
      "Epoch 00069: saving model to run/vae/0001_faces/weights/weights-069-217.74.h5\n",
      "\n",
      "Epoch 00069: saving model to run/vae/0001_faces/weights/weights.h5\n",
      "Epoch 70/200\n",
      "   2/6331 [..............................] - ETA: 17:26 - loss: 203.5032 - vae_r_loss: 145.5376 - vae_kl_loss: 57.9656"
     ]
    },
    {
     "name": "stderr",
     "output_type": "stream",
     "text": [
      "/home/jupyter/GDL_code/env/lib/python3.5/site-packages/keras/callbacks.py:122: UserWarning: Method on_batch_end() is slow compared to the batch update (0.126787). Check your callbacks.\n",
      "  % delta_t_median)\n"
     ]
    },
    {
     "name": "stdout",
     "output_type": "stream",
     "text": [
      "6332/6331 [==============================] - 1605s 254ms/step - loss: 217.6587 - vae_r_loss: 158.6326 - vae_kl_loss: 59.0261\n",
      "\n",
      "Epoch 00070: saving model to run/vae/0001_faces/weights/weights-070-217.65.h5\n",
      "\n",
      "Epoch 00070: saving model to run/vae/0001_faces/weights/weights.h5\n",
      "Epoch 71/200\n",
      "   2/6331 [..............................] - ETA: 18:41 - loss: 214.1474 - vae_r_loss: 155.5012 - vae_kl_loss: 58.6462"
     ]
    },
    {
     "name": "stderr",
     "output_type": "stream",
     "text": [
      "/home/jupyter/GDL_code/env/lib/python3.5/site-packages/keras/callbacks.py:122: UserWarning: Method on_batch_end() is slow compared to the batch update (0.147570). Check your callbacks.\n",
      "  % delta_t_median)\n"
     ]
    },
    {
     "name": "stdout",
     "output_type": "stream",
     "text": [
      "6332/6331 [==============================] - 1608s 254ms/step - loss: 217.7570 - vae_r_loss: 158.6854 - vae_kl_loss: 59.0716\n",
      "\n",
      "Epoch 00071: saving model to run/vae/0001_faces/weights/weights-071-217.75.h5\n",
      "\n",
      "Epoch 00071: saving model to run/vae/0001_faces/weights/weights.h5\n",
      "Epoch 72/200\n",
      "   2/6331 [..............................] - ETA: 18:18 - loss: 226.7626 - vae_r_loss: 166.5669 - vae_kl_loss: 60.1956"
     ]
    },
    {
     "name": "stderr",
     "output_type": "stream",
     "text": [
      "/home/jupyter/GDL_code/env/lib/python3.5/site-packages/keras/callbacks.py:122: UserWarning: Method on_batch_end() is slow compared to the batch update (0.132334). Check your callbacks.\n",
      "  % delta_t_median)\n"
     ]
    },
    {
     "name": "stdout",
     "output_type": "stream",
     "text": [
      "6332/6331 [==============================] - 1606s 254ms/step - loss: 217.6948 - vae_r_loss: 158.6353 - vae_kl_loss: 59.0596\n",
      "\n",
      "Epoch 00072: saving model to run/vae/0001_faces/weights/weights-072-217.69.h5\n",
      "\n",
      "Epoch 00072: saving model to run/vae/0001_faces/weights/weights.h5\n",
      "Epoch 73/200\n",
      "   2/6331 [..............................] - ETA: 18:18 - loss: 215.2155 - vae_r_loss: 158.1131 - vae_kl_loss: 57.1023"
     ]
    },
    {
     "name": "stderr",
     "output_type": "stream",
     "text": [
      "/home/jupyter/GDL_code/env/lib/python3.5/site-packages/keras/callbacks.py:122: UserWarning: Method on_batch_end() is slow compared to the batch update (0.147857). Check your callbacks.\n",
      "  % delta_t_median)\n"
     ]
    },
    {
     "name": "stdout",
     "output_type": "stream",
     "text": [
      "6332/6331 [==============================] - 1610s 254ms/step - loss: 217.6781 - vae_r_loss: 158.6171 - vae_kl_loss: 59.0610\n",
      "\n",
      "Epoch 00073: saving model to run/vae/0001_faces/weights/weights-073-217.68.h5\n",
      "\n",
      "Epoch 00073: saving model to run/vae/0001_faces/weights/weights.h5\n",
      "Epoch 74/200\n",
      "   2/6331 [..............................] - ETA: 18:44 - loss: 208.8163 - vae_r_loss: 150.0157 - vae_kl_loss: 58.8006"
     ]
    },
    {
     "name": "stderr",
     "output_type": "stream",
     "text": [
      "/home/jupyter/GDL_code/env/lib/python3.5/site-packages/keras/callbacks.py:122: UserWarning: Method on_batch_end() is slow compared to the batch update (0.133094). Check your callbacks.\n",
      "  % delta_t_median)\n"
     ]
    },
    {
     "name": "stdout",
     "output_type": "stream",
     "text": [
      "6332/6331 [==============================] - 1607s 254ms/step - loss: 217.6551 - vae_r_loss: 158.6147 - vae_kl_loss: 59.0404\n",
      "\n",
      "Epoch 00074: saving model to run/vae/0001_faces/weights/weights-074-217.66.h5\n",
      "\n",
      "Epoch 00074: saving model to run/vae/0001_faces/weights/weights.h5\n",
      "Epoch 75/200\n",
      "   2/6331 [..............................] - ETA: 18:43 - loss: 221.8429 - vae_r_loss: 163.2386 - vae_kl_loss: 58.6043"
     ]
    },
    {
     "name": "stderr",
     "output_type": "stream",
     "text": [
      "/home/jupyter/GDL_code/env/lib/python3.5/site-packages/keras/callbacks.py:122: UserWarning: Method on_batch_end() is slow compared to the batch update (0.135495). Check your callbacks.\n",
      "  % delta_t_median)\n"
     ]
    },
    {
     "name": "stdout",
     "output_type": "stream",
     "text": [
      "6332/6331 [==============================] - 1608s 254ms/step - loss: 217.6064 - vae_r_loss: 158.5656 - vae_kl_loss: 59.0408\n",
      "\n",
      "Epoch 00075: saving model to run/vae/0001_faces/weights/weights-075-217.61.h5\n",
      "\n",
      "Epoch 00075: saving model to run/vae/0001_faces/weights/weights.h5\n",
      "Epoch 76/200\n",
      "   2/6331 [..............................] - ETA: 18:02 - loss: 212.9115 - vae_r_loss: 153.1003 - vae_kl_loss: 59.8112"
     ]
    },
    {
     "name": "stderr",
     "output_type": "stream",
     "text": [
      "/home/jupyter/GDL_code/env/lib/python3.5/site-packages/keras/callbacks.py:122: UserWarning: Method on_batch_end() is slow compared to the batch update (0.133870). Check your callbacks.\n",
      "  % delta_t_median)\n"
     ]
    },
    {
     "name": "stdout",
     "output_type": "stream",
     "text": [
      "6332/6331 [==============================] - 1608s 254ms/step - loss: 217.5795 - vae_r_loss: 158.5289 - vae_kl_loss: 59.0506\n",
      "\n",
      "Epoch 00076: saving model to run/vae/0001_faces/weights/weights-076-217.57.h5\n",
      "\n",
      "Epoch 00076: saving model to run/vae/0001_faces/weights/weights.h5\n",
      "Epoch 77/200\n",
      "   2/6331 [..............................] - ETA: 18:44 - loss: 219.1019 - vae_r_loss: 158.7706 - vae_kl_loss: 60.3313"
     ]
    },
    {
     "name": "stderr",
     "output_type": "stream",
     "text": [
      "/home/jupyter/GDL_code/env/lib/python3.5/site-packages/keras/callbacks.py:122: UserWarning: Method on_batch_end() is slow compared to the batch update (0.174572). Check your callbacks.\n",
      "  % delta_t_median)\n"
     ]
    },
    {
     "name": "stdout",
     "output_type": "stream",
     "text": [
      "6332/6331 [==============================] - 1619s 256ms/step - loss: 217.6093 - vae_r_loss: 158.5568 - vae_kl_loss: 59.0525\n",
      "\n",
      "Epoch 00077: saving model to run/vae/0001_faces/weights/weights-077-217.61.h5\n",
      "\n",
      "Epoch 00077: saving model to run/vae/0001_faces/weights/weights.h5\n",
      "Epoch 78/200\n",
      "   2/6331 [..............................] - ETA: 18:50 - loss: 217.3885 - vae_r_loss: 158.0378 - vae_kl_loss: 59.3508"
     ]
    },
    {
     "name": "stderr",
     "output_type": "stream",
     "text": [
      "/home/jupyter/GDL_code/env/lib/python3.5/site-packages/keras/callbacks.py:122: UserWarning: Method on_batch_end() is slow compared to the batch update (0.130702). Check your callbacks.\n",
      "  % delta_t_median)\n"
     ]
    },
    {
     "name": "stdout",
     "output_type": "stream",
     "text": [
      "6332/6331 [==============================] - 1641s 259ms/step - loss: 217.7037 - vae_r_loss: 158.6458 - vae_kl_loss: 59.0579\n",
      "\n",
      "Epoch 00078: saving model to run/vae/0001_faces/weights/weights-078-217.70.h5\n",
      "\n",
      "Epoch 00078: saving model to run/vae/0001_faces/weights/weights.h5\n",
      "Epoch 79/200\n",
      "   2/6331 [..............................] - ETA: 18:09 - loss: 212.3770 - vae_r_loss: 153.4752 - vae_kl_loss: 58.9018"
     ]
    },
    {
     "name": "stderr",
     "output_type": "stream",
     "text": [
      "/home/jupyter/GDL_code/env/lib/python3.5/site-packages/keras/callbacks.py:122: UserWarning: Method on_batch_end() is slow compared to the batch update (0.170491). Check your callbacks.\n",
      "  % delta_t_median)\n"
     ]
    },
    {
     "name": "stdout",
     "output_type": "stream",
     "text": [
      "6332/6331 [==============================] - 1626s 257ms/step - loss: 217.5592 - vae_r_loss: 158.4954 - vae_kl_loss: 59.0638\n",
      "\n",
      "Epoch 00079: saving model to run/vae/0001_faces/weights/weights-079-217.55.h5\n",
      "\n",
      "Epoch 00079: saving model to run/vae/0001_faces/weights/weights.h5\n",
      "Epoch 80/200\n",
      "   2/6331 [..............................] - ETA: 17:46 - loss: 215.7581 - vae_r_loss: 158.5967 - vae_kl_loss: 57.1614"
     ]
    },
    {
     "name": "stderr",
     "output_type": "stream",
     "text": [
      "/home/jupyter/GDL_code/env/lib/python3.5/site-packages/keras/callbacks.py:122: UserWarning: Method on_batch_end() is slow compared to the batch update (0.148051). Check your callbacks.\n",
      "  % delta_t_median)\n"
     ]
    },
    {
     "name": "stdout",
     "output_type": "stream",
     "text": [
      "6332/6331 [==============================] - 1619s 256ms/step - loss: 217.6106 - vae_r_loss: 158.5406 - vae_kl_loss: 59.0699\n",
      "\n",
      "Epoch 00080: saving model to run/vae/0001_faces/weights/weights-080-217.61.h5\n",
      "\n",
      "Epoch 00080: saving model to run/vae/0001_faces/weights/weights.h5\n",
      "Epoch 81/200\n",
      "   2/6331 [..............................] - ETA: 18:55 - loss: 218.3562 - vae_r_loss: 158.7672 - vae_kl_loss: 59.5890"
     ]
    },
    {
     "name": "stderr",
     "output_type": "stream",
     "text": [
      "/home/jupyter/GDL_code/env/lib/python3.5/site-packages/keras/callbacks.py:122: UserWarning: Method on_batch_end() is slow compared to the batch update (0.128684). Check your callbacks.\n",
      "  % delta_t_median)\n"
     ]
    },
    {
     "name": "stdout",
     "output_type": "stream",
     "text": [
      "6332/6331 [==============================] - 1623s 256ms/step - loss: 217.6178 - vae_r_loss: 158.5443 - vae_kl_loss: 59.0735\n",
      "\n",
      "Epoch 00081: saving model to run/vae/0001_faces/weights/weights-081-217.62.h5\n",
      "\n",
      "Epoch 00081: saving model to run/vae/0001_faces/weights/weights.h5\n",
      "Epoch 82/200\n",
      "   2/6331 [..............................] - ETA: 18:52 - loss: 219.9813 - vae_r_loss: 159.7450 - vae_kl_loss: 60.2363"
     ]
    },
    {
     "name": "stderr",
     "output_type": "stream",
     "text": [
      "/home/jupyter/GDL_code/env/lib/python3.5/site-packages/keras/callbacks.py:122: UserWarning: Method on_batch_end() is slow compared to the batch update (0.116536). Check your callbacks.\n",
      "  % delta_t_median)\n"
     ]
    },
    {
     "name": "stdout",
     "output_type": "stream",
     "text": [
      "6332/6331 [==============================] - 1631s 258ms/step - loss: 217.6160 - vae_r_loss: 158.5511 - vae_kl_loss: 59.0650\n",
      "\n",
      "Epoch 00082: saving model to run/vae/0001_faces/weights/weights-082-217.61.h5\n",
      "\n",
      "Epoch 00082: saving model to run/vae/0001_faces/weights/weights.h5\n",
      "Epoch 83/200\n",
      "   2/6331 [..............................] - ETA: 18:15 - loss: 213.4892 - vae_r_loss: 155.8774 - vae_kl_loss: 57.6119"
     ]
    },
    {
     "name": "stderr",
     "output_type": "stream",
     "text": [
      "/home/jupyter/GDL_code/env/lib/python3.5/site-packages/keras/callbacks.py:122: UserWarning: Method on_batch_end() is slow compared to the batch update (0.137751). Check your callbacks.\n",
      "  % delta_t_median)\n"
     ]
    },
    {
     "name": "stdout",
     "output_type": "stream",
     "text": [
      "6332/6331 [==============================] - 1629s 257ms/step - loss: 217.5870 - vae_r_loss: 158.5058 - vae_kl_loss: 59.0812\n",
      "\n",
      "Epoch 00083: saving model to run/vae/0001_faces/weights/weights-083-217.58.h5\n",
      "\n",
      "Epoch 00083: saving model to run/vae/0001_faces/weights/weights.h5\n",
      "Epoch 84/200\n",
      "   2/6331 [..............................] - ETA: 18:53 - loss: 206.7301 - vae_r_loss: 148.2445 - vae_kl_loss: 58.4856"
     ]
    },
    {
     "name": "stderr",
     "output_type": "stream",
     "text": [
      "/home/jupyter/GDL_code/env/lib/python3.5/site-packages/keras/callbacks.py:122: UserWarning: Method on_batch_end() is slow compared to the batch update (0.144720). Check your callbacks.\n",
      "  % delta_t_median)\n"
     ]
    },
    {
     "name": "stdout",
     "output_type": "stream",
     "text": [
      "6332/6331 [==============================] - 1629s 257ms/step - loss: 217.5263 - vae_r_loss: 158.4593 - vae_kl_loss: 59.0669\n",
      "\n",
      "Epoch 00084: saving model to run/vae/0001_faces/weights/weights-084-217.52.h5\n",
      "\n",
      "Epoch 00084: saving model to run/vae/0001_faces/weights/weights.h5\n",
      "Epoch 85/200\n",
      "   2/6331 [..............................] - ETA: 18:16 - loss: 220.9283 - vae_r_loss: 161.1630 - vae_kl_loss: 59.7653"
     ]
    },
    {
     "name": "stderr",
     "output_type": "stream",
     "text": [
      "/home/jupyter/GDL_code/env/lib/python3.5/site-packages/keras/callbacks.py:122: UserWarning: Method on_batch_end() is slow compared to the batch update (0.141969). Check your callbacks.\n",
      "  % delta_t_median)\n",
      "/home/jupyter/GDL_code/env/lib/python3.5/site-packages/keras/callbacks.py:122: UserWarning: Method on_batch_end() is slow compared to the batch update (0.103016). Check your callbacks.\n",
      "  % delta_t_median)\n"
     ]
    },
    {
     "name": "stdout",
     "output_type": "stream",
     "text": [
      "6332/6331 [==============================] - 1627s 257ms/step - loss: 217.5907 - vae_r_loss: 158.5231 - vae_kl_loss: 59.0676\n",
      "\n",
      "Epoch 00085: saving model to run/vae/0001_faces/weights/weights-085-217.59.h5\n",
      "\n",
      "Epoch 00085: saving model to run/vae/0001_faces/weights/weights.h5\n",
      "Epoch 86/200\n",
      "6332/6331 [==============================] - 1629s 257ms/step - loss: 217.5006 - vae_r_loss: 158.4564 - vae_kl_loss: 59.0442\n",
      "\n",
      "Epoch 00086: saving model to run/vae/0001_faces/weights/weights-086-217.50.h5\n",
      "\n",
      "Epoch 00086: saving model to run/vae/0001_faces/weights/weights.h5\n",
      "Epoch 87/200\n",
      "   2/6331 [..............................] - ETA: 18:10 - loss: 226.5940 - vae_r_loss: 168.0882 - vae_kl_loss: 58.5058"
     ]
    },
    {
     "name": "stderr",
     "output_type": "stream",
     "text": [
      "/home/jupyter/GDL_code/env/lib/python3.5/site-packages/keras/callbacks.py:122: UserWarning: Method on_batch_end() is slow compared to the batch update (0.127370). Check your callbacks.\n",
      "  % delta_t_median)\n"
     ]
    },
    {
     "name": "stdout",
     "output_type": "stream",
     "text": [
      "6332/6331 [==============================] - 1635s 258ms/step - loss: 217.4502 - vae_r_loss: 158.4016 - vae_kl_loss: 59.0486\n",
      "\n",
      "Epoch 00087: saving model to run/vae/0001_faces/weights/weights-087-217.45.h5\n",
      "\n",
      "Epoch 00087: saving model to run/vae/0001_faces/weights/weights.h5\n",
      "Epoch 88/200\n",
      "   2/6331 [..............................] - ETA: 18:16 - loss: 213.6953 - vae_r_loss: 154.7855 - vae_kl_loss: 58.9098"
     ]
    },
    {
     "name": "stderr",
     "output_type": "stream",
     "text": [
      "/home/jupyter/GDL_code/env/lib/python3.5/site-packages/keras/callbacks.py:122: UserWarning: Method on_batch_end() is slow compared to the batch update (0.154444). Check your callbacks.\n",
      "  % delta_t_median)\n"
     ]
    },
    {
     "name": "stdout",
     "output_type": "stream",
     "text": [
      "6332/6331 [==============================] - 1627s 257ms/step - loss: 217.5576 - vae_r_loss: 158.4701 - vae_kl_loss: 59.0875\n",
      "\n",
      "Epoch 00088: saving model to run/vae/0001_faces/weights/weights-088-217.56.h5\n",
      "\n",
      "Epoch 00088: saving model to run/vae/0001_faces/weights/weights.h5\n",
      "Epoch 89/200\n",
      "   2/6331 [..............................] - ETA: 17:40 - loss: 214.1800 - vae_r_loss: 154.4966 - vae_kl_loss: 59.6834"
     ]
    },
    {
     "name": "stderr",
     "output_type": "stream",
     "text": [
      "/home/jupyter/GDL_code/env/lib/python3.5/site-packages/keras/callbacks.py:122: UserWarning: Method on_batch_end() is slow compared to the batch update (0.154788). Check your callbacks.\n",
      "  % delta_t_median)\n"
     ]
    },
    {
     "name": "stdout",
     "output_type": "stream",
     "text": [
      "6332/6331 [==============================] - 1625s 257ms/step - loss: 217.4432 - vae_r_loss: 158.4009 - vae_kl_loss: 59.0423\n",
      "\n",
      "Epoch 00089: saving model to run/vae/0001_faces/weights/weights-089-217.43.h5\n",
      "\n",
      "Epoch 00089: saving model to run/vae/0001_faces/weights/weights.h5\n",
      "Epoch 90/200\n",
      "   2/6331 [..............................] - ETA: 18:48 - loss: 229.5764 - vae_r_loss: 170.7051 - vae_kl_loss: 58.8713"
     ]
    },
    {
     "name": "stderr",
     "output_type": "stream",
     "text": [
      "/home/jupyter/GDL_code/env/lib/python3.5/site-packages/keras/callbacks.py:122: UserWarning: Method on_batch_end() is slow compared to the batch update (0.118310). Check your callbacks.\n",
      "  % delta_t_median)\n"
     ]
    },
    {
     "name": "stdout",
     "output_type": "stream",
     "text": [
      "6332/6331 [==============================] - 1626s 257ms/step - loss: 217.5101 - vae_r_loss: 158.4460 - vae_kl_loss: 59.0641\n",
      "\n",
      "Epoch 00090: saving model to run/vae/0001_faces/weights/weights-090-217.51.h5\n",
      "\n",
      "Epoch 00090: saving model to run/vae/0001_faces/weights/weights.h5\n",
      "Epoch 91/200\n",
      "   2/6331 [..............................] - ETA: 18:46 - loss: 219.3302 - vae_r_loss: 159.6331 - vae_kl_loss: 59.6971"
     ]
    },
    {
     "name": "stderr",
     "output_type": "stream",
     "text": [
      "/home/jupyter/GDL_code/env/lib/python3.5/site-packages/keras/callbacks.py:122: UserWarning: Method on_batch_end() is slow compared to the batch update (0.106415). Check your callbacks.\n",
      "  % delta_t_median)\n"
     ]
    },
    {
     "name": "stdout",
     "output_type": "stream",
     "text": [
      "6332/6331 [==============================] - 1630s 257ms/step - loss: 217.4749 - vae_r_loss: 158.4267 - vae_kl_loss: 59.0482\n",
      "\n",
      "Epoch 00091: saving model to run/vae/0001_faces/weights/weights-091-217.48.h5\n",
      "\n",
      "Epoch 00091: saving model to run/vae/0001_faces/weights/weights.h5\n",
      "Epoch 92/200\n",
      "   2/6331 [..............................] - ETA: 18:34 - loss: 227.9268 - vae_r_loss: 167.4657 - vae_kl_loss: 60.4611"
     ]
    },
    {
     "name": "stderr",
     "output_type": "stream",
     "text": [
      "/home/jupyter/GDL_code/env/lib/python3.5/site-packages/keras/callbacks.py:122: UserWarning: Method on_batch_end() is slow compared to the batch update (0.100909). Check your callbacks.\n",
      "  % delta_t_median)\n"
     ]
    },
    {
     "name": "stdout",
     "output_type": "stream",
     "text": [
      "6332/6331 [==============================] - 1624s 257ms/step - loss: 217.4330 - vae_r_loss: 158.3953 - vae_kl_loss: 59.0377\n",
      "\n",
      "Epoch 00092: saving model to run/vae/0001_faces/weights/weights-092-217.43.h5\n",
      "\n",
      "Epoch 00092: saving model to run/vae/0001_faces/weights/weights.h5\n",
      "Epoch 93/200\n",
      "   2/6331 [..............................] - ETA: 18:34 - loss: 239.7414 - vae_r_loss: 178.7512 - vae_kl_loss: 60.9902"
     ]
    },
    {
     "name": "stderr",
     "output_type": "stream",
     "text": [
      "/home/jupyter/GDL_code/env/lib/python3.5/site-packages/keras/callbacks.py:122: UserWarning: Method on_batch_end() is slow compared to the batch update (0.101807). Check your callbacks.\n",
      "  % delta_t_median)\n"
     ]
    },
    {
     "name": "stdout",
     "output_type": "stream",
     "text": [
      "6332/6331 [==============================] - 1619s 256ms/step - loss: 217.4899 - vae_r_loss: 158.4345 - vae_kl_loss: 59.0554\n",
      "\n",
      "Epoch 00093: saving model to run/vae/0001_faces/weights/weights-093-217.48.h5\n",
      "\n",
      "Epoch 00093: saving model to run/vae/0001_faces/weights/weights.h5\n",
      "Epoch 94/200\n",
      "   2/6331 [..............................] - ETA: 16:59 - loss: 211.3119 - vae_r_loss: 152.1844 - vae_kl_loss: 59.1275"
     ]
    },
    {
     "name": "stderr",
     "output_type": "stream",
     "text": [
      "/home/jupyter/GDL_code/env/lib/python3.5/site-packages/keras/callbacks.py:122: UserWarning: Method on_batch_end() is slow compared to the batch update (0.141653). Check your callbacks.\n",
      "  % delta_t_median)\n"
     ]
    },
    {
     "name": "stdout",
     "output_type": "stream",
     "text": [
      "6332/6331 [==============================] - 1626s 257ms/step - loss: 217.5033 - vae_r_loss: 158.4473 - vae_kl_loss: 59.0561\n",
      "\n",
      "Epoch 00094: saving model to run/vae/0001_faces/weights/weights-094-217.50.h5\n",
      "\n",
      "Epoch 00094: saving model to run/vae/0001_faces/weights/weights.h5\n",
      "Epoch 95/200\n",
      "   2/6331 [..............................] - ETA: 18:09 - loss: 210.8684 - vae_r_loss: 152.9547 - vae_kl_loss: 57.9137"
     ]
    },
    {
     "name": "stderr",
     "output_type": "stream",
     "text": [
      "/home/jupyter/GDL_code/env/lib/python3.5/site-packages/keras/callbacks.py:122: UserWarning: Method on_batch_end() is slow compared to the batch update (0.111458). Check your callbacks.\n",
      "  % delta_t_median)\n"
     ]
    },
    {
     "name": "stdout",
     "output_type": "stream",
     "text": [
      "6332/6331 [==============================] - 1630s 257ms/step - loss: 217.4411 - vae_r_loss: 158.4048 - vae_kl_loss: 59.0363\n",
      "\n",
      "Epoch 00095: saving model to run/vae/0001_faces/weights/weights-095-217.44.h5\n",
      "\n",
      "Epoch 00095: saving model to run/vae/0001_faces/weights/weights.h5\n",
      "Epoch 96/200\n",
      "   2/6331 [..............................] - ETA: 18:49 - loss: 211.5454 - vae_r_loss: 155.0366 - vae_kl_loss: 56.5088"
     ]
    },
    {
     "name": "stderr",
     "output_type": "stream",
     "text": [
      "/home/jupyter/GDL_code/env/lib/python3.5/site-packages/keras/callbacks.py:122: UserWarning: Method on_batch_end() is slow compared to the batch update (0.140163). Check your callbacks.\n",
      "  % delta_t_median)\n"
     ]
    },
    {
     "name": "stdout",
     "output_type": "stream",
     "text": [
      "6332/6331 [==============================] - 1633s 258ms/step - loss: 217.4187 - vae_r_loss: 158.3655 - vae_kl_loss: 59.0532\n",
      "\n",
      "Epoch 00096: saving model to run/vae/0001_faces/weights/weights-096-217.42.h5\n",
      "\n",
      "Epoch 00096: saving model to run/vae/0001_faces/weights/weights.h5\n",
      "Epoch 97/200\n",
      "   2/6331 [..............................] - ETA: 18:23 - loss: 213.8949 - vae_r_loss: 157.2591 - vae_kl_loss: 56.6358"
     ]
    },
    {
     "name": "stderr",
     "output_type": "stream",
     "text": [
      "/home/jupyter/GDL_code/env/lib/python3.5/site-packages/keras/callbacks.py:122: UserWarning: Method on_batch_end() is slow compared to the batch update (0.143121). Check your callbacks.\n",
      "  % delta_t_median)\n"
     ]
    },
    {
     "name": "stdout",
     "output_type": "stream",
     "text": [
      "6332/6331 [==============================] - 1622s 256ms/step - loss: 217.4831 - vae_r_loss: 158.3775 - vae_kl_loss: 59.1056\n",
      "\n",
      "Epoch 00097: saving model to run/vae/0001_faces/weights/weights-097-217.48.h5\n",
      "\n",
      "Epoch 00097: saving model to run/vae/0001_faces/weights/weights.h5\n",
      "Epoch 98/200\n",
      "   2/6331 [..............................] - ETA: 17:57 - loss: 214.6205 - vae_r_loss: 154.4967 - vae_kl_loss: 60.1238"
     ]
    },
    {
     "name": "stderr",
     "output_type": "stream",
     "text": [
      "/home/jupyter/GDL_code/env/lib/python3.5/site-packages/keras/callbacks.py:122: UserWarning: Method on_batch_end() is slow compared to the batch update (0.132006). Check your callbacks.\n",
      "  % delta_t_median)\n"
     ]
    },
    {
     "name": "stdout",
     "output_type": "stream",
     "text": [
      "6332/6331 [==============================] - 1624s 257ms/step - loss: 217.4123 - vae_r_loss: 158.3596 - vae_kl_loss: 59.0527\n",
      "\n",
      "Epoch 00098: saving model to run/vae/0001_faces/weights/weights-098-217.41.h5\n",
      "\n",
      "Epoch 00098: saving model to run/vae/0001_faces/weights/weights.h5\n",
      "Epoch 99/200\n",
      "   2/6331 [..............................] - ETA: 18:05 - loss: 209.4834 - vae_r_loss: 150.3070 - vae_kl_loss: 59.1764"
     ]
    },
    {
     "name": "stderr",
     "output_type": "stream",
     "text": [
      "/home/jupyter/GDL_code/env/lib/python3.5/site-packages/keras/callbacks.py:122: UserWarning: Method on_batch_end() is slow compared to the batch update (0.147317). Check your callbacks.\n",
      "  % delta_t_median)\n"
     ]
    },
    {
     "name": "stdout",
     "output_type": "stream",
     "text": [
      "6332/6331 [==============================] - 1627s 257ms/step - loss: 217.4226 - vae_r_loss: 158.3457 - vae_kl_loss: 59.0769\n",
      "\n",
      "Epoch 00099: saving model to run/vae/0001_faces/weights/weights-099-217.42.h5\n",
      "\n",
      "Epoch 00099: saving model to run/vae/0001_faces/weights/weights.h5\n",
      "Epoch 100/200\n",
      "   2/6331 [..............................] - ETA: 17:29 - loss: 215.7928 - vae_r_loss: 158.4045 - vae_kl_loss: 57.3883"
     ]
    },
    {
     "name": "stderr",
     "output_type": "stream",
     "text": [
      "/home/jupyter/GDL_code/env/lib/python3.5/site-packages/keras/callbacks.py:122: UserWarning: Method on_batch_end() is slow compared to the batch update (0.141427). Check your callbacks.\n",
      "  % delta_t_median)\n"
     ]
    },
    {
     "name": "stdout",
     "output_type": "stream",
     "text": [
      "6332/6331 [==============================] - 1627s 257ms/step - loss: 217.3748 - vae_r_loss: 158.3343 - vae_kl_loss: 59.0405\n",
      "\n",
      "Epoch 00100: saving model to run/vae/0001_faces/weights/weights-100-217.37.h5\n",
      "\n",
      "Epoch 00100: saving model to run/vae/0001_faces/weights/weights.h5\n",
      "Epoch 101/200\n",
      "   2/6331 [..............................] - ETA: 18:38 - loss: 228.0226 - vae_r_loss: 167.4320 - vae_kl_loss: 60.5907"
     ]
    },
    {
     "name": "stderr",
     "output_type": "stream",
     "text": [
      "/home/jupyter/GDL_code/env/lib/python3.5/site-packages/keras/callbacks.py:122: UserWarning: Method on_batch_end() is slow compared to the batch update (0.123148). Check your callbacks.\n",
      "  % delta_t_median)\n"
     ]
    },
    {
     "name": "stdout",
     "output_type": "stream",
     "text": [
      "6332/6331 [==============================] - 1628s 257ms/step - loss: 217.4189 - vae_r_loss: 158.3480 - vae_kl_loss: 59.0709\n",
      "\n",
      "Epoch 00101: saving model to run/vae/0001_faces/weights/weights-101-217.41.h5\n",
      "\n",
      "Epoch 00101: saving model to run/vae/0001_faces/weights/weights.h5\n",
      "Epoch 102/200\n",
      "   2/6331 [..............................] - ETA: 18:46 - loss: 208.0154 - vae_r_loss: 150.1286 - vae_kl_loss: 57.8867"
     ]
    },
    {
     "name": "stderr",
     "output_type": "stream",
     "text": [
      "/home/jupyter/GDL_code/env/lib/python3.5/site-packages/keras/callbacks.py:122: UserWarning: Method on_batch_end() is slow compared to the batch update (0.134427). Check your callbacks.\n",
      "  % delta_t_median)\n"
     ]
    },
    {
     "name": "stdout",
     "output_type": "stream",
     "text": [
      "6332/6331 [==============================] - 1620s 256ms/step - loss: 217.3820 - vae_r_loss: 158.3127 - vae_kl_loss: 59.0692\n",
      "\n",
      "Epoch 00102: saving model to run/vae/0001_faces/weights/weights-102-217.38.h5\n",
      "\n",
      "Epoch 00102: saving model to run/vae/0001_faces/weights/weights.h5\n",
      "Epoch 103/200\n",
      "   2/6331 [..............................] - ETA: 18:11 - loss: 214.4575 - vae_r_loss: 154.5491 - vae_kl_loss: 59.9084"
     ]
    },
    {
     "name": "stderr",
     "output_type": "stream",
     "text": [
      "/home/jupyter/GDL_code/env/lib/python3.5/site-packages/keras/callbacks.py:122: UserWarning: Method on_batch_end() is slow compared to the batch update (0.167665). Check your callbacks.\n",
      "  % delta_t_median)\n",
      "/home/jupyter/GDL_code/env/lib/python3.5/site-packages/keras/callbacks.py:122: UserWarning: Method on_batch_end() is slow compared to the batch update (0.100122). Check your callbacks.\n",
      "  % delta_t_median)\n"
     ]
    },
    {
     "name": "stdout",
     "output_type": "stream",
     "text": [
      "6332/6331 [==============================] - 1628s 257ms/step - loss: 217.4103 - vae_r_loss: 158.3358 - vae_kl_loss: 59.0745\n",
      "\n",
      "Epoch 00103: saving model to run/vae/0001_faces/weights/weights-103-217.41.h5\n",
      "\n",
      "Epoch 00103: saving model to run/vae/0001_faces/weights/weights.h5\n",
      "Epoch 104/200\n",
      "   2/6331 [..............................] - ETA: 18:16 - loss: 205.7931 - vae_r_loss: 147.5747 - vae_kl_loss: 58.2184"
     ]
    },
    {
     "name": "stderr",
     "output_type": "stream",
     "text": [
      "/home/jupyter/GDL_code/env/lib/python3.5/site-packages/keras/callbacks.py:122: UserWarning: Method on_batch_end() is slow compared to the batch update (0.139062). Check your callbacks.\n",
      "  % delta_t_median)\n"
     ]
    },
    {
     "name": "stdout",
     "output_type": "stream",
     "text": [
      "6332/6331 [==============================] - 1627s 257ms/step - loss: 217.3298 - vae_r_loss: 158.2736 - vae_kl_loss: 59.0562\n",
      "\n",
      "Epoch 00104: saving model to run/vae/0001_faces/weights/weights-104-217.33.h5\n",
      "\n",
      "Epoch 00104: saving model to run/vae/0001_faces/weights/weights.h5\n",
      "Epoch 105/200\n",
      "   2/6331 [..............................] - ETA: 19:03 - loss: 226.8459 - vae_r_loss: 169.1036 - vae_kl_loss: 57.7422"
     ]
    },
    {
     "name": "stderr",
     "output_type": "stream",
     "text": [
      "/home/jupyter/GDL_code/env/lib/python3.5/site-packages/keras/callbacks.py:122: UserWarning: Method on_batch_end() is slow compared to the batch update (0.136747). Check your callbacks.\n",
      "  % delta_t_median)\n"
     ]
    },
    {
     "name": "stdout",
     "output_type": "stream",
     "text": [
      "6332/6331 [==============================] - 1633s 258ms/step - loss: 217.3673 - vae_r_loss: 158.2865 - vae_kl_loss: 59.0808\n",
      "\n",
      "Epoch 00105: saving model to run/vae/0001_faces/weights/weights-105-217.37.h5\n",
      "\n",
      "Epoch 00105: saving model to run/vae/0001_faces/weights/weights.h5\n",
      "Epoch 106/200\n",
      "   2/6331 [..............................] - ETA: 18:39 - loss: 201.0555 - vae_r_loss: 144.5305 - vae_kl_loss: 56.5250"
     ]
    },
    {
     "name": "stderr",
     "output_type": "stream",
     "text": [
      "/home/jupyter/GDL_code/env/lib/python3.5/site-packages/keras/callbacks.py:122: UserWarning: Method on_batch_end() is slow compared to the batch update (0.144771). Check your callbacks.\n",
      "  % delta_t_median)\n"
     ]
    },
    {
     "name": "stdout",
     "output_type": "stream",
     "text": [
      "6332/6331 [==============================] - 1623s 256ms/step - loss: 217.3668 - vae_r_loss: 158.2827 - vae_kl_loss: 59.0842\n",
      "\n",
      "Epoch 00106: saving model to run/vae/0001_faces/weights/weights-106-217.35.h5\n",
      "\n",
      "Epoch 00106: saving model to run/vae/0001_faces/weights/weights.h5\n",
      "Epoch 107/200\n",
      "   2/6331 [..............................] - ETA: 18:57 - loss: 215.3897 - vae_r_loss: 155.3186 - vae_kl_loss: 60.0711"
     ]
    },
    {
     "name": "stderr",
     "output_type": "stream",
     "text": [
      "/home/jupyter/GDL_code/env/lib/python3.5/site-packages/keras/callbacks.py:122: UserWarning: Method on_batch_end() is slow compared to the batch update (0.152830). Check your callbacks.\n",
      "  % delta_t_median)\n"
     ]
    },
    {
     "name": "stdout",
     "output_type": "stream",
     "text": [
      "2417/6331 [==========>...................] - ETA: 16:43 - loss: 217.4564 - vae_r_loss: 158.3628 - vae_kl_loss: 59.0936"
     ]
    },
    {
     "name": "stderr",
     "output_type": "stream",
     "text": [
      "IOPub message rate exceeded.\n",
      "The notebook server will temporarily stop sending output\n",
      "to the client in order to avoid crashing it.\n",
      "To change this limit, set the config variable\n",
      "`--NotebookApp.iopub_msg_rate_limit`.\n",
      "\n",
      "Current values:\n",
      "NotebookApp.iopub_msg_rate_limit=1000.0 (msgs/sec)\n",
      "NotebookApp.rate_limit_window=3.0 (secs)\n",
      "\n"
     ]
    },
    {
     "name": "stdout",
     "output_type": "stream",
     "text": [
      "6332/6331 [==============================] - 1628s 257ms/step - loss: 217.3496 - vae_r_loss: 158.2723 - vae_kl_loss: 59.0773\n",
      "\n",
      "Epoch 00107: saving model to run/vae/0001_faces/weights/weights-107-217.35.h5\n",
      "\n",
      "Epoch 00107: saving model to run/vae/0001_faces/weights/weights.h5\n",
      "Epoch 108/200\n",
      "   2/6331 [..............................] - ETA: 18:25 - loss: 222.3113 - vae_r_loss: 161.8288 - vae_kl_loss: 60.4825"
     ]
    },
    {
     "name": "stderr",
     "output_type": "stream",
     "text": [
      "/home/jupyter/GDL_code/env/lib/python3.5/site-packages/keras/callbacks.py:122: UserWarning: Method on_batch_end() is slow compared to the batch update (0.169300). Check your callbacks.\n",
      "  % delta_t_median)\n"
     ]
    },
    {
     "name": "stdout",
     "output_type": "stream",
     "text": [
      "6332/6331 [==============================] - 1625s 257ms/step - loss: 217.4385 - vae_r_loss: 158.3334 - vae_kl_loss: 59.1051\n",
      "\n",
      "Epoch 00108: saving model to run/vae/0001_faces/weights/weights-108-217.44.h5\n",
      "\n",
      "Epoch 00108: saving model to run/vae/0001_faces/weights/weights.h5\n",
      "Epoch 109/200\n",
      "   2/6331 [..............................] - ETA: 18:43 - loss: 212.6011 - vae_r_loss: 154.1856 - vae_kl_loss: 58.4155"
     ]
    },
    {
     "name": "stderr",
     "output_type": "stream",
     "text": [
      "/home/jupyter/GDL_code/env/lib/python3.5/site-packages/keras/callbacks.py:122: UserWarning: Method on_batch_end() is slow compared to the batch update (0.166622). Check your callbacks.\n",
      "  % delta_t_median)\n"
     ]
    },
    {
     "name": "stdout",
     "output_type": "stream",
     "text": [
      "6332/6331 [==============================] - 1628s 257ms/step - loss: 217.3367 - vae_r_loss: 158.2596 - vae_kl_loss: 59.0771\n",
      "\n",
      "Epoch 00109: saving model to run/vae/0001_faces/weights/weights-109-217.34.h5\n",
      "\n",
      "Epoch 00109: saving model to run/vae/0001_faces/weights/weights.h5\n",
      "Epoch 110/200\n",
      "   2/6331 [..............................] - ETA: 18:20 - loss: 217.1936 - vae_r_loss: 157.5322 - vae_kl_loss: 59.6614"
     ]
    },
    {
     "name": "stderr",
     "output_type": "stream",
     "text": [
      "/home/jupyter/GDL_code/env/lib/python3.5/site-packages/keras/callbacks.py:122: UserWarning: Method on_batch_end() is slow compared to the batch update (0.139553). Check your callbacks.\n",
      "  % delta_t_median)\n"
     ]
    },
    {
     "name": "stdout",
     "output_type": "stream",
     "text": [
      "   4/6331 [..............................] - ETA: 22:56 - loss: 215.6920 - vae_r_loss: 156.1606 - vae_kl_loss: 59.5314"
     ]
    },
    {
     "name": "stderr",
     "output_type": "stream",
     "text": [
      "/home/jupyter/GDL_code/env/lib/python3.5/site-packages/keras/callbacks.py:122: UserWarning: Method on_batch_end() is slow compared to the batch update (0.100662). Check your callbacks.\n",
      "  % delta_t_median)\n"
     ]
    },
    {
     "name": "stdout",
     "output_type": "stream",
     "text": [
      "6332/6331 [==============================] - 1631s 258ms/step - loss: 217.3354 - vae_r_loss: 158.2937 - vae_kl_loss: 59.0418\n",
      "\n",
      "Epoch 00110: saving model to run/vae/0001_faces/weights/weights-110-217.34.h5\n",
      "\n",
      "Epoch 00110: saving model to run/vae/0001_faces/weights/weights.h5\n",
      "Epoch 111/200\n",
      "   2/6331 [..............................] - ETA: 18:30 - loss: 239.1460 - vae_r_loss: 177.5477 - vae_kl_loss: 61.5983"
     ]
    },
    {
     "name": "stderr",
     "output_type": "stream",
     "text": [
      "/home/jupyter/GDL_code/env/lib/python3.5/site-packages/keras/callbacks.py:122: UserWarning: Method on_batch_end() is slow compared to the batch update (0.170813). Check your callbacks.\n",
      "  % delta_t_median)\n"
     ]
    },
    {
     "name": "stdout",
     "output_type": "stream",
     "text": [
      "6332/6331 [==============================] - 1630s 257ms/step - loss: 217.3264 - vae_r_loss: 158.2453 - vae_kl_loss: 59.0811\n",
      "\n",
      "Epoch 00111: saving model to run/vae/0001_faces/weights/weights-111-217.33.h5\n",
      "\n",
      "Epoch 00111: saving model to run/vae/0001_faces/weights/weights.h5\n",
      "Epoch 112/200\n",
      "   2/6331 [..............................] - ETA: 18:34 - loss: 224.4939 - vae_r_loss: 164.8474 - vae_kl_loss: 59.6464"
     ]
    },
    {
     "name": "stderr",
     "output_type": "stream",
     "text": [
      "/home/jupyter/GDL_code/env/lib/python3.5/site-packages/keras/callbacks.py:122: UserWarning: Method on_batch_end() is slow compared to the batch update (0.169111). Check your callbacks.\n",
      "  % delta_t_median)\n"
     ]
    },
    {
     "name": "stdout",
     "output_type": "stream",
     "text": [
      "6332/6331 [==============================] - 1628s 257ms/step - loss: 217.3201 - vae_r_loss: 158.2653 - vae_kl_loss: 59.0548\n",
      "\n",
      "Epoch 00112: saving model to run/vae/0001_faces/weights/weights-112-217.32.h5\n",
      "\n",
      "Epoch 00112: saving model to run/vae/0001_faces/weights/weights.h5\n",
      "Epoch 113/200\n",
      "   2/6331 [..............................] - ETA: 18:13 - loss: 222.5153 - vae_r_loss: 162.0303 - vae_kl_loss: 60.4850"
     ]
    },
    {
     "name": "stderr",
     "output_type": "stream",
     "text": [
      "/home/jupyter/GDL_code/env/lib/python3.5/site-packages/keras/callbacks.py:122: UserWarning: Method on_batch_end() is slow compared to the batch update (0.165580). Check your callbacks.\n",
      "  % delta_t_median)\n"
     ]
    },
    {
     "name": "stdout",
     "output_type": "stream",
     "text": [
      "6332/6331 [==============================] - 1631s 258ms/step - loss: 217.2642 - vae_r_loss: 158.2087 - vae_kl_loss: 59.0555\n",
      "\n",
      "Epoch 00113: saving model to run/vae/0001_faces/weights/weights-113-217.26.h5\n",
      "\n",
      "Epoch 00113: saving model to run/vae/0001_faces/weights/weights.h5\n",
      "Epoch 114/200\n",
      "   2/6331 [..............................] - ETA: 18:16 - loss: 231.8527 - vae_r_loss: 171.7311 - vae_kl_loss: 60.1216"
     ]
    },
    {
     "name": "stderr",
     "output_type": "stream",
     "text": [
      "/home/jupyter/GDL_code/env/lib/python3.5/site-packages/keras/callbacks.py:122: UserWarning: Method on_batch_end() is slow compared to the batch update (0.132809). Check your callbacks.\n",
      "  % delta_t_median)\n"
     ]
    },
    {
     "name": "stdout",
     "output_type": "stream",
     "text": [
      "6332/6331 [==============================] - 1628s 257ms/step - loss: 217.2699 - vae_r_loss: 158.2121 - vae_kl_loss: 59.0578\n",
      "\n",
      "Epoch 00114: saving model to run/vae/0001_faces/weights/weights-114-217.27.h5\n",
      "\n",
      "Epoch 00114: saving model to run/vae/0001_faces/weights/weights.h5\n",
      "Epoch 115/200\n",
      "6332/6331 [==============================] - 1626s 257ms/step - loss: 217.3434 - vae_r_loss: 158.2580 - vae_kl_loss: 59.0854\n",
      "\n",
      "Epoch 00115: saving model to run/vae/0001_faces/weights/weights-115-217.34.h5\n",
      "\n",
      "Epoch 00115: saving model to run/vae/0001_faces/weights/weights.h5\n",
      "Epoch 116/200\n",
      "   2/6331 [..............................] - ETA: 19:17 - loss: 219.6321 - vae_r_loss: 161.8107 - vae_kl_loss: 57.8215"
     ]
    },
    {
     "name": "stderr",
     "output_type": "stream",
     "text": [
      "/home/jupyter/GDL_code/env/lib/python3.5/site-packages/keras/callbacks.py:122: UserWarning: Method on_batch_end() is slow compared to the batch update (0.147305). Check your callbacks.\n",
      "  % delta_t_median)\n"
     ]
    },
    {
     "name": "stdout",
     "output_type": "stream",
     "text": [
      "6332/6331 [==============================] - 1632s 258ms/step - loss: 217.2815 - vae_r_loss: 158.2232 - vae_kl_loss: 59.0584\n",
      "\n",
      "Epoch 00116: saving model to run/vae/0001_faces/weights/weights-116-217.28.h5\n",
      "\n",
      "Epoch 00116: saving model to run/vae/0001_faces/weights/weights.h5\n",
      "Epoch 117/200\n",
      "   2/6331 [..............................] - ETA: 18:37 - loss: 220.5768 - vae_r_loss: 161.5504 - vae_kl_loss: 59.0264"
     ]
    },
    {
     "name": "stderr",
     "output_type": "stream",
     "text": [
      "/home/jupyter/GDL_code/env/lib/python3.5/site-packages/keras/callbacks.py:122: UserWarning: Method on_batch_end() is slow compared to the batch update (0.172786). Check your callbacks.\n",
      "  % delta_t_median)\n",
      "/home/jupyter/GDL_code/env/lib/python3.5/site-packages/keras/callbacks.py:122: UserWarning: Method on_batch_end() is slow compared to the batch update (0.100107). Check your callbacks.\n",
      "  % delta_t_median)\n"
     ]
    },
    {
     "name": "stdout",
     "output_type": "stream",
     "text": [
      "6332/6331 [==============================] - 1632s 258ms/step - loss: 217.2563 - vae_r_loss: 158.2188 - vae_kl_loss: 59.0375\n",
      "\n",
      "Epoch 00117: saving model to run/vae/0001_faces/weights/weights-117-217.26.h5\n",
      "\n",
      "Epoch 00117: saving model to run/vae/0001_faces/weights/weights.h5\n",
      "Epoch 118/200\n",
      "   2/6331 [..............................] - ETA: 19:11 - loss: 207.1377 - vae_r_loss: 148.4062 - vae_kl_loss: 58.7315"
     ]
    },
    {
     "name": "stderr",
     "output_type": "stream",
     "text": [
      "/home/jupyter/GDL_code/env/lib/python3.5/site-packages/keras/callbacks.py:122: UserWarning: Method on_batch_end() is slow compared to the batch update (0.122475). Check your callbacks.\n",
      "  % delta_t_median)\n"
     ]
    },
    {
     "name": "stdout",
     "output_type": "stream",
     "text": [
      "6332/6331 [==============================] - 1630s 257ms/step - loss: 217.2605 - vae_r_loss: 158.2287 - vae_kl_loss: 59.0318\n",
      "\n",
      "Epoch 00118: saving model to run/vae/0001_faces/weights/weights-118-217.26.h5\n",
      "\n",
      "Epoch 00118: saving model to run/vae/0001_faces/weights/weights.h5\n",
      "Epoch 119/200\n",
      "   2/6331 [..............................] - ETA: 18:55 - loss: 209.4446 - vae_r_loss: 149.6210 - vae_kl_loss: 59.8236"
     ]
    },
    {
     "name": "stderr",
     "output_type": "stream",
     "text": [
      "/home/jupyter/GDL_code/env/lib/python3.5/site-packages/keras/callbacks.py:122: UserWarning: Method on_batch_end() is slow compared to the batch update (0.107901). Check your callbacks.\n",
      "  % delta_t_median)\n"
     ]
    },
    {
     "name": "stdout",
     "output_type": "stream",
     "text": [
      "6332/6331 [==============================] - 1631s 258ms/step - loss: 217.2161 - vae_r_loss: 158.2081 - vae_kl_loss: 59.0080\n",
      "\n",
      "Epoch 00119: saving model to run/vae/0001_faces/weights/weights-119-217.22.h5\n",
      "\n",
      "Epoch 00119: saving model to run/vae/0001_faces/weights/weights.h5\n",
      "Epoch 120/200\n",
      "   2/6331 [..............................] - ETA: 19:11 - loss: 219.9361 - vae_r_loss: 160.4432 - vae_kl_loss: 59.4930"
     ]
    },
    {
     "name": "stderr",
     "output_type": "stream",
     "text": [
      "/home/jupyter/GDL_code/env/lib/python3.5/site-packages/keras/callbacks.py:122: UserWarning: Method on_batch_end() is slow compared to the batch update (0.148690). Check your callbacks.\n",
      "  % delta_t_median)\n"
     ]
    },
    {
     "name": "stdout",
     "output_type": "stream",
     "text": [
      "6332/6331 [==============================] - 1601s 253ms/step - loss: 217.2846 - vae_r_loss: 158.2378 - vae_kl_loss: 59.0469\n",
      "\n",
      "Epoch 00120: saving model to run/vae/0001_faces/weights/weights-120-217.29.h5\n",
      "\n",
      "Epoch 00120: saving model to run/vae/0001_faces/weights/weights.h5\n",
      "Epoch 121/200\n",
      "   2/6331 [..............................] - ETA: 18:56 - loss: 212.6592 - vae_r_loss: 156.3239 - vae_kl_loss: 56.3352"
     ]
    },
    {
     "name": "stderr",
     "output_type": "stream",
     "text": [
      "/home/jupyter/GDL_code/env/lib/python3.5/site-packages/keras/callbacks.py:122: UserWarning: Method on_batch_end() is slow compared to the batch update (0.126721). Check your callbacks.\n",
      "  % delta_t_median)\n"
     ]
    },
    {
     "name": "stdout",
     "output_type": "stream",
     "text": [
      "6332/6331 [==============================] - 1598s 252ms/step - loss: 217.2356 - vae_r_loss: 158.1882 - vae_kl_loss: 59.0474\n",
      "\n",
      "Epoch 00121: saving model to run/vae/0001_faces/weights/weights-121-217.23.h5\n",
      "\n",
      "Epoch 00121: saving model to run/vae/0001_faces/weights/weights.h5\n",
      "Epoch 122/200\n",
      "   2/6331 [..............................] - ETA: 17:16 - loss: 226.5476 - vae_r_loss: 166.4807 - vae_kl_loss: 60.0669"
     ]
    },
    {
     "name": "stderr",
     "output_type": "stream",
     "text": [
      "/home/jupyter/GDL_code/env/lib/python3.5/site-packages/keras/callbacks.py:122: UserWarning: Method on_batch_end() is slow compared to the batch update (0.142786). Check your callbacks.\n",
      "  % delta_t_median)\n"
     ]
    },
    {
     "name": "stdout",
     "output_type": "stream",
     "text": [
      "6332/6331 [==============================] - 1640s 259ms/step - loss: 217.2454 - vae_r_loss: 158.1814 - vae_kl_loss: 59.0640\n",
      "\n",
      "Epoch 00122: saving model to run/vae/0001_faces/weights/weights-122-217.25.h5\n",
      "\n",
      "Epoch 00122: saving model to run/vae/0001_faces/weights/weights.h5\n",
      "Epoch 123/200\n",
      "   2/6331 [..............................] - ETA: 19:40 - loss: 211.0312 - vae_r_loss: 154.4137 - vae_kl_loss: 56.6175"
     ]
    },
    {
     "name": "stderr",
     "output_type": "stream",
     "text": [
      "/home/jupyter/GDL_code/env/lib/python3.5/site-packages/keras/callbacks.py:122: UserWarning: Method on_batch_end() is slow compared to the batch update (0.139316). Check your callbacks.\n",
      "  % delta_t_median)\n"
     ]
    },
    {
     "name": "stdout",
     "output_type": "stream",
     "text": [
      "6332/6331 [==============================] - 1647s 260ms/step - loss: 217.1688 - vae_r_loss: 158.1254 - vae_kl_loss: 59.0435\n",
      "\n",
      "Epoch 00123: saving model to run/vae/0001_faces/weights/weights-123-217.17.h5\n",
      "\n",
      "Epoch 00123: saving model to run/vae/0001_faces/weights/weights.h5\n",
      "Epoch 124/200\n",
      "   2/6331 [..............................] - ETA: 18:51 - loss: 221.2218 - vae_r_loss: 160.6636 - vae_kl_loss: 60.5582"
     ]
    },
    {
     "name": "stderr",
     "output_type": "stream",
     "text": [
      "/home/jupyter/GDL_code/env/lib/python3.5/site-packages/keras/callbacks.py:122: UserWarning: Method on_batch_end() is slow compared to the batch update (0.134406). Check your callbacks.\n",
      "  % delta_t_median)\n"
     ]
    },
    {
     "name": "stdout",
     "output_type": "stream",
     "text": [
      "6332/6331 [==============================] - 1606s 254ms/step - loss: 217.2342 - vae_r_loss: 158.1779 - vae_kl_loss: 59.0563\n",
      "\n",
      "Epoch 00124: saving model to run/vae/0001_faces/weights/weights-124-217.24.h5\n",
      "\n",
      "Epoch 00124: saving model to run/vae/0001_faces/weights/weights.h5\n",
      "Epoch 125/200\n",
      "   2/6331 [..............................] - ETA: 19:27 - loss: 208.5906 - vae_r_loss: 148.2996 - vae_kl_loss: 60.2910"
     ]
    },
    {
     "name": "stderr",
     "output_type": "stream",
     "text": [
      "/home/jupyter/GDL_code/env/lib/python3.5/site-packages/keras/callbacks.py:122: UserWarning: Method on_batch_end() is slow compared to the batch update (0.176998). Check your callbacks.\n",
      "  % delta_t_median)\n",
      "/home/jupyter/GDL_code/env/lib/python3.5/site-packages/keras/callbacks.py:122: UserWarning: Method on_batch_end() is slow compared to the batch update (0.103792). Check your callbacks.\n",
      "  % delta_t_median)\n"
     ]
    },
    {
     "name": "stdout",
     "output_type": "stream",
     "text": [
      "6332/6331 [==============================] - 1656s 262ms/step - loss: 217.1646 - vae_r_loss: 158.1334 - vae_kl_loss: 59.0312\n",
      "\n",
      "Epoch 00125: saving model to run/vae/0001_faces/weights/weights-125-217.17.h5\n",
      "\n",
      "Epoch 00125: saving model to run/vae/0001_faces/weights/weights.h5\n",
      "Epoch 126/200\n",
      "   2/6331 [..............................] - ETA: 18:50 - loss: 227.2796 - vae_r_loss: 166.4745 - vae_kl_loss: 60.8051"
     ]
    },
    {
     "name": "stderr",
     "output_type": "stream",
     "text": [
      "/home/jupyter/GDL_code/env/lib/python3.5/site-packages/keras/callbacks.py:122: UserWarning: Method on_batch_end() is slow compared to the batch update (0.125423). Check your callbacks.\n",
      "  % delta_t_median)\n"
     ]
    },
    {
     "name": "stdout",
     "output_type": "stream",
     "text": [
      "6332/6331 [==============================] - 1631s 258ms/step - loss: 217.2766 - vae_r_loss: 158.2336 - vae_kl_loss: 59.0430\n",
      "\n",
      "Epoch 00126: saving model to run/vae/0001_faces/weights/weights-126-217.28.h5\n",
      "\n",
      "Epoch 00126: saving model to run/vae/0001_faces/weights/weights.h5\n",
      "Epoch 127/200\n",
      "   2/6331 [..............................] - ETA: 17:46 - loss: 224.9931 - vae_r_loss: 164.2567 - vae_kl_loss: 60.7364"
     ]
    },
    {
     "name": "stderr",
     "output_type": "stream",
     "text": [
      "/home/jupyter/GDL_code/env/lib/python3.5/site-packages/keras/callbacks.py:122: UserWarning: Method on_batch_end() is slow compared to the batch update (0.117476). Check your callbacks.\n",
      "  % delta_t_median)\n"
     ]
    },
    {
     "name": "stdout",
     "output_type": "stream",
     "text": [
      "6332/6331 [==============================] - 1599s 253ms/step - loss: 217.1664 - vae_r_loss: 158.1102 - vae_kl_loss: 59.0562\n",
      "\n",
      "Epoch 00127: saving model to run/vae/0001_faces/weights/weights-127-217.17.h5\n",
      "\n",
      "Epoch 00127: saving model to run/vae/0001_faces/weights/weights.h5\n",
      "Epoch 128/200\n",
      "   2/6331 [..............................] - ETA: 18:10 - loss: 212.0538 - vae_r_loss: 153.6123 - vae_kl_loss: 58.4416"
     ]
    },
    {
     "name": "stderr",
     "output_type": "stream",
     "text": [
      "/home/jupyter/GDL_code/env/lib/python3.5/site-packages/keras/callbacks.py:122: UserWarning: Method on_batch_end() is slow compared to the batch update (0.154845). Check your callbacks.\n",
      "  % delta_t_median)\n"
     ]
    },
    {
     "name": "stdout",
     "output_type": "stream",
     "text": [
      "6332/6331 [==============================] - 1605s 253ms/step - loss: 217.2510 - vae_r_loss: 158.2007 - vae_kl_loss: 59.0503\n",
      "\n",
      "Epoch 00128: saving model to run/vae/0001_faces/weights/weights-128-217.25.h5\n",
      "\n",
      "Epoch 00128: saving model to run/vae/0001_faces/weights/weights.h5\n",
      "Epoch 129/200\n",
      "   2/6331 [..............................] - ETA: 18:00 - loss: 234.3499 - vae_r_loss: 173.4573 - vae_kl_loss: 60.8927"
     ]
    },
    {
     "name": "stderr",
     "output_type": "stream",
     "text": [
      "/home/jupyter/GDL_code/env/lib/python3.5/site-packages/keras/callbacks.py:122: UserWarning: Method on_batch_end() is slow compared to the batch update (0.137075). Check your callbacks.\n",
      "  % delta_t_median)\n"
     ]
    },
    {
     "name": "stdout",
     "output_type": "stream",
     "text": [
      "6332/6331 [==============================] - 1658s 262ms/step - loss: 217.2157 - vae_r_loss: 158.1634 - vae_kl_loss: 59.0523\n",
      "\n",
      "Epoch 00129: saving model to run/vae/0001_faces/weights/weights-129-217.22.h5\n",
      "\n",
      "Epoch 00129: saving model to run/vae/0001_faces/weights/weights.h5\n",
      "Epoch 130/200\n",
      "   2/6331 [..............................] - ETA: 18:16 - loss: 210.3853 - vae_r_loss: 151.4319 - vae_kl_loss: 58.9534"
     ]
    },
    {
     "name": "stderr",
     "output_type": "stream",
     "text": [
      "/home/jupyter/GDL_code/env/lib/python3.5/site-packages/keras/callbacks.py:122: UserWarning: Method on_batch_end() is slow compared to the batch update (0.165313). Check your callbacks.\n",
      "  % delta_t_median)\n"
     ]
    },
    {
     "name": "stdout",
     "output_type": "stream",
     "text": [
      "6332/6331 [==============================] - 1647s 260ms/step - loss: 217.3169 - vae_r_loss: 158.2542 - vae_kl_loss: 59.0627\n",
      "\n",
      "Epoch 00130: saving model to run/vae/0001_faces/weights/weights-130-217.31.h5\n",
      "\n",
      "Epoch 00130: saving model to run/vae/0001_faces/weights/weights.h5\n",
      "Epoch 131/200\n",
      "   2/6331 [..............................] - ETA: 20:15 - loss: 217.7192 - vae_r_loss: 157.0028 - vae_kl_loss: 60.7165"
     ]
    },
    {
     "name": "stderr",
     "output_type": "stream",
     "text": [
      "/home/jupyter/GDL_code/env/lib/python3.5/site-packages/keras/callbacks.py:122: UserWarning: Method on_batch_end() is slow compared to the batch update (0.191889). Check your callbacks.\n",
      "  % delta_t_median)\n",
      "/home/jupyter/GDL_code/env/lib/python3.5/site-packages/keras/callbacks.py:122: UserWarning: Method on_batch_end() is slow compared to the batch update (0.107442). Check your callbacks.\n",
      "  % delta_t_median)\n"
     ]
    },
    {
     "name": "stdout",
     "output_type": "stream",
     "text": [
      "6332/6331 [==============================] - 1638s 259ms/step - loss: 217.1119 - vae_r_loss: 158.0908 - vae_kl_loss: 59.0211\n",
      "\n",
      "Epoch 00131: saving model to run/vae/0001_faces/weights/weights-131-217.11.h5\n",
      "\n",
      "Epoch 00131: saving model to run/vae/0001_faces/weights/weights.h5\n",
      "Epoch 132/200\n",
      "   2/6331 [..............................] - ETA: 18:40 - loss: 224.7749 - vae_r_loss: 164.4538 - vae_kl_loss: 60.3211"
     ]
    },
    {
     "name": "stderr",
     "output_type": "stream",
     "text": [
      "/home/jupyter/GDL_code/env/lib/python3.5/site-packages/keras/callbacks.py:122: UserWarning: Method on_batch_end() is slow compared to the batch update (0.131600). Check your callbacks.\n",
      "  % delta_t_median)\n"
     ]
    },
    {
     "name": "stdout",
     "output_type": "stream",
     "text": [
      "6332/6331 [==============================] - 1652s 261ms/step - loss: 217.1822 - vae_r_loss: 158.1137 - vae_kl_loss: 59.0686\n",
      "\n",
      "Epoch 00132: saving model to run/vae/0001_faces/weights/weights-132-217.18.h5\n",
      "\n",
      "Epoch 00132: saving model to run/vae/0001_faces/weights/weights.h5\n",
      "Epoch 133/200\n",
      "   2/6331 [..............................] - ETA: 18:35 - loss: 203.6538 - vae_r_loss: 146.7856 - vae_kl_loss: 56.8682"
     ]
    },
    {
     "name": "stderr",
     "output_type": "stream",
     "text": [
      "/home/jupyter/GDL_code/env/lib/python3.5/site-packages/keras/callbacks.py:122: UserWarning: Method on_batch_end() is slow compared to the batch update (0.123796). Check your callbacks.\n",
      "  % delta_t_median)\n"
     ]
    },
    {
     "name": "stdout",
     "output_type": "stream",
     "text": [
      "6332/6331 [==============================] - 1655s 261ms/step - loss: 217.1844 - vae_r_loss: 158.1276 - vae_kl_loss: 59.0568\n",
      "\n",
      "Epoch 00133: saving model to run/vae/0001_faces/weights/weights-133-217.18.h5\n",
      "\n",
      "Epoch 00133: saving model to run/vae/0001_faces/weights/weights.h5\n",
      "Epoch 134/200\n",
      "   2/6331 [..............................] - ETA: 18:12 - loss: 222.5026 - vae_r_loss: 164.4730 - vae_kl_loss: 58.0296"
     ]
    },
    {
     "name": "stderr",
     "output_type": "stream",
     "text": [
      "/home/jupyter/GDL_code/env/lib/python3.5/site-packages/keras/callbacks.py:122: UserWarning: Method on_batch_end() is slow compared to the batch update (0.153139). Check your callbacks.\n",
      "  % delta_t_median)\n"
     ]
    },
    {
     "name": "stdout",
     "output_type": "stream",
     "text": [
      "6332/6331 [==============================] - 1653s 261ms/step - loss: 217.1347 - vae_r_loss: 158.1037 - vae_kl_loss: 59.0310\n",
      "\n",
      "Epoch 00134: saving model to run/vae/0001_faces/weights/weights-134-217.13.h5\n",
      "\n",
      "Epoch 00134: saving model to run/vae/0001_faces/weights/weights.h5\n",
      "Epoch 135/200\n",
      "   2/6331 [..............................] - ETA: 19:01 - loss: 217.4820 - vae_r_loss: 155.8631 - vae_kl_loss: 61.6189"
     ]
    },
    {
     "name": "stderr",
     "output_type": "stream",
     "text": [
      "/home/jupyter/GDL_code/env/lib/python3.5/site-packages/keras/callbacks.py:122: UserWarning: Method on_batch_end() is slow compared to the batch update (0.139806). Check your callbacks.\n",
      "  % delta_t_median)\n"
     ]
    },
    {
     "name": "stdout",
     "output_type": "stream",
     "text": [
      "6332/6331 [==============================] - 1639s 259ms/step - loss: 217.1602 - vae_r_loss: 158.1238 - vae_kl_loss: 59.0364\n",
      "\n",
      "Epoch 00135: saving model to run/vae/0001_faces/weights/weights-135-217.16.h5\n",
      "\n",
      "Epoch 00135: saving model to run/vae/0001_faces/weights/weights.h5\n",
      "Epoch 136/200\n",
      "   2/6331 [..............................] - ETA: 18:17 - loss: 218.9157 - vae_r_loss: 159.0308 - vae_kl_loss: 59.8849"
     ]
    },
    {
     "name": "stderr",
     "output_type": "stream",
     "text": [
      "/home/jupyter/GDL_code/env/lib/python3.5/site-packages/keras/callbacks.py:122: UserWarning: Method on_batch_end() is slow compared to the batch update (0.138696). Check your callbacks.\n",
      "  % delta_t_median)\n"
     ]
    },
    {
     "name": "stdout",
     "output_type": "stream",
     "text": [
      "6332/6331 [==============================] - 1611s 254ms/step - loss: 217.2004 - vae_r_loss: 158.1507 - vae_kl_loss: 59.0497\n",
      "\n",
      "Epoch 00136: saving model to run/vae/0001_faces/weights/weights-136-217.20.h5\n",
      "\n",
      "Epoch 00136: saving model to run/vae/0001_faces/weights/weights.h5\n",
      "Epoch 137/200\n",
      "   2/6331 [..............................] - ETA: 19:01 - loss: 216.9038 - vae_r_loss: 159.8028 - vae_kl_loss: 57.1010"
     ]
    },
    {
     "name": "stderr",
     "output_type": "stream",
     "text": [
      "/home/jupyter/GDL_code/env/lib/python3.5/site-packages/keras/callbacks.py:122: UserWarning: Method on_batch_end() is slow compared to the batch update (0.159165). Check your callbacks.\n",
      "  % delta_t_median)\n"
     ]
    },
    {
     "name": "stdout",
     "output_type": "stream",
     "text": [
      "6332/6331 [==============================] - 1618s 256ms/step - loss: 217.1925 - vae_r_loss: 158.1469 - vae_kl_loss: 59.0456\n",
      "\n",
      "Epoch 00137: saving model to run/vae/0001_faces/weights/weights-137-217.19.h5\n",
      "\n",
      "Epoch 00137: saving model to run/vae/0001_faces/weights/weights.h5\n",
      "Epoch 138/200\n",
      "   2/6331 [..............................] - ETA: 19:08 - loss: 241.0344 - vae_r_loss: 180.2373 - vae_kl_loss: 60.7971"
     ]
    },
    {
     "name": "stderr",
     "output_type": "stream",
     "text": [
      "/home/jupyter/GDL_code/env/lib/python3.5/site-packages/keras/callbacks.py:122: UserWarning: Method on_batch_end() is slow compared to the batch update (0.118329). Check your callbacks.\n",
      "  % delta_t_median)\n"
     ]
    },
    {
     "name": "stdout",
     "output_type": "stream",
     "text": [
      "6332/6331 [==============================] - 1636s 258ms/step - loss: 217.2120 - vae_r_loss: 158.1356 - vae_kl_loss: 59.0763\n",
      "\n",
      "Epoch 00138: saving model to run/vae/0001_faces/weights/weights-138-217.21.h5\n",
      "\n",
      "Epoch 00138: saving model to run/vae/0001_faces/weights/weights.h5\n",
      "Epoch 139/200\n",
      "   2/6331 [..............................] - ETA: 18:41 - loss: 204.5021 - vae_r_loss: 146.7941 - vae_kl_loss: 57.7080"
     ]
    },
    {
     "name": "stderr",
     "output_type": "stream",
     "text": [
      "/home/jupyter/GDL_code/env/lib/python3.5/site-packages/keras/callbacks.py:122: UserWarning: Method on_batch_end() is slow compared to the batch update (0.157898). Check your callbacks.\n",
      "  % delta_t_median)\n"
     ]
    },
    {
     "name": "stdout",
     "output_type": "stream",
     "text": [
      "6332/6331 [==============================] - 1634s 258ms/step - loss: 217.0929 - vae_r_loss: 158.0471 - vae_kl_loss: 59.0459\n",
      "\n",
      "Epoch 00139: saving model to run/vae/0001_faces/weights/weights-139-217.09.h5\n",
      "\n",
      "Epoch 00139: saving model to run/vae/0001_faces/weights/weights.h5\n",
      "Epoch 140/200\n",
      "6332/6331 [==============================] - 1659s 262ms/step - loss: 217.1337 - vae_r_loss: 158.0994 - vae_kl_loss: 59.0343\n",
      "\n",
      "Epoch 00140: saving model to run/vae/0001_faces/weights/weights-140-217.12.h5\n",
      "\n",
      "Epoch 00140: saving model to run/vae/0001_faces/weights/weights.h5\n",
      "Epoch 141/200\n",
      "   2/6331 [..............................] - ETA: 18:58 - loss: 217.8373 - vae_r_loss: 158.7822 - vae_kl_loss: 59.0551"
     ]
    },
    {
     "name": "stderr",
     "output_type": "stream",
     "text": [
      "/home/jupyter/GDL_code/env/lib/python3.5/site-packages/keras/callbacks.py:122: UserWarning: Method on_batch_end() is slow compared to the batch update (0.137290). Check your callbacks.\n",
      "  % delta_t_median)\n"
     ]
    },
    {
     "name": "stdout",
     "output_type": "stream",
     "text": [
      "6332/6331 [==============================] - 1667s 263ms/step - loss: 217.2657 - vae_r_loss: 158.1766 - vae_kl_loss: 59.0891\n",
      "\n",
      "Epoch 00141: saving model to run/vae/0001_faces/weights/weights-141-217.26.h5\n",
      "\n",
      "Epoch 00141: saving model to run/vae/0001_faces/weights/weights.h5\n",
      "Epoch 142/200\n",
      "   2/6331 [..............................] - ETA: 20:09 - loss: 219.6059 - vae_r_loss: 160.8104 - vae_kl_loss: 58.7955"
     ]
    },
    {
     "name": "stderr",
     "output_type": "stream",
     "text": [
      "/home/jupyter/GDL_code/env/lib/python3.5/site-packages/keras/callbacks.py:122: UserWarning: Method on_batch_end() is slow compared to the batch update (0.118984). Check your callbacks.\n",
      "  % delta_t_median)\n"
     ]
    },
    {
     "name": "stdout",
     "output_type": "stream",
     "text": [
      "6332/6331 [==============================] - 1653s 261ms/step - loss: 217.1566 - vae_r_loss: 158.0913 - vae_kl_loss: 59.0654\n",
      "\n",
      "Epoch 00142: saving model to run/vae/0001_faces/weights/weights-142-217.15.h5\n",
      "\n",
      "Epoch 00142: saving model to run/vae/0001_faces/weights/weights.h5\n",
      "Epoch 143/200\n",
      "   2/6331 [..............................] - ETA: 18:31 - loss: 218.1261 - vae_r_loss: 160.3866 - vae_kl_loss: 57.7396"
     ]
    },
    {
     "name": "stderr",
     "output_type": "stream",
     "text": [
      "/home/jupyter/GDL_code/env/lib/python3.5/site-packages/keras/callbacks.py:122: UserWarning: Method on_batch_end() is slow compared to the batch update (0.149712). Check your callbacks.\n",
      "  % delta_t_median)\n"
     ]
    },
    {
     "name": "stdout",
     "output_type": "stream",
     "text": [
      "6332/6331 [==============================] - 1624s 256ms/step - loss: 217.2158 - vae_r_loss: 158.1404 - vae_kl_loss: 59.0754\n",
      "\n",
      "Epoch 00143: saving model to run/vae/0001_faces/weights/weights-143-217.21.h5\n",
      "\n",
      "Epoch 00143: saving model to run/vae/0001_faces/weights/weights.h5\n",
      "Epoch 144/200\n",
      "   2/6331 [..............................] - ETA: 18:42 - loss: 227.2722 - vae_r_loss: 168.1668 - vae_kl_loss: 59.1054"
     ]
    },
    {
     "name": "stderr",
     "output_type": "stream",
     "text": [
      "/home/jupyter/GDL_code/env/lib/python3.5/site-packages/keras/callbacks.py:122: UserWarning: Method on_batch_end() is slow compared to the batch update (0.148958). Check your callbacks.\n",
      "  % delta_t_median)\n"
     ]
    },
    {
     "name": "stdout",
     "output_type": "stream",
     "text": [
      "6332/6331 [==============================] - 1633s 258ms/step - loss: 217.1448 - vae_r_loss: 158.1158 - vae_kl_loss: 59.0289\n",
      "\n",
      "Epoch 00144: saving model to run/vae/0001_faces/weights/weights-144-217.14.h5\n",
      "\n",
      "Epoch 00144: saving model to run/vae/0001_faces/weights/weights.h5\n",
      "Epoch 145/200\n",
      "   2/6331 [..............................] - ETA: 19:29 - loss: 213.7800 - vae_r_loss: 153.8654 - vae_kl_loss: 59.9146"
     ]
    },
    {
     "name": "stderr",
     "output_type": "stream",
     "text": [
      "/home/jupyter/GDL_code/env/lib/python3.5/site-packages/keras/callbacks.py:122: UserWarning: Method on_batch_end() is slow compared to the batch update (0.169917). Check your callbacks.\n",
      "  % delta_t_median)\n"
     ]
    },
    {
     "name": "stdout",
     "output_type": "stream",
     "text": [
      "6332/6331 [==============================] - 1701s 269ms/step - loss: 217.1268 - vae_r_loss: 158.0518 - vae_kl_loss: 59.0750\n",
      "\n",
      "Epoch 00145: saving model to run/vae/0001_faces/weights/weights-145-217.13.h5\n",
      "\n",
      "Epoch 00145: saving model to run/vae/0001_faces/weights/weights.h5\n",
      "Epoch 146/200\n",
      "6332/6331 [==============================] - 1727s 273ms/step - loss: 217.1517 - vae_r_loss: 158.0881 - vae_kl_loss: 59.0636\n",
      "\n",
      "Epoch 00146: saving model to run/vae/0001_faces/weights/weights-146-217.14.h5\n",
      "\n",
      "Epoch 00146: saving model to run/vae/0001_faces/weights/weights.h5\n",
      "Epoch 147/200\n",
      "   2/6331 [..............................] - ETA: 19:42 - loss: 218.0601 - vae_r_loss: 159.4905 - vae_kl_loss: 58.5696"
     ]
    },
    {
     "name": "stderr",
     "output_type": "stream",
     "text": [
      "/home/jupyter/GDL_code/env/lib/python3.5/site-packages/keras/callbacks.py:122: UserWarning: Method on_batch_end() is slow compared to the batch update (0.138746). Check your callbacks.\n",
      "  % delta_t_median)\n"
     ]
    },
    {
     "name": "stdout",
     "output_type": "stream",
     "text": [
      "6332/6331 [==============================] - 1695s 268ms/step - loss: 217.1832 - vae_r_loss: 158.1280 - vae_kl_loss: 59.0552\n",
      "\n",
      "Epoch 00147: saving model to run/vae/0001_faces/weights/weights-147-217.18.h5\n",
      "\n",
      "Epoch 00147: saving model to run/vae/0001_faces/weights/weights.h5\n",
      "Epoch 148/200\n",
      "   2/6331 [..............................] - ETA: 19:25 - loss: 229.3545 - vae_r_loss: 169.1058 - vae_kl_loss: 60.2487"
     ]
    },
    {
     "name": "stderr",
     "output_type": "stream",
     "text": [
      "/home/jupyter/GDL_code/env/lib/python3.5/site-packages/keras/callbacks.py:122: UserWarning: Method on_batch_end() is slow compared to the batch update (0.139161). Check your callbacks.\n",
      "  % delta_t_median)\n"
     ]
    },
    {
     "name": "stdout",
     "output_type": "stream",
     "text": [
      "6332/6331 [==============================] - 1728s 273ms/step - loss: 217.1038 - vae_r_loss: 158.0542 - vae_kl_loss: 59.0495\n",
      "\n",
      "Epoch 00148: saving model to run/vae/0001_faces/weights/weights-148-217.11.h5\n",
      "\n",
      "Epoch 00148: saving model to run/vae/0001_faces/weights/weights.h5\n",
      "Epoch 149/200\n",
      "   2/6331 [..............................] - ETA: 19:41 - loss: 210.4110 - vae_r_loss: 148.2380 - vae_kl_loss: 62.1730"
     ]
    },
    {
     "name": "stderr",
     "output_type": "stream",
     "text": [
      "/home/jupyter/GDL_code/env/lib/python3.5/site-packages/keras/callbacks.py:122: UserWarning: Method on_batch_end() is slow compared to the batch update (0.177090). Check your callbacks.\n",
      "  % delta_t_median)\n",
      "/home/jupyter/GDL_code/env/lib/python3.5/site-packages/keras/callbacks.py:122: UserWarning: Method on_batch_end() is slow compared to the batch update (0.123369). Check your callbacks.\n",
      "  % delta_t_median)\n"
     ]
    },
    {
     "name": "stdout",
     "output_type": "stream",
     "text": [
      "6332/6331 [==============================] - 1735s 274ms/step - loss: 217.1284 - vae_r_loss: 158.0913 - vae_kl_loss: 59.0371\n",
      "\n",
      "Epoch 00149: saving model to run/vae/0001_faces/weights/weights-149-217.13.h5\n",
      "\n",
      "Epoch 00149: saving model to run/vae/0001_faces/weights/weights.h5\n",
      "Epoch 150/200\n",
      "   2/6331 [..............................] - ETA: 19:48 - loss: 214.7172 - vae_r_loss: 155.5400 - vae_kl_loss: 59.1772"
     ]
    },
    {
     "name": "stderr",
     "output_type": "stream",
     "text": [
      "/home/jupyter/GDL_code/env/lib/python3.5/site-packages/keras/callbacks.py:122: UserWarning: Method on_batch_end() is slow compared to the batch update (0.141299). Check your callbacks.\n",
      "  % delta_t_median)\n"
     ]
    },
    {
     "name": "stdout",
     "output_type": "stream",
     "text": [
      "6332/6331 [==============================] - 1709s 270ms/step - loss: 217.0686 - vae_r_loss: 158.0320 - vae_kl_loss: 59.0366\n",
      "\n",
      "Epoch 00150: saving model to run/vae/0001_faces/weights/weights-150-217.07.h5\n",
      "\n",
      "Epoch 00150: saving model to run/vae/0001_faces/weights/weights.h5\n",
      "Epoch 151/200\n",
      "   2/6331 [..............................] - ETA: 18:42 - loss: 234.6877 - vae_r_loss: 173.5516 - vae_kl_loss: 61.1361"
     ]
    },
    {
     "name": "stderr",
     "output_type": "stream",
     "text": [
      "/home/jupyter/GDL_code/env/lib/python3.5/site-packages/keras/callbacks.py:122: UserWarning: Method on_batch_end() is slow compared to the batch update (0.170880). Check your callbacks.\n",
      "  % delta_t_median)\n"
     ]
    },
    {
     "name": "stdout",
     "output_type": "stream",
     "text": [
      "6332/6331 [==============================] - 1728s 273ms/step - loss: 217.0556 - vae_r_loss: 158.0269 - vae_kl_loss: 59.0288\n",
      "\n",
      "Epoch 00151: saving model to run/vae/0001_faces/weights/weights-151-217.05.h5\n",
      "\n",
      "Epoch 00151: saving model to run/vae/0001_faces/weights/weights.h5\n",
      "Epoch 152/200\n",
      "   2/6331 [..............................] - ETA: 19:48 - loss: 217.8566 - vae_r_loss: 158.8910 - vae_kl_loss: 58.9657"
     ]
    },
    {
     "name": "stderr",
     "output_type": "stream",
     "text": [
      "/home/jupyter/GDL_code/env/lib/python3.5/site-packages/keras/callbacks.py:122: UserWarning: Method on_batch_end() is slow compared to the batch update (0.188225). Check your callbacks.\n",
      "  % delta_t_median)\n",
      "/home/jupyter/GDL_code/env/lib/python3.5/site-packages/keras/callbacks.py:122: UserWarning: Method on_batch_end() is slow compared to the batch update (0.110701). Check your callbacks.\n",
      "  % delta_t_median)\n"
     ]
    },
    {
     "name": "stdout",
     "output_type": "stream",
     "text": [
      "6332/6331 [==============================] - 1729s 273ms/step - loss: 217.0454 - vae_r_loss: 158.0100 - vae_kl_loss: 59.0353\n",
      "\n",
      "Epoch 00152: saving model to run/vae/0001_faces/weights/weights-152-217.04.h5\n",
      "\n",
      "Epoch 00152: saving model to run/vae/0001_faces/weights/weights.h5\n",
      "Epoch 153/200\n",
      "   2/6331 [..............................] - ETA: 19:26 - loss: 223.0945 - vae_r_loss: 164.3905 - vae_kl_loss: 58.7040"
     ]
    },
    {
     "name": "stderr",
     "output_type": "stream",
     "text": [
      "/home/jupyter/GDL_code/env/lib/python3.5/site-packages/keras/callbacks.py:122: UserWarning: Method on_batch_end() is slow compared to the batch update (0.122870). Check your callbacks.\n",
      "  % delta_t_median)\n"
     ]
    },
    {
     "name": "stdout",
     "output_type": "stream",
     "text": [
      "6332/6331 [==============================] - 1713s 271ms/step - loss: 217.0830 - vae_r_loss: 158.0494 - vae_kl_loss: 59.0336\n",
      "\n",
      "Epoch 00153: saving model to run/vae/0001_faces/weights/weights-153-217.08.h5\n",
      "\n",
      "Epoch 00153: saving model to run/vae/0001_faces/weights/weights.h5\n",
      "Epoch 154/200\n",
      "   2/6331 [..............................] - ETA: 19:02 - loss: 213.3195 - vae_r_loss: 155.8025 - vae_kl_loss: 57.5170"
     ]
    },
    {
     "name": "stderr",
     "output_type": "stream",
     "text": [
      "/home/jupyter/GDL_code/env/lib/python3.5/site-packages/keras/callbacks.py:122: UserWarning: Method on_batch_end() is slow compared to the batch update (0.182431). Check your callbacks.\n",
      "  % delta_t_median)\n"
     ]
    },
    {
     "name": "stdout",
     "output_type": "stream",
     "text": [
      "6332/6331 [==============================] - 1664s 263ms/step - loss: 217.0589 - vae_r_loss: 158.0155 - vae_kl_loss: 59.0434\n",
      "\n",
      "Epoch 00154: saving model to run/vae/0001_faces/weights/weights-154-217.06.h5\n",
      "\n",
      "Epoch 00154: saving model to run/vae/0001_faces/weights/weights.h5\n",
      "Epoch 155/200\n",
      "   2/6331 [..............................] - ETA: 18:18 - loss: 220.5251 - vae_r_loss: 158.9542 - vae_kl_loss: 61.5709"
     ]
    },
    {
     "name": "stderr",
     "output_type": "stream",
     "text": [
      "/home/jupyter/GDL_code/env/lib/python3.5/site-packages/keras/callbacks.py:122: UserWarning: Method on_batch_end() is slow compared to the batch update (0.121629). Check your callbacks.\n",
      "  % delta_t_median)\n"
     ]
    },
    {
     "name": "stdout",
     "output_type": "stream",
     "text": [
      "6332/6331 [==============================] - 1651s 261ms/step - loss: 217.0952 - vae_r_loss: 158.0637 - vae_kl_loss: 59.0315\n",
      "\n",
      "Epoch 00155: saving model to run/vae/0001_faces/weights/weights-155-217.09.h5\n",
      "\n",
      "Epoch 00155: saving model to run/vae/0001_faces/weights/weights.h5\n",
      "Epoch 156/200\n",
      "   2/6331 [..............................] - ETA: 18:46 - loss: 215.5131 - vae_r_loss: 157.2067 - vae_kl_loss: 58.3064"
     ]
    },
    {
     "name": "stderr",
     "output_type": "stream",
     "text": [
      "/home/jupyter/GDL_code/env/lib/python3.5/site-packages/keras/callbacks.py:122: UserWarning: Method on_batch_end() is slow compared to the batch update (0.124166). Check your callbacks.\n",
      "  % delta_t_median)\n"
     ]
    },
    {
     "name": "stdout",
     "output_type": "stream",
     "text": [
      "6332/6331 [==============================] - 1660s 262ms/step - loss: 217.1103 - vae_r_loss: 158.0563 - vae_kl_loss: 59.0540\n",
      "\n",
      "Epoch 00156: saving model to run/vae/0001_faces/weights/weights-156-217.11.h5\n",
      "\n",
      "Epoch 00156: saving model to run/vae/0001_faces/weights/weights.h5\n",
      "Epoch 157/200\n",
      "   2/6331 [..............................] - ETA: 19:37 - loss: 224.4301 - vae_r_loss: 161.8039 - vae_kl_loss: 62.6262"
     ]
    },
    {
     "name": "stderr",
     "output_type": "stream",
     "text": [
      "/home/jupyter/GDL_code/env/lib/python3.5/site-packages/keras/callbacks.py:122: UserWarning: Method on_batch_end() is slow compared to the batch update (0.156017). Check your callbacks.\n",
      "  % delta_t_median)\n"
     ]
    },
    {
     "name": "stdout",
     "output_type": "stream",
     "text": [
      "6332/6331 [==============================] - 1637s 258ms/step - loss: 217.0490 - vae_r_loss: 158.0123 - vae_kl_loss: 59.0367\n",
      "\n",
      "Epoch 00157: saving model to run/vae/0001_faces/weights/weights-157-217.05.h5\n",
      "\n",
      "Epoch 00157: saving model to run/vae/0001_faces/weights/weights.h5\n",
      "Epoch 158/200\n",
      "   2/6331 [..............................] - ETA: 17:53 - loss: 209.0651 - vae_r_loss: 151.8328 - vae_kl_loss: 57.2323"
     ]
    },
    {
     "name": "stderr",
     "output_type": "stream",
     "text": [
      "/home/jupyter/GDL_code/env/lib/python3.5/site-packages/keras/callbacks.py:122: UserWarning: Method on_batch_end() is slow compared to the batch update (0.118176). Check your callbacks.\n",
      "  % delta_t_median)\n"
     ]
    },
    {
     "name": "stdout",
     "output_type": "stream",
     "text": [
      "6332/6331 [==============================] - 1602s 253ms/step - loss: 217.1041 - vae_r_loss: 158.0744 - vae_kl_loss: 59.0298\n",
      "\n",
      "Epoch 00158: saving model to run/vae/0001_faces/weights/weights-158-217.10.h5\n",
      "\n",
      "Epoch 00158: saving model to run/vae/0001_faces/weights/weights.h5\n",
      "Epoch 159/200\n",
      "   2/6331 [..............................] - ETA: 17:22 - loss: 225.8995 - vae_r_loss: 166.9575 - vae_kl_loss: 58.9420"
     ]
    },
    {
     "name": "stderr",
     "output_type": "stream",
     "text": [
      "/home/jupyter/GDL_code/env/lib/python3.5/site-packages/keras/callbacks.py:122: UserWarning: Method on_batch_end() is slow compared to the batch update (0.164416). Check your callbacks.\n",
      "  % delta_t_median)\n"
     ]
    },
    {
     "name": "stdout",
     "output_type": "stream",
     "text": [
      "6332/6331 [==============================] - 1666s 263ms/step - loss: 217.0953 - vae_r_loss: 158.0553 - vae_kl_loss: 59.0400\n",
      "\n",
      "Epoch 00159: saving model to run/vae/0001_faces/weights/weights-159-217.09.h5\n",
      "\n",
      "Epoch 00159: saving model to run/vae/0001_faces/weights/weights.h5\n",
      "Epoch 160/200\n",
      "   2/6331 [..............................] - ETA: 18:13 - loss: 213.6728 - vae_r_loss: 154.7689 - vae_kl_loss: 58.9039"
     ]
    },
    {
     "name": "stderr",
     "output_type": "stream",
     "text": [
      "/home/jupyter/GDL_code/env/lib/python3.5/site-packages/keras/callbacks.py:122: UserWarning: Method on_batch_end() is slow compared to the batch update (0.149534). Check your callbacks.\n",
      "  % delta_t_median)\n"
     ]
    },
    {
     "name": "stdout",
     "output_type": "stream",
     "text": [
      "3827/6331 [=================>............] - ETA: 10:50 - loss: 216.9354 - vae_r_loss: 157.9559 - vae_kl_loss: 58.9794"
     ]
    },
    {
     "name": "stderr",
     "output_type": "stream",
     "text": [
      "IOPub message rate exceeded.\n",
      "The notebook server will temporarily stop sending output\n",
      "to the client in order to avoid crashing it.\n",
      "To change this limit, set the config variable\n",
      "`--NotebookApp.iopub_msg_rate_limit`.\n",
      "\n",
      "Current values:\n",
      "NotebookApp.iopub_msg_rate_limit=1000.0 (msgs/sec)\n",
      "NotebookApp.rate_limit_window=3.0 (secs)\n",
      "\n"
     ]
    },
    {
     "name": "stdout",
     "output_type": "stream",
     "text": [
      "6332/6331 [==============================] - 1761s 278ms/step - loss: 216.9916 - vae_r_loss: 157.9286 - vae_kl_loss: 59.0630\n",
      "\n",
      "Epoch 00166: saving model to run/vae/0001_faces/weights/weights-166-216.99.h5\n",
      "\n",
      "Epoch 00166: saving model to run/vae/0001_faces/weights/weights.h5\n",
      "Epoch 167/200\n",
      "   2/6331 [..............................] - ETA: 19:07 - loss: 215.4532 - vae_r_loss: 156.5125 - vae_kl_loss: 58.9407"
     ]
    },
    {
     "name": "stderr",
     "output_type": "stream",
     "text": [
      "/home/jupyter/GDL_code/env/lib/python3.5/site-packages/keras/callbacks.py:122: UserWarning: Method on_batch_end() is slow compared to the batch update (0.128570). Check your callbacks.\n",
      "  % delta_t_median)\n"
     ]
    },
    {
     "name": "stdout",
     "output_type": "stream",
     "text": [
      "6332/6331 [==============================] - 1753s 277ms/step - loss: 216.9895 - vae_r_loss: 157.9502 - vae_kl_loss: 59.0394\n",
      "\n",
      "Epoch 00167: saving model to run/vae/0001_faces/weights/weights-167-216.99.h5\n",
      "\n",
      "Epoch 00167: saving model to run/vae/0001_faces/weights/weights.h5\n",
      "Epoch 168/200\n",
      "6332/6331 [==============================] - 1758s 278ms/step - loss: 216.9985 - vae_r_loss: 157.9954 - vae_kl_loss: 59.0031\n",
      "\n",
      "Epoch 00168: saving model to run/vae/0001_faces/weights/weights-168-217.00.h5\n",
      "\n",
      "Epoch 00168: saving model to run/vae/0001_faces/weights/weights.h5\n",
      "Epoch 169/200\n",
      "   2/6331 [..............................] - ETA: 19:12 - loss: 218.7677 - vae_r_loss: 157.1678 - vae_kl_loss: 61.5999"
     ]
    },
    {
     "name": "stderr",
     "output_type": "stream",
     "text": [
      "/home/jupyter/GDL_code/env/lib/python3.5/site-packages/keras/callbacks.py:122: UserWarning: Method on_batch_end() is slow compared to the batch update (0.118605). Check your callbacks.\n",
      "  % delta_t_median)\n"
     ]
    },
    {
     "name": "stdout",
     "output_type": "stream",
     "text": [
      "6332/6331 [==============================] - 1747s 276ms/step - loss: 216.9996 - vae_r_loss: 157.9411 - vae_kl_loss: 59.0585\n",
      "\n",
      "Epoch 00169: saving model to run/vae/0001_faces/weights/weights-169-217.00.h5\n",
      "\n",
      "Epoch 00169: saving model to run/vae/0001_faces/weights/weights.h5\n",
      "Epoch 170/200\n",
      "   2/6331 [..............................] - ETA: 19:42 - loss: 214.8404 - vae_r_loss: 157.2995 - vae_kl_loss: 57.5409"
     ]
    },
    {
     "name": "stderr",
     "output_type": "stream",
     "text": [
      "/home/jupyter/GDL_code/env/lib/python3.5/site-packages/keras/callbacks.py:122: UserWarning: Method on_batch_end() is slow compared to the batch update (0.109974). Check your callbacks.\n",
      "  % delta_t_median)\n"
     ]
    },
    {
     "name": "stdout",
     "output_type": "stream",
     "text": [
      "6332/6331 [==============================] - 1756s 277ms/step - loss: 217.0800 - vae_r_loss: 158.0171 - vae_kl_loss: 59.0629\n",
      "\n",
      "Epoch 00170: saving model to run/vae/0001_faces/weights/weights-170-217.08.h5\n",
      "\n",
      "Epoch 00170: saving model to run/vae/0001_faces/weights/weights.h5\n",
      "Epoch 171/200\n",
      "   2/6331 [..............................] - ETA: 19:37 - loss: 220.3877 - vae_r_loss: 160.0811 - vae_kl_loss: 60.3066"
     ]
    },
    {
     "name": "stderr",
     "output_type": "stream",
     "text": [
      "/home/jupyter/GDL_code/env/lib/python3.5/site-packages/keras/callbacks.py:122: UserWarning: Method on_batch_end() is slow compared to the batch update (0.179349). Check your callbacks.\n",
      "  % delta_t_median)\n"
     ]
    },
    {
     "name": "stdout",
     "output_type": "stream",
     "text": [
      "6332/6331 [==============================] - 1757s 277ms/step - loss: 216.9327 - vae_r_loss: 157.8712 - vae_kl_loss: 59.0615\n",
      "\n",
      "Epoch 00171: saving model to run/vae/0001_faces/weights/weights-171-216.93.h5\n",
      "\n",
      "Epoch 00171: saving model to run/vae/0001_faces/weights/weights.h5\n",
      "Epoch 172/200\n",
      "   2/6331 [..............................] - ETA: 19:38 - loss: 223.5734 - vae_r_loss: 162.6400 - vae_kl_loss: 60.9335"
     ]
    },
    {
     "name": "stderr",
     "output_type": "stream",
     "text": [
      "/home/jupyter/GDL_code/env/lib/python3.5/site-packages/keras/callbacks.py:122: UserWarning: Method on_batch_end() is slow compared to the batch update (0.128757). Check your callbacks.\n",
      "  % delta_t_median)\n"
     ]
    },
    {
     "name": "stdout",
     "output_type": "stream",
     "text": [
      "6332/6331 [==============================] - 1748s 276ms/step - loss: 217.0617 - vae_r_loss: 158.0337 - vae_kl_loss: 59.0280\n",
      "\n",
      "Epoch 00172: saving model to run/vae/0001_faces/weights/weights-172-217.06.h5\n",
      "\n",
      "Epoch 00172: saving model to run/vae/0001_faces/weights/weights.h5\n",
      "Epoch 173/200\n",
      "   2/6331 [..............................] - ETA: 19:07 - loss: 213.4413 - vae_r_loss: 155.7748 - vae_kl_loss: 57.6665"
     ]
    },
    {
     "name": "stderr",
     "output_type": "stream",
     "text": [
      "/home/jupyter/GDL_code/env/lib/python3.5/site-packages/keras/callbacks.py:122: UserWarning: Method on_batch_end() is slow compared to the batch update (0.117131). Check your callbacks.\n",
      "  % delta_t_median)\n"
     ]
    },
    {
     "name": "stdout",
     "output_type": "stream",
     "text": [
      "6332/6331 [==============================] - 1739s 275ms/step - loss: 217.0102 - vae_r_loss: 157.9436 - vae_kl_loss: 59.0665\n",
      "\n",
      "Epoch 00173: saving model to run/vae/0001_faces/weights/weights-173-217.01.h5\n",
      "\n",
      "Epoch 00173: saving model to run/vae/0001_faces/weights/weights.h5\n",
      "Epoch 174/200\n",
      "   2/6331 [..............................] - ETA: 20:08 - loss: 212.0522 - vae_r_loss: 155.1927 - vae_kl_loss: 56.8595"
     ]
    },
    {
     "name": "stderr",
     "output_type": "stream",
     "text": [
      "/home/jupyter/GDL_code/env/lib/python3.5/site-packages/keras/callbacks.py:122: UserWarning: Method on_batch_end() is slow compared to the batch update (0.162083). Check your callbacks.\n",
      "  % delta_t_median)\n",
      "/home/jupyter/GDL_code/env/lib/python3.5/site-packages/keras/callbacks.py:122: UserWarning: Method on_batch_end() is slow compared to the batch update (0.107953). Check your callbacks.\n",
      "  % delta_t_median)\n"
     ]
    },
    {
     "name": "stdout",
     "output_type": "stream",
     "text": [
      "6332/6331 [==============================] - 1746s 276ms/step - loss: 217.0137 - vae_r_loss: 157.9687 - vae_kl_loss: 59.0450\n",
      "\n",
      "Epoch 00174: saving model to run/vae/0001_faces/weights/weights-174-217.01.h5\n",
      "\n",
      "Epoch 00174: saving model to run/vae/0001_faces/weights/weights.h5\n",
      "Epoch 175/200\n",
      "   2/6331 [..............................] - ETA: 18:28 - loss: 210.0845 - vae_r_loss: 152.8625 - vae_kl_loss: 57.2220"
     ]
    },
    {
     "name": "stderr",
     "output_type": "stream",
     "text": [
      "/home/jupyter/GDL_code/env/lib/python3.5/site-packages/keras/callbacks.py:122: UserWarning: Method on_batch_end() is slow compared to the batch update (0.147936). Check your callbacks.\n",
      "  % delta_t_median)\n"
     ]
    },
    {
     "name": "stdout",
     "output_type": "stream",
     "text": [
      "6332/6331 [==============================] - 1737s 274ms/step - loss: 217.0045 - vae_r_loss: 157.9648 - vae_kl_loss: 59.0398\n",
      "\n",
      "Epoch 00175: saving model to run/vae/0001_faces/weights/weights-175-217.00.h5\n",
      "\n",
      "Epoch 00175: saving model to run/vae/0001_faces/weights/weights.h5\n",
      "Epoch 176/200\n",
      "   2/6331 [..............................] - ETA: 19:18 - loss: 233.9819 - vae_r_loss: 173.9694 - vae_kl_loss: 60.0125"
     ]
    },
    {
     "name": "stderr",
     "output_type": "stream",
     "text": [
      "/home/jupyter/GDL_code/env/lib/python3.5/site-packages/keras/callbacks.py:122: UserWarning: Method on_batch_end() is slow compared to the batch update (0.155492). Check your callbacks.\n",
      "  % delta_t_median)\n"
     ]
    },
    {
     "name": "stdout",
     "output_type": "stream",
     "text": [
      "6332/6331 [==============================] - 1731s 273ms/step - loss: 217.0233 - vae_r_loss: 157.9527 - vae_kl_loss: 59.0705\n",
      "\n",
      "Epoch 00176: saving model to run/vae/0001_faces/weights/weights-176-217.02.h5\n",
      "\n",
      "Epoch 00176: saving model to run/vae/0001_faces/weights/weights.h5\n",
      "Epoch 177/200\n",
      "   2/6331 [..............................] - ETA: 18:54 - loss: 218.0830 - vae_r_loss: 159.6382 - vae_kl_loss: 58.4448"
     ]
    },
    {
     "name": "stderr",
     "output_type": "stream",
     "text": [
      "/home/jupyter/GDL_code/env/lib/python3.5/site-packages/keras/callbacks.py:122: UserWarning: Method on_batch_end() is slow compared to the batch update (0.154713). Check your callbacks.\n",
      "  % delta_t_median)\n",
      "/home/jupyter/GDL_code/env/lib/python3.5/site-packages/keras/callbacks.py:122: UserWarning: Method on_batch_end() is slow compared to the batch update (0.104199). Check your callbacks.\n",
      "  % delta_t_median)\n"
     ]
    },
    {
     "name": "stdout",
     "output_type": "stream",
     "text": [
      "6332/6331 [==============================] - 1740s 275ms/step - loss: 216.9594 - vae_r_loss: 157.9541 - vae_kl_loss: 59.0053\n",
      "\n",
      "Epoch 00177: saving model to run/vae/0001_faces/weights/weights-177-216.95.h5\n",
      "\n",
      "Epoch 00177: saving model to run/vae/0001_faces/weights/weights.h5\n",
      "Epoch 178/200\n",
      "   2/6331 [..............................] - ETA: 19:12 - loss: 211.4454 - vae_r_loss: 153.6132 - vae_kl_loss: 57.8322"
     ]
    },
    {
     "name": "stderr",
     "output_type": "stream",
     "text": [
      "/home/jupyter/GDL_code/env/lib/python3.5/site-packages/keras/callbacks.py:122: UserWarning: Method on_batch_end() is slow compared to the batch update (0.132770). Check your callbacks.\n",
      "  % delta_t_median)\n"
     ]
    },
    {
     "name": "stdout",
     "output_type": "stream",
     "text": [
      "6332/6331 [==============================] - 1736s 274ms/step - loss: 217.0012 - vae_r_loss: 157.9551 - vae_kl_loss: 59.0461\n",
      "\n",
      "Epoch 00178: saving model to run/vae/0001_faces/weights/weights-178-217.01.h5\n",
      "\n",
      "Epoch 00178: saving model to run/vae/0001_faces/weights/weights.h5\n",
      "Epoch 179/200\n",
      "   2/6331 [..............................] - ETA: 20:03 - loss: 226.3080 - vae_r_loss: 167.2366 - vae_kl_loss: 59.0714"
     ]
    },
    {
     "name": "stderr",
     "output_type": "stream",
     "text": [
      "/home/jupyter/GDL_code/env/lib/python3.5/site-packages/keras/callbacks.py:122: UserWarning: Method on_batch_end() is slow compared to the batch update (0.138125). Check your callbacks.\n",
      "  % delta_t_median)\n"
     ]
    },
    {
     "name": "stdout",
     "output_type": "stream",
     "text": [
      "6332/6331 [==============================] - 1737s 274ms/step - loss: 217.0599 - vae_r_loss: 158.0225 - vae_kl_loss: 59.0375\n",
      "\n",
      "Epoch 00179: saving model to run/vae/0001_faces/weights/weights-179-217.06.h5\n",
      "\n",
      "Epoch 00179: saving model to run/vae/0001_faces/weights/weights.h5\n",
      "Epoch 180/200\n",
      "   2/6331 [..............................] - ETA: 19:25 - loss: 213.3485 - vae_r_loss: 155.4637 - vae_kl_loss: 57.8847"
     ]
    },
    {
     "name": "stderr",
     "output_type": "stream",
     "text": [
      "/home/jupyter/GDL_code/env/lib/python3.5/site-packages/keras/callbacks.py:122: UserWarning: Method on_batch_end() is slow compared to the batch update (0.153910). Check your callbacks.\n",
      "  % delta_t_median)\n",
      "/home/jupyter/GDL_code/env/lib/python3.5/site-packages/keras/callbacks.py:122: UserWarning: Method on_batch_end() is slow compared to the batch update (0.103920). Check your callbacks.\n",
      "  % delta_t_median)\n"
     ]
    },
    {
     "name": "stdout",
     "output_type": "stream",
     "text": [
      "6332/6331 [==============================] - 1743s 275ms/step - loss: 216.9141 - vae_r_loss: 157.8811 - vae_kl_loss: 59.0330\n",
      "\n",
      "Epoch 00180: saving model to run/vae/0001_faces/weights/weights-180-216.91.h5\n",
      "\n",
      "Epoch 00180: saving model to run/vae/0001_faces/weights/weights.h5\n",
      "Epoch 181/200\n",
      "   2/6331 [..............................] - ETA: 19:11 - loss: 206.4541 - vae_r_loss: 147.3227 - vae_kl_loss: 59.1314"
     ]
    },
    {
     "name": "stderr",
     "output_type": "stream",
     "text": [
      "/home/jupyter/GDL_code/env/lib/python3.5/site-packages/keras/callbacks.py:122: UserWarning: Method on_batch_end() is slow compared to the batch update (0.152296). Check your callbacks.\n",
      "  % delta_t_median)\n"
     ]
    },
    {
     "name": "stdout",
     "output_type": "stream",
     "text": [
      "6332/6331 [==============================] - 1748s 276ms/step - loss: 216.9814 - vae_r_loss: 157.9539 - vae_kl_loss: 59.0275\n",
      "\n",
      "Epoch 00181: saving model to run/vae/0001_faces/weights/weights-181-216.98.h5\n",
      "\n",
      "Epoch 00181: saving model to run/vae/0001_faces/weights/weights.h5\n",
      "Epoch 182/200\n",
      "   2/6331 [..............................] - ETA: 18:47 - loss: 220.4663 - vae_r_loss: 159.7070 - vae_kl_loss: 60.7593"
     ]
    },
    {
     "name": "stderr",
     "output_type": "stream",
     "text": [
      "/home/jupyter/GDL_code/env/lib/python3.5/site-packages/keras/callbacks.py:122: UserWarning: Method on_batch_end() is slow compared to the batch update (0.173460). Check your callbacks.\n",
      "  % delta_t_median)\n"
     ]
    },
    {
     "name": "stdout",
     "output_type": "stream",
     "text": [
      "6332/6331 [==============================] - 1745s 276ms/step - loss: 217.0071 - vae_r_loss: 157.9566 - vae_kl_loss: 59.0505\n",
      "\n",
      "Epoch 00182: saving model to run/vae/0001_faces/weights/weights-182-217.01.h5\n",
      "\n",
      "Epoch 00182: saving model to run/vae/0001_faces/weights/weights.h5\n",
      "Epoch 183/200\n",
      "   2/6331 [..............................] - ETA: 19:24 - loss: 221.3665 - vae_r_loss: 162.6863 - vae_kl_loss: 58.6801"
     ]
    },
    {
     "name": "stderr",
     "output_type": "stream",
     "text": [
      "/home/jupyter/GDL_code/env/lib/python3.5/site-packages/keras/callbacks.py:122: UserWarning: Method on_batch_end() is slow compared to the batch update (0.159672). Check your callbacks.\n",
      "  % delta_t_median)\n",
      "/home/jupyter/GDL_code/env/lib/python3.5/site-packages/keras/callbacks.py:122: UserWarning: Method on_batch_end() is slow compared to the batch update (0.104169). Check your callbacks.\n",
      "  % delta_t_median)\n"
     ]
    },
    {
     "name": "stdout",
     "output_type": "stream",
     "text": [
      "6332/6331 [==============================] - 1741s 275ms/step - loss: 216.9043 - vae_r_loss: 157.8563 - vae_kl_loss: 59.0480\n",
      "\n",
      "Epoch 00183: saving model to run/vae/0001_faces/weights/weights-183-216.90.h5\n",
      "\n",
      "Epoch 00183: saving model to run/vae/0001_faces/weights/weights.h5\n",
      "Epoch 184/200\n",
      "   2/6331 [..............................] - ETA: 20:12 - loss: 213.9707 - vae_r_loss: 156.6459 - vae_kl_loss: 57.3248"
     ]
    },
    {
     "name": "stderr",
     "output_type": "stream",
     "text": [
      "/home/jupyter/GDL_code/env/lib/python3.5/site-packages/keras/callbacks.py:122: UserWarning: Method on_batch_end() is slow compared to the batch update (0.119294). Check your callbacks.\n",
      "  % delta_t_median)\n"
     ]
    },
    {
     "name": "stdout",
     "output_type": "stream",
     "text": [
      "6332/6331 [==============================] - 1753s 277ms/step - loss: 216.9812 - vae_r_loss: 157.9245 - vae_kl_loss: 59.0567\n",
      "\n",
      "Epoch 00184: saving model to run/vae/0001_faces/weights/weights-184-216.97.h5\n",
      "\n",
      "Epoch 00184: saving model to run/vae/0001_faces/weights/weights.h5\n",
      "Epoch 185/200\n",
      "   2/6331 [..............................] - ETA: 19:09 - loss: 213.3601 - vae_r_loss: 155.5539 - vae_kl_loss: 57.8062"
     ]
    },
    {
     "name": "stderr",
     "output_type": "stream",
     "text": [
      "/home/jupyter/GDL_code/env/lib/python3.5/site-packages/keras/callbacks.py:122: UserWarning: Method on_batch_end() is slow compared to the batch update (0.169679). Check your callbacks.\n",
      "  % delta_t_median)\n"
     ]
    },
    {
     "name": "stdout",
     "output_type": "stream",
     "text": [
      "6332/6331 [==============================] - 1734s 274ms/step - loss: 216.9628 - vae_r_loss: 157.9367 - vae_kl_loss: 59.0261\n",
      "\n",
      "Epoch 00185: saving model to run/vae/0001_faces/weights/weights-185-216.96.h5\n",
      "\n",
      "Epoch 00185: saving model to run/vae/0001_faces/weights/weights.h5\n",
      "Epoch 186/200\n",
      "   2/6331 [..............................] - ETA: 19:05 - loss: 222.4866 - vae_r_loss: 162.4453 - vae_kl_loss: 60.0413"
     ]
    },
    {
     "name": "stderr",
     "output_type": "stream",
     "text": [
      "/home/jupyter/GDL_code/env/lib/python3.5/site-packages/keras/callbacks.py:122: UserWarning: Method on_batch_end() is slow compared to the batch update (0.163922). Check your callbacks.\n",
      "  % delta_t_median)\n"
     ]
    },
    {
     "name": "stdout",
     "output_type": "stream",
     "text": [
      "6332/6331 [==============================] - 1746s 276ms/step - loss: 216.9982 - vae_r_loss: 157.9537 - vae_kl_loss: 59.0445\n",
      "\n",
      "Epoch 00186: saving model to run/vae/0001_faces/weights/weights-186-216.99.h5\n",
      "\n",
      "Epoch 00186: saving model to run/vae/0001_faces/weights/weights.h5\n",
      "Epoch 187/200\n",
      "   2/6331 [..............................] - ETA: 19:56 - loss: 213.9155 - vae_r_loss: 155.7618 - vae_kl_loss: 58.1537"
     ]
    },
    {
     "name": "stderr",
     "output_type": "stream",
     "text": [
      "/home/jupyter/GDL_code/env/lib/python3.5/site-packages/keras/callbacks.py:122: UserWarning: Method on_batch_end() is slow compared to the batch update (0.137633). Check your callbacks.\n",
      "  % delta_t_median)\n"
     ]
    },
    {
     "name": "stdout",
     "output_type": "stream",
     "text": [
      "6332/6331 [==============================] - 1741s 275ms/step - loss: 216.9111 - vae_r_loss: 157.8740 - vae_kl_loss: 59.0371\n",
      "\n",
      "Epoch 00187: saving model to run/vae/0001_faces/weights/weights-187-216.90.h5\n",
      "\n",
      "Epoch 00187: saving model to run/vae/0001_faces/weights/weights.h5\n",
      "Epoch 188/200\n",
      "   2/6331 [..............................] - ETA: 19:45 - loss: 211.3146 - vae_r_loss: 152.6628 - vae_kl_loss: 58.6518"
     ]
    },
    {
     "name": "stderr",
     "output_type": "stream",
     "text": [
      "/home/jupyter/GDL_code/env/lib/python3.5/site-packages/keras/callbacks.py:122: UserWarning: Method on_batch_end() is slow compared to the batch update (0.181868). Check your callbacks.\n",
      "  % delta_t_median)\n",
      "/home/jupyter/GDL_code/env/lib/python3.5/site-packages/keras/callbacks.py:122: UserWarning: Method on_batch_end() is slow compared to the batch update (0.102008). Check your callbacks.\n",
      "  % delta_t_median)\n"
     ]
    },
    {
     "name": "stdout",
     "output_type": "stream",
     "text": [
      "6332/6331 [==============================] - 1746s 276ms/step - loss: 216.9737 - vae_r_loss: 157.9306 - vae_kl_loss: 59.0432\n",
      "\n",
      "Epoch 00188: saving model to run/vae/0001_faces/weights/weights-188-216.97.h5\n",
      "\n",
      "Epoch 00188: saving model to run/vae/0001_faces/weights/weights.h5\n",
      "Epoch 189/200\n",
      "   2/6331 [..............................] - ETA: 18:45 - loss: 211.8711 - vae_r_loss: 152.7656 - vae_kl_loss: 59.1054"
     ]
    },
    {
     "name": "stderr",
     "output_type": "stream",
     "text": [
      "/home/jupyter/GDL_code/env/lib/python3.5/site-packages/keras/callbacks.py:122: UserWarning: Method on_batch_end() is slow compared to the batch update (0.180396). Check your callbacks.\n",
      "  % delta_t_median)\n",
      "/home/jupyter/GDL_code/env/lib/python3.5/site-packages/keras/callbacks.py:122: UserWarning: Method on_batch_end() is slow compared to the batch update (0.114751). Check your callbacks.\n",
      "  % delta_t_median)\n"
     ]
    },
    {
     "name": "stdout",
     "output_type": "stream",
     "text": [
      "6332/6331 [==============================] - 1742s 275ms/step - loss: 216.9713 - vae_r_loss: 157.9305 - vae_kl_loss: 59.0408\n",
      "\n",
      "Epoch 00189: saving model to run/vae/0001_faces/weights/weights-189-216.96.h5\n",
      "\n",
      "Epoch 00189: saving model to run/vae/0001_faces/weights/weights.h5\n",
      "Epoch 190/200\n",
      "   2/6331 [..............................] - ETA: 20:03 - loss: 214.3840 - vae_r_loss: 155.6152 - vae_kl_loss: 58.7688"
     ]
    },
    {
     "name": "stderr",
     "output_type": "stream",
     "text": [
      "/home/jupyter/GDL_code/env/lib/python3.5/site-packages/keras/callbacks.py:122: UserWarning: Method on_batch_end() is slow compared to the batch update (0.140388). Check your callbacks.\n",
      "  % delta_t_median)\n"
     ]
    },
    {
     "name": "stdout",
     "output_type": "stream",
     "text": [
      "6332/6331 [==============================] - 1755s 277ms/step - loss: 217.0005 - vae_r_loss: 157.9416 - vae_kl_loss: 59.0589\n",
      "\n",
      "Epoch 00190: saving model to run/vae/0001_faces/weights/weights-190-217.00.h5\n",
      "\n",
      "Epoch 00190: saving model to run/vae/0001_faces/weights/weights.h5\n",
      "Epoch 191/200\n",
      "   2/6331 [..............................] - ETA: 20:03 - loss: 215.1961 - vae_r_loss: 155.0623 - vae_kl_loss: 60.1338"
     ]
    },
    {
     "name": "stderr",
     "output_type": "stream",
     "text": [
      "/home/jupyter/GDL_code/env/lib/python3.5/site-packages/keras/callbacks.py:122: UserWarning: Method on_batch_end() is slow compared to the batch update (0.143516). Check your callbacks.\n",
      "  % delta_t_median)\n"
     ]
    },
    {
     "name": "stdout",
     "output_type": "stream",
     "text": [
      "6332/6331 [==============================] - 1746s 276ms/step - loss: 216.9256 - vae_r_loss: 157.8592 - vae_kl_loss: 59.0665\n",
      "\n",
      "Epoch 00191: saving model to run/vae/0001_faces/weights/weights-191-216.92.h5\n",
      "\n",
      "Epoch 00191: saving model to run/vae/0001_faces/weights/weights.h5\n",
      "Epoch 192/200\n",
      "   2/6331 [..............................] - ETA: 18:43 - loss: 206.5150 - vae_r_loss: 148.3697 - vae_kl_loss: 58.1453"
     ]
    },
    {
     "name": "stderr",
     "output_type": "stream",
     "text": [
      "/home/jupyter/GDL_code/env/lib/python3.5/site-packages/keras/callbacks.py:122: UserWarning: Method on_batch_end() is slow compared to the batch update (0.173650). Check your callbacks.\n",
      "  % delta_t_median)\n",
      "/home/jupyter/GDL_code/env/lib/python3.5/site-packages/keras/callbacks.py:122: UserWarning: Method on_batch_end() is slow compared to the batch update (0.103429). Check your callbacks.\n",
      "  % delta_t_median)\n"
     ]
    },
    {
     "name": "stdout",
     "output_type": "stream",
     "text": [
      "6332/6331 [==============================] - 1747s 276ms/step - loss: 216.9378 - vae_r_loss: 157.9003 - vae_kl_loss: 59.0375\n",
      "\n",
      "Epoch 00192: saving model to run/vae/0001_faces/weights/weights-192-216.94.h5\n",
      "\n",
      "Epoch 00192: saving model to run/vae/0001_faces/weights/weights.h5\n",
      "Epoch 193/200\n",
      "   2/6331 [..............................] - ETA: 18:57 - loss: 227.2245 - vae_r_loss: 167.4059 - vae_kl_loss: 59.8187"
     ]
    },
    {
     "name": "stderr",
     "output_type": "stream",
     "text": [
      "/home/jupyter/GDL_code/env/lib/python3.5/site-packages/keras/callbacks.py:122: UserWarning: Method on_batch_end() is slow compared to the batch update (0.181328). Check your callbacks.\n",
      "  % delta_t_median)\n",
      "/home/jupyter/GDL_code/env/lib/python3.5/site-packages/keras/callbacks.py:122: UserWarning: Method on_batch_end() is slow compared to the batch update (0.106984). Check your callbacks.\n",
      "  % delta_t_median)\n"
     ]
    },
    {
     "name": "stdout",
     "output_type": "stream",
     "text": [
      "6332/6331 [==============================] - 1753s 277ms/step - loss: 216.8965 - vae_r_loss: 157.8575 - vae_kl_loss: 59.0391\n",
      "\n",
      "Epoch 00193: saving model to run/vae/0001_faces/weights/weights-193-216.89.h5\n",
      "\n",
      "Epoch 00193: saving model to run/vae/0001_faces/weights/weights.h5\n",
      "Epoch 194/200\n",
      "6332/6331 [==============================] - 1757s 277ms/step - loss: 216.9953 - vae_r_loss: 157.9527 - vae_kl_loss: 59.0426\n",
      "\n",
      "Epoch 00194: saving model to run/vae/0001_faces/weights/weights-194-216.99.h5\n",
      "\n",
      "Epoch 00194: saving model to run/vae/0001_faces/weights/weights.h5\n",
      "Epoch 195/200\n",
      "   2/6331 [..............................] - ETA: 19:09 - loss: 210.5886 - vae_r_loss: 152.7201 - vae_kl_loss: 57.8685"
     ]
    },
    {
     "name": "stderr",
     "output_type": "stream",
     "text": [
      "/home/jupyter/GDL_code/env/lib/python3.5/site-packages/keras/callbacks.py:122: UserWarning: Method on_batch_end() is slow compared to the batch update (0.159883). Check your callbacks.\n",
      "  % delta_t_median)\n"
     ]
    },
    {
     "name": "stdout",
     "output_type": "stream",
     "text": [
      "6332/6331 [==============================] - 1749s 276ms/step - loss: 216.9119 - vae_r_loss: 157.8784 - vae_kl_loss: 59.0335\n",
      "\n",
      "Epoch 00195: saving model to run/vae/0001_faces/weights/weights-195-216.91.h5\n",
      "\n",
      "Epoch 00195: saving model to run/vae/0001_faces/weights/weights.h5\n",
      "Epoch 196/200\n",
      "   2/6331 [..............................] - ETA: 20:08 - loss: 209.7015 - vae_r_loss: 150.7601 - vae_kl_loss: 58.9414"
     ]
    },
    {
     "name": "stderr",
     "output_type": "stream",
     "text": [
      "/home/jupyter/GDL_code/env/lib/python3.5/site-packages/keras/callbacks.py:122: UserWarning: Method on_batch_end() is slow compared to the batch update (0.129866). Check your callbacks.\n",
      "  % delta_t_median)\n"
     ]
    },
    {
     "name": "stdout",
     "output_type": "stream",
     "text": [
      "6332/6331 [==============================] - 1755s 277ms/step - loss: 216.9314 - vae_r_loss: 157.8831 - vae_kl_loss: 59.0483\n",
      "\n",
      "Epoch 00196: saving model to run/vae/0001_faces/weights/weights-196-216.93.h5\n",
      "\n",
      "Epoch 00196: saving model to run/vae/0001_faces/weights/weights.h5\n",
      "Epoch 197/200\n",
      "   2/6331 [..............................] - ETA: 18:48 - loss: 221.4736 - vae_r_loss: 162.7293 - vae_kl_loss: 58.7443"
     ]
    },
    {
     "name": "stderr",
     "output_type": "stream",
     "text": [
      "/home/jupyter/GDL_code/env/lib/python3.5/site-packages/keras/callbacks.py:122: UserWarning: Method on_batch_end() is slow compared to the batch update (0.127671). Check your callbacks.\n",
      "  % delta_t_median)\n"
     ]
    },
    {
     "name": "stdout",
     "output_type": "stream",
     "text": [
      "6332/6331 [==============================] - 1754s 277ms/step - loss: 216.9280 - vae_r_loss: 157.8971 - vae_kl_loss: 59.0310\n",
      "\n",
      "Epoch 00197: saving model to run/vae/0001_faces/weights/weights-197-216.93.h5\n",
      "\n",
      "Epoch 00197: saving model to run/vae/0001_faces/weights/weights.h5\n",
      "Epoch 198/200\n",
      "   2/6331 [..............................] - ETA: 19:40 - loss: 208.6600 - vae_r_loss: 149.5630 - vae_kl_loss: 59.0970"
     ]
    },
    {
     "name": "stderr",
     "output_type": "stream",
     "text": [
      "/home/jupyter/GDL_code/env/lib/python3.5/site-packages/keras/callbacks.py:122: UserWarning: Method on_batch_end() is slow compared to the batch update (0.175756). Check your callbacks.\n",
      "  % delta_t_median)\n",
      "/home/jupyter/GDL_code/env/lib/python3.5/site-packages/keras/callbacks.py:122: UserWarning: Method on_batch_end() is slow compared to the batch update (0.112081). Check your callbacks.\n",
      "  % delta_t_median)\n"
     ]
    },
    {
     "name": "stdout",
     "output_type": "stream",
     "text": [
      "6332/6331 [==============================] - 1757s 277ms/step - loss: 216.9430 - vae_r_loss: 157.9114 - vae_kl_loss: 59.0317\n",
      "\n",
      "Epoch 00198: saving model to run/vae/0001_faces/weights/weights-198-216.94.h5\n",
      "\n",
      "Epoch 00198: saving model to run/vae/0001_faces/weights/weights.h5\n",
      "Epoch 199/200\n",
      "   2/6331 [..............................] - ETA: 19:01 - loss: 211.4890 - vae_r_loss: 152.3988 - vae_kl_loss: 59.0902"
     ]
    },
    {
     "name": "stderr",
     "output_type": "stream",
     "text": [
      "/home/jupyter/GDL_code/env/lib/python3.5/site-packages/keras/callbacks.py:122: UserWarning: Method on_batch_end() is slow compared to the batch update (0.163861). Check your callbacks.\n",
      "  % delta_t_median)\n"
     ]
    },
    {
     "name": "stdout",
     "output_type": "stream",
     "text": [
      "6332/6331 [==============================] - 1760s 278ms/step - loss: 216.8629 - vae_r_loss: 157.8460 - vae_kl_loss: 59.0170\n",
      "\n",
      "Epoch 00199: saving model to run/vae/0001_faces/weights/weights-199-216.86.h5\n",
      "\n",
      "Epoch 00199: saving model to run/vae/0001_faces/weights/weights.h5\n",
      "Epoch 200/200\n",
      "   2/6331 [..............................] - ETA: 19:34 - loss: 223.4222 - vae_r_loss: 164.4930 - vae_kl_loss: 58.9292"
     ]
    },
    {
     "name": "stderr",
     "output_type": "stream",
     "text": [
      "/home/jupyter/GDL_code/env/lib/python3.5/site-packages/keras/callbacks.py:122: UserWarning: Method on_batch_end() is slow compared to the batch update (0.143169). Check your callbacks.\n",
      "  % delta_t_median)\n"
     ]
    },
    {
     "name": "stdout",
     "output_type": "stream",
     "text": [
      "6332/6331 [==============================] - 1757s 277ms/step - loss: 216.9563 - vae_r_loss: 157.9158 - vae_kl_loss: 59.0405\n",
      "\n",
      "Epoch 00200: saving model to run/vae/0001_faces/weights/weights-200-216.96.h5\n",
      "\n",
      "Epoch 00200: saving model to run/vae/0001_faces/weights/weights.h5\n"
     ]
    }
   ],
   "source": [
    "vae.train_with_generator(     \n",
    "    data_flow\n",
    "    , epochs = EPOCHS\n",
    "    , steps_per_epoch = NUM_IMAGES / BATCH_SIZE\n",
    "    , run_folder = RUN_FOLDER\n",
    "    , print_every_n_batches = PRINT_EVERY_N_BATCHES\n",
    "    , initial_epoch = INITIAL_EPOCH\n",
    ")"
   ]
  },
  {
   "cell_type": "code",
   "execution_count": null,
   "metadata": {},
   "outputs": [],
   "source": []
  }
 ],
 "metadata": {
  "kernelspec": {
   "display_name": "Python 3 (ipykernel)",
   "language": "python",
   "name": "python3"
  },
  "language_info": {
   "codemirror_mode": {
    "name": "ipython",
    "version": 3
   },
   "file_extension": ".py",
   "mimetype": "text/x-python",
   "name": "python",
   "nbconvert_exporter": "python",
   "pygments_lexer": "ipython3",
   "version": "3.8.16"
  }
 },
 "nbformat": 4,
 "nbformat_minor": 2
}
