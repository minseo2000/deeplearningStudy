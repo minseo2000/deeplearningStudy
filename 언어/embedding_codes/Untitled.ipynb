{
 "cells": [
  {
   "cell_type": "markdown",
   "id": "1793732c",
   "metadata": {},
   "source": [
    "- 단어를 토큰으로 인코딩하는 방법을 배웠다\n",
    "\n",
    "- 단어로 구성된 문장을 토큰의 시퀀스로 인코딩하는 방법을 배웠다.\n",
    "\n",
    "- 신경망 형태에 맞게 패딩하는 방법도 배웠다.\n",
    "\n",
    "- 고차원 공간의 벡터로 단어를 표현하는 임베딩에 대해 다뤄보자.\n",
    "\n",
    "- 말뭉치에서 단어가 사용되는 방식을 기반으로 이 벡터의 방향을 학습시킬 수 있다. \n",
    "\n",
    "- 문장이 주어지면, 단어 벡터의 방향을 조사하고 이를 모두 더한다.\n",
    "\n",
    "- 이런 덧셈이 만드는 전반적인 방향이 단어로 구성된 문장의 감성을 형성한다?\n",
    "\n",
    "# 감성 프로그래밍의 작동 방식\n",
    "- 5장에서 사용한 sarcasm 데이터셋을 사용해 임베딩으로 문장에서 빈정거림을 감지하는 모델을 만들자.\n"
   ]
  },
  {
   "cell_type": "code",
   "execution_count": null,
   "id": "a2e62df8",
   "metadata": {},
   "outputs": [],
   "source": [
    "import numpy as np\n",
    "import tensorflow as tf\n",
    "import tensorflow_datasets as tsdf\n",
    "\n",
    "training_padded = np.array(training_padded)\n",
    "training_labels = np.array(training_labels)\n",
    "testing_padded = np.array(testing_padded)\n",
    "testing_labels = np.array(testing_labels)\n",
    "\n"
   ]
  }
 ],
 "metadata": {
  "kernelspec": {
   "display_name": "Python 3 (ipykernel)",
   "language": "python",
   "name": "python3"
  },
  "language_info": {
   "codemirror_mode": {
    "name": "ipython",
    "version": 3
   },
   "file_extension": ".py",
   "mimetype": "text/x-python",
   "name": "python",
   "nbconvert_exporter": "python",
   "pygments_lexer": "ipython3",
   "version": "3.8.16"
  }
 },
 "nbformat": 4,
 "nbformat_minor": 5
}
